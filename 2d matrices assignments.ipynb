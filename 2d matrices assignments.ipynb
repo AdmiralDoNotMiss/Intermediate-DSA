{
 "cells": [
  {
   "cell_type": "code",
   "execution_count": 1,
   "id": "1866099d",
   "metadata": {},
   "outputs": [
    {
     "data": {
      "text/plain": [
       "6"
      ]
     },
     "execution_count": 1,
     "metadata": {},
     "output_type": "execute_result"
    }
   ],
   "source": [
    "s = 'scaler'\n",
    "len(s)"
   ]
  },
  {
   "cell_type": "code",
   "execution_count": 2,
   "id": "80adf408",
   "metadata": {},
   "outputs": [
    {
     "name": "stdout",
     "output_type": "stream",
     "text": [
      "6\n"
     ]
    }
   ],
   "source": [
    "print(len(s))"
   ]
  },
  {
   "cell_type": "code",
   "execution_count": 3,
   "id": "d36dd1a7",
   "metadata": {},
   "outputs": [],
   "source": [
    "i= 'interviewbit'"
   ]
  },
  {
   "cell_type": "code",
   "execution_count": 4,
   "id": "2faaa4b2",
   "metadata": {},
   "outputs": [
    {
     "name": "stdout",
     "output_type": "stream",
     "text": [
      "12\n"
     ]
    }
   ],
   "source": [
    "print(len(i))"
   ]
  },
  {
   "cell_type": "code",
   "execution_count": 6,
   "id": "61b2198f",
   "metadata": {},
   "outputs": [
    {
     "name": "stdout",
     "output_type": "stream",
     "text": [
      "give a string: scalerinterviewbit\n",
      "the count of vowel is: 7\n",
      "the count of consonants is :11\n"
     ]
    }
   ],
   "source": [
    "s = input('give a string: ')\n",
    "vowel = 0\n",
    "consonants = 0\n",
    "for c in s:\n",
    "    if c in 'aeiou':\n",
    "        vowel+=1\n",
    "    else:\n",
    "        consonants+=1\n",
    "print('the count of vowel is:',vowel)\n",
    "print(f'the count of consonants is :{consonants}')\n"
   ]
  },
  {
   "cell_type": "code",
   "execution_count": 7,
   "id": "f46ed85b",
   "metadata": {},
   "outputs": [],
   "source": [
    "A = [\n",
    "    [1,0,0],\n",
    "    [0,1,1],\n",
    "    [0,0,1]\n",
    "]\n",
    "\n"
   ]
  },
  {
   "cell_type": "code",
   "execution_count": 11,
   "id": "2824f990",
   "metadata": {},
   "outputs": [],
   "source": [
    "def is_identity_matrix(a):\n",
    "    for r in range(len(a)):\n",
    "        for c in range(len(a[0])):\n",
    "            if r == c and a[r][c]!=1:\n",
    "                return False\n",
    "    \n",
    "    return True        "
   ]
  },
  {
   "cell_type": "code",
   "execution_count": 12,
   "id": "0a16a461",
   "metadata": {},
   "outputs": [
    {
     "data": {
      "text/plain": [
       "False"
      ]
     },
     "execution_count": 12,
     "metadata": {},
     "output_type": "execute_result"
    }
   ],
   "source": [
    "is_identity_matrix([\n",
    "    [1,0,0],\n",
    "    [0,1,1],\n",
    "    [0,0,4]\n",
    "]\n",
    ")"
   ]
  },
  {
   "cell_type": "code",
   "execution_count": null,
   "id": "6988113b",
   "metadata": {},
   "outputs": [],
   "source": [
    "A = list(map(int,input().split()))\n",
    "def shift_elements(A):\n",
    "    last_element = A[-1]\n",
    "    for i in range(len(A)-1,0,-1):\n",
    "        A[i]=A[i-1]\n",
    "    A[0]=last_element\n",
    "    return A"
   ]
  },
  {
   "cell_type": "code",
   "execution_count": null,
   "id": "5d8dd697",
   "metadata": {},
   "outputs": [],
   "source": [
    "shift_elements(A)"
   ]
  },
  {
   "cell_type": "code",
   "execution_count": 19,
   "id": "45fb2ea1",
   "metadata": {},
   "outputs": [
    {
     "name": "stdout",
     "output_type": "stream",
     "text": [
      "1\n",
      "2\n",
      "3\n",
      "4\n"
     ]
    }
   ],
   "source": [
    "A =[1,2,3,4,5]\n",
    "for i in range(len(A)-1):\n",
    "    print(A[i])"
   ]
  },
  {
   "cell_type": "code",
   "execution_count": 27,
   "id": "39d614eb",
   "metadata": {},
   "outputs": [
    {
     "name": "stdout",
     "output_type": "stream",
     "text": [
      "1 2 3 4 5\n",
      "[5, 1, 2, 3, 4]\n"
     ]
    }
   ],
   "source": [
    "A = list(map(int, input().split()))\n",
    "\n",
    "def shift_elements(A):\n",
    "    last_element = A[-1]\n",
    "    for i in range(len(A)-1, 0, -1):\n",
    "        A[i] = A[i-1]\n",
    "    A[0] = last_element\n",
    "    return A\n",
    "\n",
    "print(shift_elements(A))"
   ]
  },
  {
   "cell_type": "code",
   "execution_count": 29,
   "id": "a4810573",
   "metadata": {},
   "outputs": [],
   "source": [
    "def largest_in_each_row(A):\n",
    "    largest_elements= []\n",
    "    for row in A:\n",
    "        largest_elements.append(max(row))\n",
    "    return largest_elements\n",
    "\n",
    "    "
   ]
  },
  {
   "cell_type": "code",
   "execution_count": 31,
   "id": "ca8dfb84",
   "metadata": {},
   "outputs": [
    {
     "data": {
      "text/plain": [
       "[3, 6, 9]"
      ]
     },
     "execution_count": 31,
     "metadata": {},
     "output_type": "execute_result"
    }
   ],
   "source": [
    "largest_in_each_row([\n",
    "    [1,2,3],\n",
    "    [4,5,6],\n",
    "    [7,8,9]\n",
    "])"
   ]
  },
  {
   "cell_type": "code",
   "execution_count": null,
   "id": "a6682fb6",
   "metadata": {},
   "outputs": [],
   "source": []
  }
 ],
 "metadata": {
  "kernelspec": {
   "display_name": "Python 3 (ipykernel)",
   "language": "python",
   "name": "python3"
  },
  "language_info": {
   "codemirror_mode": {
    "name": "ipython",
    "version": 3
   },
   "file_extension": ".py",
   "mimetype": "text/x-python",
   "name": "python",
   "nbconvert_exporter": "python",
   "pygments_lexer": "ipython3",
   "version": "3.11.2"
  }
 },
 "nbformat": 4,
 "nbformat_minor": 5
}
