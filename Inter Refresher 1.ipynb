{
 "cells": [
  {
   "cell_type": "code",
   "execution_count": 1,
   "id": "2f416ca6",
   "metadata": {},
   "outputs": [
    {
     "name": "stdout",
     "output_type": "stream",
     "text": [
      "3\n",
      "2\n",
      "1 1\n"
     ]
    }
   ],
   "source": [
    "x = int(input())\n",
    "y = int(input())\n",
    "q = 0\n",
    "r = 0\n",
    "while x >= y:\n",
    "    x -= y\n",
    "    q+=1\n",
    "print(q,x)"
   ]
  },
  {
   "cell_type": "code",
   "execution_count": 8,
   "id": "bd96b5f0",
   "metadata": {},
   "outputs": [
    {
     "name": "stdout",
     "output_type": "stream",
     "text": [
      "2\n",
      "4\n",
      "6\n",
      "8\n",
      "10\n",
      "12\n"
     ]
    }
   ],
   "source": [
    "z = 0\n",
    "while z <= 11:\n",
    "    z += 2\n",
    "    print(z)"
   ]
  },
  {
   "cell_type": "code",
   "execution_count": 9,
   "id": "cf34f2c8",
   "metadata": {},
   "outputs": [
    {
     "name": "stdout",
     "output_type": "stream",
     "text": [
      "0 2 4 "
     ]
    }
   ],
   "source": [
    "i=0\n",
    "while i<=5:\n",
    "    if i%2:\n",
    "        pass\n",
    "    else:\n",
    "        print(i, end=\" \")\n",
    "    i+=1"
   ]
  },
  {
   "cell_type": "code",
   "execution_count": 11,
   "id": "dca947f4",
   "metadata": {},
   "outputs": [
    {
     "name": "stdout",
     "output_type": "stream",
     "text": [
      "5\n"
     ]
    }
   ],
   "source": [
    "n = 121231141\n",
    "count = 0\n",
    "while n > 0:\n",
    "    last_digit = n % 10\n",
    "    if last_digit == 1:\n",
    "        count += 1\n",
    "    n = n//10\n",
    "print(count)"
   ]
  },
  {
   "cell_type": "code",
   "execution_count": 12,
   "id": "0932d490",
   "metadata": {},
   "outputs": [
    {
     "name": "stdout",
     "output_type": "stream",
     "text": [
      "0 "
     ]
    }
   ],
   "source": [
    "x = 1\n",
    "for i in range(x):\n",
    "    x=x+1\n",
    "    print(i, end= \" \")"
   ]
  },
  {
   "cell_type": "code",
   "execution_count": 14,
   "id": "1b107bd3",
   "metadata": {},
   "outputs": [
    {
     "name": "stdout",
     "output_type": "stream",
     "text": [
      "4321\n"
     ]
    }
   ],
   "source": [
    "x = 1234\n",
    "reverse_x = 0\n",
    "while x > 0:\n",
    "    last_digit = x % 10\n",
    "    reverse_x = (reverse_x * 10) + last_digit\n",
    "    x = x//10\n",
    "print(reverse_x)"
   ]
  },
  {
   "cell_type": "code",
   "execution_count": 15,
   "id": "c686daed",
   "metadata": {},
   "outputs": [
    {
     "name": "stdout",
     "output_type": "stream",
     "text": [
      "10\n"
     ]
    }
   ],
   "source": [
    "n = 1234\n",
    "sum = 0\n",
    "while n > 0:\n",
    "    digit = n % 10\n",
    "    sum += digit\n",
    "    n = n//10\n",
    "print(sum)\n"
   ]
  },
  {
   "cell_type": "code",
   "execution_count": 20,
   "id": "6d8b854e",
   "metadata": {},
   "outputs": [
    {
     "name": "stdout",
     "output_type": "stream",
     "text": [
      "right angle triangle\n"
     ]
    }
   ],
   "source": [
    "a = 3\n",
    "b = 4\n",
    "c = 5\n",
    "if a==b and a==c:\n",
    "    print('equilateral triangle')\n",
    "elif a==b or a==c:\n",
    "    print('issoceles triangle')\n",
    "elif a!=b and a !=c:\n",
    "    print('right angle triangle')"
   ]
  },
  {
   "cell_type": "code",
   "execution_count": 9,
   "id": "eae2ad77",
   "metadata": {},
   "outputs": [
    {
     "name": "stdout",
     "output_type": "stream",
     "text": [
      "1\n",
      "12\n",
      "123\n",
      "1234\n",
      "12345\n"
     ]
    }
   ],
   "source": [
    "n=5\n",
    "for i in range(1,n+1):\n",
    "    for j in range(1,n+1):\n",
    "        if j<=i:\n",
    "            print(j,end='')\n",
    "    print()\n"
   ]
  },
  {
   "cell_type": "code",
   "execution_count": 2,
   "id": "8b199aaa",
   "metadata": {},
   "outputs": [
    {
     "name": "stdout",
     "output_type": "stream",
     "text": [
      "5\n",
      "120\n"
     ]
    }
   ],
   "source": [
    "n = int(input())\n",
    "ans = 1\n",
    "while n:\n",
    "    if not n:\n",
    "        break\n",
    "    ans = ans * n\n",
    "    n = n - 1\n",
    "print(ans)"
   ]
  },
  {
   "cell_type": "code",
   "execution_count": 5,
   "id": "7cc12a95",
   "metadata": {},
   "outputs": [
    {
     "name": "stdout",
     "output_type": "stream",
     "text": [
      "3\n"
     ]
    }
   ],
   "source": [
    "a = 1\n",
    "b = 2\n",
    "c = 3\n",
    "if a > b:\n",
    "    if a > c:\n",
    "        print(a)\n",
    "    else:\n",
    "        print(c)\n",
    "else:\n",
    "    if b > c:\n",
    "        print(b)\n",
    "    else:\n",
    "        print(c)"
   ]
  },
  {
   "cell_type": "code",
   "execution_count": 8,
   "id": "ac756d89",
   "metadata": {},
   "outputs": [
    {
     "name": "stdout",
     "output_type": "stream",
     "text": [
      "55\n"
     ]
    }
   ],
   "source": [
    "a = list(range(0,20))\n",
    "sum = 0\n",
    "i = 0\n",
    "while True:\n",
    "    if sum <= 50:\n",
    "        sum +=a[i]\n",
    "        i+=1\n",
    "    else:\n",
    "        break\n",
    "print(sum)"
   ]
  },
  {
   "cell_type": "code",
   "execution_count": 9,
   "id": "67ab7045",
   "metadata": {},
   "outputs": [
    {
     "name": "stdout",
     "output_type": "stream",
     "text": [
      "2\n"
     ]
    }
   ],
   "source": [
    "num=16\n",
    "base=4\n",
    "cnt=0\n",
    "while(num>1):\n",
    "    num = num / base\n",
    "    cnt+=1\n",
    "print(cnt)"
   ]
  },
  {
   "cell_type": "code",
   "execution_count": 21,
   "id": "8eda52ea",
   "metadata": {},
   "outputs": [],
   "source": [
    "def first_multiple(arr,b):\n",
    "    for x in arr:\n",
    "        if x % b == 0:\n",
    "            return x\n",
    "    return -1\n",
    "            \n",
    "    \n",
    "    "
   ]
  },
  {
   "cell_type": "code",
   "execution_count": 22,
   "id": "70511dd3",
   "metadata": {},
   "outputs": [
    {
     "data": {
      "text/plain": [
       "4"
      ]
     },
     "execution_count": 22,
     "metadata": {},
     "output_type": "execute_result"
    }
   ],
   "source": [
    "first_multiple([2,1,2,4,3,5],4)"
   ]
  },
  {
   "cell_type": "code",
   "execution_count": 26,
   "id": "7cf49d2b",
   "metadata": {},
   "outputs": [
    {
     "name": "stdout",
     "output_type": "stream",
     "text": [
      "2 4 6 8 10 12 14 16 18 20 "
     ]
    }
   ],
   "source": [
    "i = 1\n",
    "while i <= 10:\n",
    "    a = 2\n",
    "    a = a*i\n",
    "    print(a,end=' ')\n",
    "    i+=1"
   ]
  },
  {
   "cell_type": "code",
   "execution_count": 36,
   "id": "367b4c96",
   "metadata": {},
   "outputs": [],
   "source": [
    "def num_of_days(i):\n",
    "    \n",
    "    i = 1\n",
    "    while i <= 12:\n",
    "        if i == 2:\n",
    "            return 28\n",
    "        elif i == 8:\n",
    "            return 31\n",
    "        elif i % 2 == 0:\n",
    "            return 30\n",
    "        else:\n",
    "            return 31\n",
    "        i+=1\n",
    "    "
   ]
  },
  {
   "cell_type": "code",
   "execution_count": 37,
   "id": "4a6fba53",
   "metadata": {},
   "outputs": [
    {
     "data": {
      "text/plain": [
       "31"
      ]
     },
     "execution_count": 37,
     "metadata": {},
     "output_type": "execute_result"
    }
   ],
   "source": [
    "num_of_days(2)"
   ]
  },
  {
   "cell_type": "code",
   "execution_count": null,
   "id": "847bc3d2",
   "metadata": {},
   "outputs": [],
   "source": []
  },
  {
   "cell_type": "code",
   "execution_count": 47,
   "id": "6079b6d3",
   "metadata": {},
   "outputs": [
    {
     "name": "stdout",
     "output_type": "stream",
     "text": [
      "11\n"
     ]
    }
   ],
   "source": [
    "count = 0\n",
    "for i in range(0,15,1):\n",
    "    number = str(i)\n",
    "    if number == number[::-1]:\n",
    "        count+=1\n",
    "print(count)"
   ]
  },
  {
   "cell_type": "code",
   "execution_count": 53,
   "id": "52162945",
   "metadata": {},
   "outputs": [
    {
     "name": "stdout",
     "output_type": "stream",
     "text": [
      "Please give marks between 0 - 100:100\n",
      "Please give marks between 0 - 100:95\n",
      "Please give marks between 0 - 100:98\n",
      "Please give marks between 0 - 100:100\n",
      "Please give marks between 0 - 100:95\n",
      "GRADE A\n"
     ]
    }
   ],
   "source": [
    "a = int(input('Please give marks between 0 - 100:' ))\n",
    "b = int(input('Please give marks between 0 - 100:' ))\n",
    "c = int(input('Please give marks between 0 - 100:' ))\n",
    "d = int(input('Please give marks between 0 - 100:' ))\n",
    "e = int(input('Please give marks between 0 - 100:' ))\n",
    "percentage = (a+b+c+d+e)//5\n",
    "if percentage >= 90:\n",
    "    print('GRADE A')\n",
    "elif percentage >= 80:\n",
    "    print('GRADE B')\n",
    "elif percentage >= 70:\n",
    "    print('GRADE C')\n",
    "elif percentage >= 60:\n",
    "    print('GRADE D')\n",
    "elif percentage >= 40:\n",
    "    print('GRADE E')\n",
    "else:\n",
    "    print('GRADE F')"
   ]
  },
  {
   "cell_type": "code",
   "execution_count": 54,
   "id": "037b0a6e",
   "metadata": {},
   "outputs": [
    {
     "name": "stdout",
     "output_type": "stream",
     "text": [
      "4\n",
      "   * \n",
      "  * * \n",
      " * * * \n",
      "* * * * \n"
     ]
    }
   ],
   "source": [
    "n = int(input())\n",
    "\n",
    "for i in range(n):\n",
    "    print(' '*(n - i - 1) + '* ' * (i + 1))"
   ]
  },
  {
   "cell_type": "code",
   "execution_count": 62,
   "id": "114346d7",
   "metadata": {},
   "outputs": [
    {
     "name": "stdout",
     "output_type": "stream",
     "text": [
      "YES\n"
     ]
    }
   ],
   "source": [
    "#Initialize number \n",
    "n = 16\n",
    "\n",
    "#Check power of two\n",
    "if (n & (n - 1)): \n",
    "    print(\"NO\") \n",
    "else: \n",
    "    print (\"YES\")"
   ]
  },
  {
   "cell_type": "code",
   "execution_count": 19,
   "id": "c6aab770",
   "metadata": {},
   "outputs": [],
   "source": [
    "def power(x):\n",
    "    ans = 'Yes'\n",
    "    while x != 1:\n",
    "        if x % 2 != 0:\n",
    "            ans = 'No'\n",
    "        x //=2\n",
    "    return ans"
   ]
  },
  {
   "cell_type": "code",
   "execution_count": 20,
   "id": "17723287",
   "metadata": {},
   "outputs": [
    {
     "data": {
      "text/plain": [
       "'Yes'"
      ]
     },
     "execution_count": 20,
     "metadata": {},
     "output_type": "execute_result"
    }
   ],
   "source": [
    "power(8)"
   ]
  },
  {
   "cell_type": "code",
   "execution_count": 22,
   "id": "e7056d14",
   "metadata": {},
   "outputs": [],
   "source": [
    "def rock_paper_scissor(string,n):\n",
    "    ans = ''\n",
    "    # opponent_moves('R','P',S)\n",
    "    # To win('P','S','R')\n",
    "    victory = ''\n",
    "    opp_moves = string[:n]\n",
    "    for i in opp_moves:\n",
    "        if i == 'R':\n",
    "            victory += 'P'\n",
    "        elif i == 'P':\n",
    "            victory += 'S'\n",
    "        else:\n",
    "            victory += 'R'\n",
    "    ans = victory + string[n:]\n",
    "    return ans\n",
    "            "
   ]
  },
  {
   "cell_type": "code",
   "execution_count": 24,
   "id": "fb829751",
   "metadata": {},
   "outputs": [
    {
     "data": {
      "text/plain": [
       "'PSRPRPRRSSP'"
      ]
     },
     "execution_count": 24,
     "metadata": {},
     "output_type": "execute_result"
    }
   ],
   "source": [
    "rock_paper_scissor('RPSRSPRRSSP',5)"
   ]
  },
  {
   "cell_type": "code",
   "execution_count": 25,
   "id": "be95798c",
   "metadata": {},
   "outputs": [
    {
     "name": "stdout",
     "output_type": "stream",
     "text": [
      "ML is fun\n",
      "I love DS\n"
     ]
    }
   ],
   "source": [
    "a = 1\n",
    "b = 0\n",
    "c = 1\n",
    "if (a and b):\n",
    "    print(\"Scaler is awesome\")\n",
    "elif (a and c):\n",
    "    print(\"ML is fun\")\n",
    "if (a and b and c):\n",
    "    print(\"Python is amazing\")\n",
    "if (a or b or c):\n",
    "    print(\"I love DS\")\n"
   ]
  },
  {
   "cell_type": "code",
   "execution_count": 31,
   "id": "29d3f831",
   "metadata": {},
   "outputs": [],
   "source": [
    "def vehicle_tax(vehicle_cost):\n",
    "    if vehicle_cost > 100000:\n",
    "        vehicle_cost = (vehicle_cost*(20/100))\n",
    "        return ('%.1f'% (vehicle_cost))\n",
    "    elif 75000 < vehicle_cost <= 100000:\n",
    "        vehicle_cost = (vehicle_cost*(15/100))\n",
    "        return ('%.1f'% (vehicle_cost))\n",
    "    elif 50000< vehicle_cost <= 75000:\n",
    "        vehicle_cost = (vehicle_cost*(10/100))\n",
    "        return ('%.1f'% (vehicle_cost))\n",
    "    else:\n",
    "        vehicle_cost = (vehicle_cost*(5/100))\n",
    "        return ('%.1f'% (vehicle_cost))"
   ]
  },
  {
   "cell_type": "code",
   "execution_count": 33,
   "id": "5431774d",
   "metadata": {},
   "outputs": [
    {
     "data": {
      "text/plain": [
       "'12000.0'"
      ]
     },
     "execution_count": 33,
     "metadata": {},
     "output_type": "execute_result"
    }
   ],
   "source": [
    "vehicle_tax(80000)"
   ]
  },
  {
   "cell_type": "code",
   "execution_count": 34,
   "id": "cb3e712b",
   "metadata": {},
   "outputs": [
    {
     "name": "stdout",
     "output_type": "stream",
     "text": [
      "['NLP', 'DL', 'ML', 'AI', 'SQL']\n"
     ]
    }
   ],
   "source": [
    "l= ['3pyhton','NLP','DL','Statistics','Tableau','ML','AI','Analytics','SQL','BigData']\n",
    "A = [x for x in l if len(x)<5]\n",
    "print(A)"
   ]
  },
  {
   "cell_type": "code",
   "execution_count": 39,
   "id": "cc395685",
   "metadata": {},
   "outputs": [
    {
     "name": "stdout",
     "output_type": "stream",
     "text": [
      "[['Data', 10, 'Science'], ['Python', 12, 'Data']]\n"
     ]
    }
   ],
   "source": [
    "def get_sublist(lists, keyword):\n",
    "\n",
    "    sublists = []\n",
    "    for lst in lists:\n",
    "        if keyword in lst:\n",
    "            sublists.append(lst)\n",
    "\n",
    "    return sublists\n",
    "\n",
    "lists = get_sublist([[\"Data\", 10, \"Science\"],[\"Python\", 12, \"Data\"],[\"Machine\", 60, \"Learning\"],[\"Python\", 5, \"machine\"]], 'Data')\n",
    "print(lists)"
   ]
  },
  {
   "cell_type": "code",
   "execution_count": 40,
   "id": "e111970e",
   "metadata": {},
   "outputs": [],
   "source": [
    "def flat_list(lists):\n",
    "    \n",
    "    flattened_list = []\n",
    "    for l in lists:\n",
    "        for i in l:\n",
    "            flattened_list.append(i)\n",
    "    return flattened_list"
   ]
  },
  {
   "cell_type": "code",
   "execution_count": 43,
   "id": "83ea78cf",
   "metadata": {},
   "outputs": [
    {
     "data": {
      "text/plain": [
       "['Scaler',\n",
       " 'is',\n",
       " 'Awesome',\n",
       " 'Python',\n",
       " 'for',\n",
       " 'Data',\n",
       " 'Science',\n",
       " 'Machine',\n",
       " 'Learning']"
      ]
     },
     "execution_count": 43,
     "metadata": {},
     "output_type": "execute_result"
    }
   ],
   "source": [
    "flat_list([['Scaler', 'is', 'Awesome'],\n",
    "['Python' ,'for' ,'Data' ,'Science'],\n",
    "['Machine', 'Learning']])"
   ]
  },
  {
   "cell_type": "code",
   "execution_count": 44,
   "id": "1218b1d6",
   "metadata": {},
   "outputs": [
    {
     "name": "stdout",
     "output_type": "stream",
     "text": [
      "Mohan 25 "
     ]
    }
   ],
   "source": [
    "def display_person(*demos):\n",
    "    for i in demos:\n",
    "        print(i, end= \" \")\n",
    "\n",
    "display_person(\"Mohan\", \"25\")"
   ]
  },
  {
   "cell_type": "code",
   "execution_count": 45,
   "id": "f45aff74",
   "metadata": {},
   "outputs": [],
   "source": [
    "def most_frequent(List):\n",
    "    dict= {}\n",
    "    count, result = 0, \" \"\n",
    "    for item in reversed(List):\n",
    "        dict[item] = dict.get(item,0) + 1\n",
    "        if dict[item] >= count:\n",
    "            count, result = dict[item] , item\n",
    "    return result"
   ]
  },
  {
   "cell_type": "code",
   "execution_count": 46,
   "id": "581d489d",
   "metadata": {},
   "outputs": [
    {
     "data": {
      "text/plain": [
       "1"
      ]
     },
     "execution_count": 46,
     "metadata": {},
     "output_type": "execute_result"
    }
   ],
   "source": [
    "most_frequent([1, 2, 3, 1, 1, 2])"
   ]
  },
  {
   "cell_type": "code",
   "execution_count": 58,
   "id": "c988eb87",
   "metadata": {},
   "outputs": [
    {
     "ename": "IndexError",
     "evalue": "list index out of range",
     "output_type": "error",
     "traceback": [
      "\u001b[1;31m---------------------------------------------------------------------------\u001b[0m",
      "\u001b[1;31mIndexError\u001b[0m                                Traceback (most recent call last)",
      "Cell \u001b[1;32mIn[58], line 7\u001b[0m\n\u001b[0;32m      5\u001b[0m \u001b[38;5;28;01mfor\u001b[39;00m i \u001b[38;5;129;01min\u001b[39;00m \u001b[38;5;28mrange\u001b[39m(r):\n\u001b[0;32m      6\u001b[0m     \u001b[38;5;28;01mfor\u001b[39;00m j \u001b[38;5;129;01min\u001b[39;00m \u001b[38;5;28mrange\u001b[39m(c):\n\u001b[1;32m----> 7\u001b[0m         B\u001b[38;5;241m.\u001b[39mappend(\u001b[43mA\u001b[49m\u001b[43m[\u001b[49m\u001b[43mj\u001b[49m\u001b[43m]\u001b[49m\u001b[43m[\u001b[49m\u001b[43mi\u001b[49m\u001b[43m]\u001b[49m)\n\u001b[0;32m      8\u001b[0m \u001b[38;5;28mprint\u001b[39m(B)\n",
      "\u001b[1;31mIndexError\u001b[0m: list index out of range"
     ]
    }
   ],
   "source": [
    "A = [[1,2],[3,8],[4,7],[5,6]]\n",
    "B=[]\n",
    "r = len(A)\n",
    "c = len(A[0])\n",
    "for i in range(r):\n",
    "    for j in range(c):\n",
    "        B.append(A[j][i])\n",
    "print(B)"
   ]
  },
  {
   "cell_type": "code",
   "execution_count": 59,
   "id": "e68283c1",
   "metadata": {},
   "outputs": [],
   "source": [
    "def count_unique_words(inp):\n",
    "    ans = 0\n",
    "    arr = list(inp.split())\n",
    "    for word in arr:\n",
    "        arr2 = []\n",
    "        if len(set(word)) == len(word) and len(word) > 3:\n",
    "            ans += 1\n",
    "    return ans"
   ]
  },
  {
   "cell_type": "code",
   "execution_count": 64,
   "id": "2338b773",
   "metadata": {},
   "outputs": [
    {
     "data": {
      "text/plain": [
       "3"
      ]
     },
     "execution_count": 64,
     "metadata": {},
     "output_type": "execute_result"
    }
   ],
   "source": [
    "count_unique_words('Radha is so Pyari she is all I have in this entire universe she is my everything')"
   ]
  },
  {
   "cell_type": "code",
   "execution_count": 67,
   "id": "383813ee",
   "metadata": {},
   "outputs": [],
   "source": []
  },
  {
   "cell_type": "code",
   "execution_count": null,
   "id": "9048952a",
   "metadata": {},
   "outputs": [],
   "source": []
  },
  {
   "cell_type": "code",
   "execution_count": null,
   "id": "681ba483",
   "metadata": {},
   "outputs": [],
   "source": []
  }
 ],
 "metadata": {
  "kernelspec": {
   "display_name": "Python 3 (ipykernel)",
   "language": "python",
   "name": "python3"
  },
  "language_info": {
   "codemirror_mode": {
    "name": "ipython",
    "version": 3
   },
   "file_extension": ".py",
   "mimetype": "text/x-python",
   "name": "python",
   "nbconvert_exporter": "python",
   "pygments_lexer": "ipython3",
   "version": "3.11.2"
  }
 },
 "nbformat": 4,
 "nbformat_minor": 5
}
