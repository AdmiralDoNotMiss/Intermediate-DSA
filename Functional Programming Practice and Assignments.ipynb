{
 "cells": [
  {
   "cell_type": "code",
   "execution_count": 6,
   "id": "12fdd97b",
   "metadata": {},
   "outputs": [
    {
     "name": "stdout",
     "output_type": "stream",
     "text": [
      "[1, 4, 9, 16, 25]\n",
      "[1, 4, 9, 16, 25]\n"
     ]
    }
   ],
   "source": [
    "# Object Oriented Code\n",
    "arr = [1,2,3,4,5]\n",
    "a=[]\n",
    "for x in arr:\n",
    "    a.append(x**2)\n",
    "print(a)\n",
    "    \n",
    "b = [x**2 for x in arr]\n",
    "print(b)"
   ]
  },
  {
   "cell_type": "code",
   "execution_count": 8,
   "id": "eb421f12",
   "metadata": {},
   "outputs": [
    {
     "data": {
      "text/plain": [
       "[1, 4, 9, 16, 25]"
      ]
     },
     "execution_count": 8,
     "metadata": {},
     "output_type": "execute_result"
    }
   ],
   "source": [
    "# Fucnctional programming code\n",
    "def square(x):\n",
    "    return x**2\n",
    "list(map(square,arr))\n"
   ]
  },
  {
   "cell_type": "code",
   "execution_count": 18,
   "id": "177d7f44",
   "metadata": {},
   "outputs": [
    {
     "name": "stdout",
     "output_type": "stream",
     "text": [
      "[4, 16, 36, 64, 100]\n"
     ]
    }
   ],
   "source": [
    "#OOP\n",
    "arr = list(range(1,11))\n",
    "b = [x**2 for x in arr if x%2==0]\n",
    "print(b)"
   ]
  },
  {
   "cell_type": "code",
   "execution_count": 23,
   "id": "5edc1021",
   "metadata": {},
   "outputs": [
    {
     "data": {
      "text/plain": [
       "[4, 16]"
      ]
     },
     "execution_count": 23,
     "metadata": {},
     "output_type": "execute_result"
    }
   ],
   "source": [
    "#Functional programming\n",
    "arr=[1,2,3,4,5]\n",
    "def iseven(x):\n",
    "    return x%2==0\n",
    "list(map(square, filter(iseven,arr)))"
   ]
  },
  {
   "cell_type": "code",
   "execution_count": 27,
   "id": "12eb8b82",
   "metadata": {},
   "outputs": [
    {
     "data": {
      "text/plain": [
       "[0, 3, 6, 9]"
      ]
     },
     "execution_count": 27,
     "metadata": {},
     "output_type": "execute_result"
    }
   ],
   "source": [
    "list(filter(lambda x: x%3==0 ,range(10)))"
   ]
  },
  {
   "cell_type": "code",
   "execution_count": 28,
   "id": "ec62cb69",
   "metadata": {},
   "outputs": [
    {
     "data": {
      "text/plain": [
       "[3, 3, 3, 3]"
      ]
     },
     "execution_count": 28,
     "metadata": {},
     "output_type": "execute_result"
    }
   ],
   "source": [
    "list(filter(lambda x: x==3,[1,2,3,4,5,3,3,3,4,5,6]))"
   ]
  },
  {
   "cell_type": "code",
   "execution_count": 29,
   "id": "75553205",
   "metadata": {},
   "outputs": [
    {
     "name": "stdout",
     "output_type": "stream",
     "text": [
      "21\n"
     ]
    }
   ],
   "source": [
    "# Object oriented way to sum\n",
    "sum = 0\n",
    "a = [1,2,3,4,5,6]\n",
    "for x in a:\n",
    "    sum+=x\n",
    "print(sum)\n"
   ]
  },
  {
   "cell_type": "code",
   "execution_count": 30,
   "id": "247188e8",
   "metadata": {},
   "outputs": [
    {
     "data": {
      "text/plain": [
       "21"
      ]
     },
     "execution_count": 30,
     "metadata": {},
     "output_type": "execute_result"
    }
   ],
   "source": [
    "# Functional way\n",
    "from functools import reduce\n",
    "\n",
    "reduce(lambda acc,x: acc+x,a)"
   ]
  },
  {
   "cell_type": "code",
   "execution_count": 37,
   "id": "92d6bc6d",
   "metadata": {},
   "outputs": [
    {
     "name": "stdout",
     "output_type": "stream",
     "text": [
      "80.0\n"
     ]
    },
    {
     "data": {
      "text/plain": [
       "80.0"
      ]
     },
     "execution_count": 37,
     "metadata": {},
     "output_type": "execute_result"
    }
   ],
   "source": [
    "students = [\n",
    "    {'name':'A','marks':80},\n",
    "{'name':'B','marks':90},{'name':'C','marks':100},{'name':'D','marks':70},{'name':'E','marks':80},{'name':'F','marks':60}\n",
    "]\n",
    "# OOP\n",
    "total=0\n",
    "for student in students:\n",
    "    total+=student['marks']\n",
    "    average = total/len(students)\n",
    "print(average)\n",
    "\n",
    "# Functional way\n",
    "\n",
    "reduce(lambda acc,student: acc+student['marks'],students,0)/len(students)"
   ]
  },
  {
   "cell_type": "markdown",
   "id": "ad054ca6",
   "metadata": {},
   "source": [
    "# Assignments"
   ]
  },
  {
   "cell_type": "code",
   "execution_count": 7,
   "id": "c5f3fafb",
   "metadata": {},
   "outputs": [],
   "source": [
    "def is_email_valid(email):\n",
    "    if len(email.split('@'))!=2:\n",
    "        return False\n",
    "    user,domain = email.split('@')\n",
    "    \n",
    "    if not user or not domain:\n",
    "        return False\n",
    "    if len(user)>20:\n",
    "        return False\n",
    "    return True\n"
   ]
  },
  {
   "cell_type": "code",
   "execution_count": 8,
   "id": "65984c1b",
   "metadata": {},
   "outputs": [
    {
     "data": {
      "text/plain": [
       "[['sara@scaler.com', 'brian-23@scaler.com', 'brute54@scaler.com'],\n",
       " ['sara@scaler.com', 'brian-23@scaler.com', 'brute54@scaler.com'],\n",
       " ['sara@scaler.com', 'brian-23@scaler.com', 'brute54@scaler.com']]"
      ]
     },
     "execution_count": 8,
     "metadata": {},
     "output_type": "execute_result"
    }
   ],
   "source": [
    "emails=['sara@scaler.com', 'brian-23@scaler.com', 'brute54@scaler.com']\n",
    "sorted([emails  for email in emails if is_email_valid(email)])"
   ]
  },
  {
   "cell_type": "code",
   "execution_count": 24,
   "id": "c66b7e62",
   "metadata": {},
   "outputs": [
    {
     "name": "stdout",
     "output_type": "stream",
     "text": [
      "[]\n"
     ]
    }
   ],
   "source": [
    "array  = [1, 2, 3, 4, 5]\n",
    "def func1(x):\n",
    "    return x<0\n",
    "result=filter(func1, array)\n",
    "print(list(result))"
   ]
  },
  {
   "cell_type": "code",
   "execution_count": 25,
   "id": "a613a88f",
   "metadata": {},
   "outputs": [
    {
     "name": "stdout",
     "output_type": "stream",
     "text": [
      "[['a', 'b', 'c'], ['c', 'd', 'e'], ['d', 'e', 'f']]\n"
     ]
    }
   ],
   "source": [
    "sentence = \"abc cde def\"\n",
    "result = list(map(lambda x: list(x), sentence.split(\" \")))\n",
    "print(result)"
   ]
  },
  {
   "cell_type": "code",
   "execution_count": 27,
   "id": "f30374eb",
   "metadata": {},
   "outputs": [
    {
     "name": "stdout",
     "output_type": "stream",
     "text": [
      "(1, 4)\n"
     ]
    }
   ],
   "source": [
    "def func2(c, d):\n",
    "    return c, d\n",
    "\n",
    "def func1(a, b):\n",
    "    c = a**1\n",
    "    d = b**2\n",
    "    return lambda: func2(c,d)\n",
    "\n",
    "result = func1(1, 2)\n",
    "\n",
    "print(result())"
   ]
  },
  {
   "cell_type": "code",
   "execution_count": 28,
   "id": "f387a729",
   "metadata": {},
   "outputs": [
    {
     "name": "stdout",
     "output_type": "stream",
     "text": [
      "0 2 4 6 8 "
     ]
    }
   ],
   "source": [
    "odd=lambda x: bool(x%2)\n",
    "result=[n for n in range(10)]\n",
    "\n",
    "for i in result:\n",
    "    if odd(i):\n",
    "        continue       \n",
    "    else:\n",
    "        print(i, end=\" \")"
   ]
  },
  {
   "cell_type": "code",
   "execution_count": 34,
   "id": "72aa27fc",
   "metadata": {},
   "outputs": [
    {
     "name": "stdout",
     "output_type": "stream",
     "text": [
      "[(1, 4, 7, 9, 6, 3), (2, 5, 8, 8, 5, 2), (3, 6, 9, 7, 4, 1)]\n"
     ]
    }
   ],
   "source": [
    "list1 = [[1,2,3],[4,5,6],[7,8,9]]\n",
    "list2 = [[9,8,7],[6,5,4],[3,2,1]]\n",
    "ls11,ls12,ls13=list1\n",
    "ls21,ls22,ls23=list2\n",
    "print(list(zip(ls11,ls12,ls13,ls21,ls22,ls23)))"
   ]
  },
  {
   "cell_type": "code",
   "execution_count": 39,
   "id": "1df99dd8",
   "metadata": {},
   "outputs": [],
   "source": [
    "arr = [\"php\", \"w3r\", \"python\", \"aaa\", \"java\"]\n",
    "result  = list(filter(lambda x:  x == x[::-1],arr))"
   ]
  },
  {
   "cell_type": "code",
   "execution_count": 40,
   "id": "f59c064b",
   "metadata": {},
   "outputs": [
    {
     "name": "stdout",
     "output_type": "stream",
     "text": [
      "['php', 'aaa']\n"
     ]
    }
   ],
   "source": [
    "print(result)"
   ]
  },
  {
   "cell_type": "code",
   "execution_count": 41,
   "id": "3308e135",
   "metadata": {},
   "outputs": [
    {
     "name": "stdout",
     "output_type": "stream",
     "text": [
      "[2, [2, 3, 2, 3], 8, 10]\n"
     ]
    }
   ],
   "source": [
    "a=[1,[2,3],4,5]\n",
    "result = lambda x: list(map(lambda y:2*y, x)) if isinstance(x,list) else lambda x:3*x\n",
    "print(result(a))"
   ]
  },
  {
   "cell_type": "code",
   "execution_count": 42,
   "id": "7dec9f52",
   "metadata": {},
   "outputs": [
    {
     "name": "stdout",
     "output_type": "stream",
     "text": [
      "4\n"
     ]
    }
   ],
   "source": [
    "import functools\n",
    "lists = [1,2,3,4]\n",
    "print(functools.reduce(lambda x,y : x if x > y else y ,lists))"
   ]
  },
  {
   "cell_type": "code",
   "execution_count": 46,
   "id": "7af7b138",
   "metadata": {},
   "outputs": [
    {
     "name": "stdout",
     "output_type": "stream",
     "text": [
      "['Sam@gmail.com', 'Sam@gmail.com', 'samJohnson@iit.com', 'SAM@harvard.com']\n"
     ]
    }
   ],
   "source": [
    "ids=[\"Sam@gmail.com\", \"Ram@gmail.com\", \"Sam@gmail.com\", \"samJohnson@iit.com\", \"SAM@harvard.com\"]\n",
    "name=\"sam\"\n",
    "result = list(filter(lambda x : x.lower().find(name.lower()) != -1, ids))\n",
    "print(result)"
   ]
  },
  {
   "cell_type": "code",
   "execution_count": null,
   "id": "b8330fbf",
   "metadata": {},
   "outputs": [],
   "source": [
    "\n"
   ]
  },
  {
   "cell_type": "code",
   "execution_count": null,
   "id": "bdaa408d",
   "metadata": {},
   "outputs": [],
   "source": []
  }
 ],
 "metadata": {
  "kernelspec": {
   "display_name": "Python 3 (ipykernel)",
   "language": "python",
   "name": "python3"
  },
  "language_info": {
   "codemirror_mode": {
    "name": "ipython",
    "version": 3
   },
   "file_extension": ".py",
   "mimetype": "text/x-python",
   "name": "python",
   "nbconvert_exporter": "python",
   "pygments_lexer": "ipython3",
   "version": "3.11.2"
  }
 },
 "nbformat": 4,
 "nbformat_minor": 5
}
