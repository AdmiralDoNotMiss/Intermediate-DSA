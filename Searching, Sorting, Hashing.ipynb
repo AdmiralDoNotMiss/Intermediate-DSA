{
 "cells": [
  {
   "cell_type": "markdown",
   "id": "a6ec3e38",
   "metadata": {},
   "source": [
    "# Linear Search"
   ]
  },
  {
   "cell_type": "code",
   "execution_count": 1,
   "id": "0cea03ae",
   "metadata": {},
   "outputs": [],
   "source": [
    "def linear_search(arr,val):\n",
    "    n = len(arr)\n",
    "    for idx in range(n):\n",
    "        if arr[idx]==val:\n",
    "            return idx\n",
    "    return -1"
   ]
  },
  {
   "cell_type": "code",
   "execution_count": 3,
   "id": "27b7d5fa",
   "metadata": {},
   "outputs": [
    {
     "data": {
      "text/plain": [
       "7"
      ]
     },
     "execution_count": 3,
     "metadata": {},
     "output_type": "execute_result"
    }
   ],
   "source": [
    "linear_search([7,5,6,10,22,11,7,9],9)"
   ]
  },
  {
   "cell_type": "markdown",
   "id": "7e07c2ab",
   "metadata": {},
   "source": [
    "# Binary Search"
   ]
  },
  {
   "cell_type": "code",
   "execution_count": 6,
   "id": "fd06cc0c",
   "metadata": {},
   "outputs": [],
   "source": [
    "def binary_search(arr,val):\n",
    "    n = len(arr)\n",
    "    min_idx = 0\n",
    "    max_idx = n-1\n",
    "    mid_idx = (min_idx + max_idx)//2\n",
    "    while True:\n",
    "        if val > arr[mid_idx]:\n",
    "            min_idx = mid_idx\n",
    "        elif val < arr[mid_idx]:\n",
    "            max_idx = mid_idx\n",
    "        else:\n",
    "            return mid_idx\n",
    "        mid_idx = (min_idx + max_idx)//2\n",
    "        \n",
    "        if mid_idx == min_idx or mid_idx == max_idx:\n",
    "            if val == arr[min_idx]:\n",
    "                return min_idx\n",
    "            elif val == arr[max_idx]:\n",
    "                return max_idx\n",
    "            else:\n",
    "                return -1\n",
    "            "
   ]
  },
  {
   "cell_type": "code",
   "execution_count": 22,
   "id": "b1b7c045",
   "metadata": {},
   "outputs": [
    {
     "data": {
      "text/plain": [
       "1"
      ]
     },
     "execution_count": 22,
     "metadata": {},
     "output_type": "execute_result"
    }
   ],
   "source": [
    "binary_search([2,5],5)"
   ]
  },
  {
   "cell_type": "code",
   "execution_count": 26,
   "id": "691b7957",
   "metadata": {},
   "outputs": [],
   "source": [
    "def binarry_search(nums,target):\n",
    "    min_index = 0\n",
    "    max_index = len(nums)-1\n",
    "    mid_index = (min_index + max_index)//2\n",
    "    while True:\n",
    "        if target > nums[mid_index]:\n",
    "            min_index = mid_index\n",
    "        elif target < nums[mid_index]:\n",
    "            max_index = mid_index\n",
    "        else:\n",
    "            return mid_index\n",
    "\n",
    "        mid_index = (min_index + max_index)//2\n",
    "        if mid_index == min_index or mid_index == max_index:\n",
    "            if target == nums[min_index]:\n",
    "                return min_index\n",
    "            elif target == nums[max_index]:\n",
    "                return max_index\n",
    "            else:\n",
    "                return -1 "
   ]
  },
  {
   "cell_type": "code",
   "execution_count": 27,
   "id": "e8e8fdb5",
   "metadata": {},
   "outputs": [
    {
     "data": {
      "text/plain": [
       "1"
      ]
     },
     "execution_count": 27,
     "metadata": {},
     "output_type": "execute_result"
    }
   ],
   "source": [
    "binarry_search([2,5],5)"
   ]
  },
  {
   "cell_type": "code",
   "execution_count": 21,
   "id": "25c6bdae",
   "metadata": {},
   "outputs": [],
   "source": [
    "def selection_sort(arr):\n",
    "    n = len(arr)\n",
    "    for i in range(n-1):\n",
    "        min_index = i\n",
    "        for j in range(i+1,n):\n",
    "            if arr[j] < arr[min_index]:\n",
    "                min_index = j\n",
    "        arr[i],arr[min_index] = arr[min_index],arr[i]\n",
    "    return arr\n",
    "            "
   ]
  },
  {
   "cell_type": "code",
   "execution_count": 22,
   "id": "336ef34e",
   "metadata": {},
   "outputs": [
    {
     "data": {
      "text/plain": [
       "[1, 2, 3, 4, 5]"
      ]
     },
     "execution_count": 22,
     "metadata": {},
     "output_type": "execute_result"
    }
   ],
   "source": [
    "selection_sort([5,1,4,2,3])"
   ]
  },
  {
   "cell_type": "code",
   "execution_count": 14,
   "id": "8bc0879a",
   "metadata": {},
   "outputs": [],
   "source": [
    "def bubble_sort(arr):\n",
    "    n = len(arr)\n",
    "    for i in range(n-1):\n",
    "        swaps = False\n",
    "        for j in range(n-i-1):\n",
    "            if arr[j]>arr[j+1]:\n",
    "                swaps = True\n",
    "                arr[j],arr[j+1]=arr[j+1],arr[j]\n",
    "    return arr\n",
    "            "
   ]
  },
  {
   "cell_type": "code",
   "execution_count": 15,
   "id": "85a777d9",
   "metadata": {},
   "outputs": [
    {
     "data": {
      "text/plain": [
       "[1, 2, 3, 5, 6]"
      ]
     },
     "execution_count": 15,
     "metadata": {},
     "output_type": "execute_result"
    }
   ],
   "source": [
    "bubble_sort([1,2,3,6,5])"
   ]
  },
  {
   "cell_type": "code",
   "execution_count": 18,
   "id": "54b82e80",
   "metadata": {},
   "outputs": [],
   "source": [
    "def insertion_sort(arr):\n",
    "    n = len(arr)\n",
    "    for i in range(1,n):\n",
    "        key = arr[i]\n",
    "        j = i-1\n",
    "        while j >=0 and arr[j] > key:\n",
    "            arr[j+1]=arr[j]\n",
    "            j-=1\n",
    "        arr[j+1] = key\n",
    "    return arr"
   ]
  },
  {
   "cell_type": "code",
   "execution_count": 19,
   "id": "eb59059d",
   "metadata": {},
   "outputs": [
    {
     "data": {
      "text/plain": [
       "[1, 2, 3, 4, 5]"
      ]
     },
     "execution_count": 19,
     "metadata": {},
     "output_type": "execute_result"
    }
   ],
   "source": [
    "insertion_sort([5,4,3,2,1])"
   ]
  },
  {
   "cell_type": "code",
   "execution_count": 1,
   "id": "3029bf37",
   "metadata": {},
   "outputs": [
    {
     "data": {
      "text/plain": [
       "[1, 2, 3, 4]"
      ]
     },
     "execution_count": 1,
     "metadata": {},
     "output_type": "execute_result"
    }
   ],
   "source": [
    "def bubble_sort(arr):\n",
    "    n = len(arr)\n",
    "    for i in range(n-1):\n",
    "        swaps = False\n",
    "        for j in range(n-i-1):\n",
    "            if arr[j]>arr[j+1]:\n",
    "                swaps = True\n",
    "                arr[j],arr[j+1]=arr[j+1],arr[j]\n",
    "    return arr\n",
    "\n",
    "bubble_sort([2,3,1,4])\n",
    "        "
   ]
  },
  {
   "cell_type": "code",
   "execution_count": 2,
   "id": "01431d68",
   "metadata": {},
   "outputs": [
    {
     "data": {
      "text/plain": [
       "[1, 2, 3, 4]"
      ]
     },
     "execution_count": 2,
     "metadata": {},
     "output_type": "execute_result"
    }
   ],
   "source": [
    "def selection_sort(arr):\n",
    "    n = len(arr)\n",
    "    for i in range(n-1):\n",
    "        min_idx = i\n",
    "        for j in range(i+1,n):\n",
    "            if arr[j]<arr[min_idx]:\n",
    "                min_idx = j\n",
    "        arr[i],arr[min_idx]=arr[min_idx],arr[i]\n",
    "    return arr\n",
    "selection_sort([2,3,1,4])"
   ]
  },
  {
   "cell_type": "code",
   "execution_count": 4,
   "id": "d49e5494",
   "metadata": {},
   "outputs": [
    {
     "data": {
      "text/plain": [
       "[1, 2, 3, 4]"
      ]
     },
     "execution_count": 4,
     "metadata": {},
     "output_type": "execute_result"
    }
   ],
   "source": [
    "def insertion_sort(arr):\n",
    "    n = len(arr)\n",
    "    for i in range(1,n):\n",
    "        key = arr[i]\n",
    "        j = i-1\n",
    "        while j >= 0 and arr[j] > key:\n",
    "            arr[j+1]=arr[j]\n",
    "            j-=1\n",
    "        arr[j+1] = key\n",
    "    return arr\n",
    "insertion_sort([2,3,1,4])"
   ]
  },
  {
   "cell_type": "code",
   "execution_count": 5,
   "id": "a0bb2651",
   "metadata": {},
   "outputs": [],
   "source": [
    "def bs(arr,val):\n",
    "    min_idx = 0\n",
    "    max_idx = len(arr)-1\n",
    "    mid_idx = (min_idx + max_idx)//2\n",
    "    while mid_idx != min_idx:\n",
    "        if val < arr[mid_idx]:\n",
    "            max_idx = mid_idx\n",
    "        elif val > mid_idx:\n",
    "            min_idx = mid_idx\n",
    "        else:\n",
    "            return mid_idx\n",
    "        \n",
    "        mid_idx = (max_idx + min_idx)//2\n",
    "        \n",
    "    if val == arr[min_idx]:\n",
    "        return min_idx\n",
    "    elif val == arr[max_idx]:\n",
    "        return max_idx\n",
    "    else:\n",
    "        return -1"
   ]
  },
  {
   "cell_type": "code",
   "execution_count": 12,
   "id": "c48155b7",
   "metadata": {},
   "outputs": [
    {
     "data": {
      "text/plain": [
       "5"
      ]
     },
     "execution_count": 12,
     "metadata": {},
     "output_type": "execute_result"
    }
   ],
   "source": [
    "bs([2,4,6,8,10,12],12)"
   ]
  },
  {
   "cell_type": "code",
   "execution_count": 44,
   "id": "1aae59b5",
   "metadata": {},
   "outputs": [],
   "source": [
    "def merge(a,b):\n",
    "    c = []\n",
    "    min_a = 0\n",
    "    min_b = 0\n",
    "    while min_a != len(a) and min_b != len(b):\n",
    "        if a[min_a] < b[min_b]:\n",
    "            c.append(a[min_a])\n",
    "            min_a = min_a + 1\n",
    "        else:\n",
    "            c.append(b[min_b])\n",
    "            min_b = min_b + 1\n",
    "            \n",
    "    if min_a == len(a):\n",
    "        c = c + b[min_b:]\n",
    "    else:\n",
    "        c  = c + a[min_a:]\n",
    "    \n",
    "    return c\n",
    "\n",
    "\n",
    "def merge_sort(u):\n",
    "    minn = 0\n",
    "    maxx = len(u)\n",
    "    mid = (minn + maxx)//2\n",
    "    u1 = u[:mid]\n",
    "    u2 = u[mid:]\n",
    "    if len(u1) != 1:\n",
    "        u1 = merge_sort(u1)\n",
    "    if len(u2) != 1:\n",
    "        u2 = merge_sort(u2)\n",
    "    return merge(u1,u2)"
   ]
  },
  {
   "cell_type": "code",
   "execution_count": 47,
   "id": "80ae7726",
   "metadata": {},
   "outputs": [
    {
     "data": {
      "text/plain": [
       "[2, 3, 3, 4, 4, 8, 9]"
      ]
     },
     "execution_count": 47,
     "metadata": {},
     "output_type": "execute_result"
    }
   ],
   "source": [
    "merge_sort([4,8,9,2,3,4,3])"
   ]
  },
  {
   "cell_type": "code",
   "execution_count": 14,
   "id": "57fbfd5d",
   "metadata": {},
   "outputs": [],
   "source": [
    "s = \"08/12/1998\"\n",
    "s1= s[:3]\n",
    "s2= s[3:6]\n",
    "s3 = s[6:]"
   ]
  },
  {
   "cell_type": "code",
   "execution_count": 16,
   "id": "33cc8240",
   "metadata": {},
   "outputs": [
    {
     "name": "stdout",
     "output_type": "stream",
     "text": [
      "1998\n"
     ]
    }
   ],
   "source": [
    "print(s3)"
   ]
  },
  {
   "cell_type": "code",
   "execution_count": 33,
   "id": "af0aa13c",
   "metadata": {},
   "outputs": [],
   "source": [
    "def date_convertor(date):\n",
    "    date_list = date.split('/')\n",
    "    mm_dd_yyyy = date_list[1]+'/'+date_list[0] +'/'+date_list[2]\n",
    "    yyyy_mm_dd = date_list[2]+'/'+date_list[1]+'/'+date_list[0]\n",
    "    \n",
    "    return mm_dd_yyyy,yyyy_mm_dd\n",
    "    "
   ]
  },
  {
   "cell_type": "code",
   "execution_count": 42,
   "id": "462e8fbc",
   "metadata": {},
   "outputs": [],
   "source": [
    "def merge(a,b):\n",
    "    c = []\n",
    "    min_a = 0\n",
    "    min_b = 0\n",
    "    while min_a != len(a) and min_b != len(b):\n",
    "        if a[min_a] < b[min_b]:\n",
    "            c.append(a[min_a])\n",
    "        else:\n",
    "            c.append(b[min_b])\n",
    "        \n",
    "    if min_a == len(a):\n",
    "        c = c + b[min_b:]\n",
    "    if min_b == len(b):\n",
    "        c = c + a[min_a:]\n",
    "    return c\n",
    "\n",
    "def maximum_merge_sort(arr):\n",
    "    min_arr = 0\n",
    "    max_arr = len(arr)\n",
    "    mid_arr = (min_arr+max_arr)//2\n",
    "    arr1 = arr[:mid_arr]\n",
    "    arr2 = arr[mid_arr:]\n",
    "    if len(arr1) != 1:\n",
    "        arr1 = maximum_merge_sort(arr1)\n",
    "    if len(arr2) != 1:\n",
    "        arr2 = maximum_merge_sort(arr2)\n",
    "    return merge(arr1,arr2)\n"
   ]
  },
  {
   "cell_type": "code",
   "execution_count": 43,
   "id": "8b721abc",
   "metadata": {},
   "outputs": [
    {
     "ename": "KeyboardInterrupt",
     "evalue": "",
     "output_type": "error",
     "traceback": [
      "\u001b[1;31m---------------------------------------------------------------------------\u001b[0m",
      "\u001b[1;31mKeyboardInterrupt\u001b[0m                         Traceback (most recent call last)",
      "Cell \u001b[1;32mIn[43], line 1\u001b[0m\n\u001b[1;32m----> 1\u001b[0m \u001b[43mmaximum_merge_sort\u001b[49m\u001b[43m(\u001b[49m\u001b[43m[\u001b[49m\u001b[38;5;241;43m5\u001b[39;49m\u001b[43m,\u001b[49m\u001b[38;5;241;43m8\u001b[39;49m\u001b[43m,\u001b[49m\u001b[38;5;241;43m3\u001b[39;49m\u001b[43m,\u001b[49m\u001b[38;5;241;43m2\u001b[39;49m\u001b[43m,\u001b[49m\u001b[38;5;241;43m4\u001b[39;49m\u001b[43m]\u001b[49m\u001b[43m)\u001b[49m\n",
      "Cell \u001b[1;32mIn[42], line 24\u001b[0m, in \u001b[0;36mmaximum_merge_sort\u001b[1;34m(arr)\u001b[0m\n\u001b[0;32m     22\u001b[0m arr2 \u001b[38;5;241m=\u001b[39m arr[mid_arr:]\n\u001b[0;32m     23\u001b[0m \u001b[38;5;28;01mif\u001b[39;00m \u001b[38;5;28mlen\u001b[39m(arr1) \u001b[38;5;241m!=\u001b[39m \u001b[38;5;241m1\u001b[39m:\n\u001b[1;32m---> 24\u001b[0m     arr1 \u001b[38;5;241m=\u001b[39m \u001b[43mmaximum_merge_sort\u001b[49m\u001b[43m(\u001b[49m\u001b[43marr1\u001b[49m\u001b[43m)\u001b[49m\n\u001b[0;32m     25\u001b[0m \u001b[38;5;28;01mif\u001b[39;00m \u001b[38;5;28mlen\u001b[39m(arr2) \u001b[38;5;241m!=\u001b[39m \u001b[38;5;241m1\u001b[39m:\n\u001b[0;32m     26\u001b[0m     arr2 \u001b[38;5;241m=\u001b[39m maximum_merge_sort(arr2)\n",
      "Cell \u001b[1;32mIn[42], line 27\u001b[0m, in \u001b[0;36mmaximum_merge_sort\u001b[1;34m(arr)\u001b[0m\n\u001b[0;32m     25\u001b[0m \u001b[38;5;28;01mif\u001b[39;00m \u001b[38;5;28mlen\u001b[39m(arr2) \u001b[38;5;241m!=\u001b[39m \u001b[38;5;241m1\u001b[39m:\n\u001b[0;32m     26\u001b[0m     arr2 \u001b[38;5;241m=\u001b[39m maximum_merge_sort(arr2)\n\u001b[1;32m---> 27\u001b[0m \u001b[38;5;28;01mreturn\u001b[39;00m \u001b[43mmerge\u001b[49m\u001b[43m(\u001b[49m\u001b[43marr1\u001b[49m\u001b[43m,\u001b[49m\u001b[43marr2\u001b[49m\u001b[43m)\u001b[49m\n",
      "Cell \u001b[1;32mIn[42], line 5\u001b[0m, in \u001b[0;36mmerge\u001b[1;34m(a, b)\u001b[0m\n\u001b[0;32m      3\u001b[0m min_a \u001b[38;5;241m=\u001b[39m \u001b[38;5;241m0\u001b[39m\n\u001b[0;32m      4\u001b[0m min_b \u001b[38;5;241m=\u001b[39m \u001b[38;5;241m0\u001b[39m\n\u001b[1;32m----> 5\u001b[0m \u001b[38;5;28;01mwhile\u001b[39;00m min_a \u001b[38;5;241m!=\u001b[39m \u001b[38;5;28;43mlen\u001b[39;49m\u001b[43m(\u001b[49m\u001b[43ma\u001b[49m\u001b[43m)\u001b[49m \u001b[38;5;129;01mand\u001b[39;00m min_b \u001b[38;5;241m!=\u001b[39m \u001b[38;5;28mlen\u001b[39m(b):\n\u001b[0;32m      6\u001b[0m     \u001b[38;5;28;01mif\u001b[39;00m a[min_a] \u001b[38;5;241m<\u001b[39m b[min_b]:\n\u001b[0;32m      7\u001b[0m         c\u001b[38;5;241m.\u001b[39mappend(a[min_a])\n",
      "\u001b[1;31mKeyboardInterrupt\u001b[0m: "
     ]
    }
   ],
   "source": [
    "maximum_merge_sort([5,8,3,2,4])"
   ]
  },
  {
   "cell_type": "code",
   "execution_count": 59,
   "id": "10d5521a",
   "metadata": {},
   "outputs": [],
   "source": [
    "def maximum(arr):\n",
    "    max_ele = -float('inf')\n",
    "    for x in arr:\n",
    "        if x > max_ele:\n",
    "            print('first max is',x)\n",
    "    for sec in arr:\n",
    "        if sec != x and sec > max_ele:\n",
    "            print('second maximum element is', sec)"
   ]
  },
  {
   "cell_type": "code",
   "execution_count": 60,
   "id": "7e2ef0fc",
   "metadata": {},
   "outputs": [
    {
     "name": "stdout",
     "output_type": "stream",
     "text": [
      "first max is 5\n",
      "first max is 8\n",
      "first max is 3\n",
      "first max is 2\n",
      "first max is 4\n",
      "second maximum element is 5\n",
      "second maximum element is 8\n",
      "second maximum element is 3\n",
      "second maximum element is 2\n"
     ]
    }
   ],
   "source": [
    "maximum([5,8,3,2,4])"
   ]
  },
  {
   "cell_type": "code",
   "execution_count": 64,
   "id": "162f508d",
   "metadata": {},
   "outputs": [
    {
     "name": "stdout",
     "output_type": "stream",
     "text": [
      "['alpha', 'beta', 'delta', 'gamma']\n"
     ]
    }
   ],
   "source": [
    "def selection_sort(strings): \n",
    "    for i in range(len(strings)): \n",
    "        min_idx = i \n",
    "        for j in range(i+1, len(strings)): \n",
    "            if strings[min_idx] > strings[j]: \n",
    "                min_idx = j \n",
    "        strings[i], strings[min_idx] = strings[min_idx], strings[i] \n",
    "    return strings\n",
    "\n",
    "strings = ['alpha', 'gamma', 'beta', 'delta']\n",
    "\n",
    "print(selection_sort(strings))"
   ]
  },
  {
   "cell_type": "code",
   "execution_count": null,
   "id": "6cc04c20",
   "metadata": {},
   "outputs": [],
   "source": []
  },
  {
   "cell_type": "code",
   "execution_count": null,
   "id": "5fd17fce",
   "metadata": {},
   "outputs": [],
   "source": []
  }
 ],
 "metadata": {
  "kernelspec": {
   "display_name": "Python 3 (ipykernel)",
   "language": "python",
   "name": "python3"
  },
  "language_info": {
   "codemirror_mode": {
    "name": "ipython",
    "version": 3
   },
   "file_extension": ".py",
   "mimetype": "text/x-python",
   "name": "python",
   "nbconvert_exporter": "python",
   "pygments_lexer": "ipython3",
   "version": "3.11.2"
  }
 },
 "nbformat": 4,
 "nbformat_minor": 5
}
