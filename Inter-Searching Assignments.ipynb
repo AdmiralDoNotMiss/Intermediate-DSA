{
 "cells": [
  {
   "cell_type": "code",
   "execution_count": 5,
   "id": "25c4b79e",
   "metadata": {},
   "outputs": [],
   "source": [
    "def NumberOfElements(array,B):\n",
    "    return BinarySearch(array,B,0,len(array)-1)\n",
    "\n",
    "def BinarySearch(array,B,left,right):\n",
    "    while left <= right:\n",
    "        middle = (left+right)//2\n",
    "        potentialmatch = array[middle]\n",
    "        if B < array[middle]:\n",
    "            right = middle-1\n",
    "        else:\n",
    "            ans = middle\n",
    "            left = middle+1\n",
    "    return ans + 1"
   ]
  },
  {
   "cell_type": "code",
   "execution_count": 33,
   "id": "14ef1387",
   "metadata": {},
   "outputs": [
    {
     "data": {
      "text/plain": [
       "4"
      ]
     },
     "execution_count": 33,
     "metadata": {},
     "output_type": "execute_result"
    }
   ],
   "source": [
    "NumberOfElements([1, 2, 5, 5],5)"
   ]
  },
  {
   "cell_type": "code",
   "execution_count": 12,
   "id": "87370a0e",
   "metadata": {},
   "outputs": [
    {
     "name": "stdout",
     "output_type": "stream",
     "text": [
      "Found the required character at position:  1\n"
     ]
    }
   ],
   "source": [
    "string='hello'\n",
    "char='e'\n",
    "for i in range(0,len(string)):                                    #Blank\n",
    "    if string[i] == char:\n",
    "        print('Found the required character at position: ', i) #i is the index of char"
   ]
  },
  {
   "cell_type": "code",
   "execution_count": 2,
   "id": "95554eda",
   "metadata": {},
   "outputs": [],
   "source": [
    "def binary_search(array,target):\n",
    "    return Binary_help(array,target,0,len(array)-1)\n",
    "\n",
    "def Binary_help(array,target,left,right):\n",
    "    while left <= right:\n",
    "        middle = left + (right - left)//2\n",
    "        potentialmatch = array[middle]\n",
    "        if target == potentialmatch:\n",
    "            return middle\n",
    "        elif target > potentialmatch:\n",
    "            left = middle + 1\n",
    "        else:\n",
    "            right = middle - 1\n",
    "    return left\n",
    "    "
   ]
  },
  {
   "cell_type": "code",
   "execution_count": 3,
   "id": "2b26e45e",
   "metadata": {},
   "outputs": [
    {
     "data": {
      "text/plain": [
       "2"
      ]
     },
     "execution_count": 3,
     "metadata": {},
     "output_type": "execute_result"
    }
   ],
   "source": [
    "binary_search([1, 3, 5, 6],4)"
   ]
  },
  {
   "cell_type": "code",
   "execution_count": 24,
   "id": "eb1786ee",
   "metadata": {},
   "outputs": [
    {
     "data": {
      "text/plain": [
       "0.5"
      ]
     },
     "execution_count": 24,
     "metadata": {},
     "output_type": "execute_result"
    }
   ],
   "source": [
    "\n",
    "(2-1)/2\n"
   ]
  },
  {
   "cell_type": "code",
   "execution_count": null,
   "id": "82263bde",
   "metadata": {},
   "outputs": [],
   "source": []
  }
 ],
 "metadata": {
  "kernelspec": {
   "display_name": "Python 3 (ipykernel)",
   "language": "python",
   "name": "python3"
  },
  "language_info": {
   "codemirror_mode": {
    "name": "ipython",
    "version": 3
   },
   "file_extension": ".py",
   "mimetype": "text/x-python",
   "name": "python",
   "nbconvert_exporter": "python",
   "pygments_lexer": "ipython3",
   "version": "3.11.2"
  }
 },
 "nbformat": 4,
 "nbformat_minor": 5
}
