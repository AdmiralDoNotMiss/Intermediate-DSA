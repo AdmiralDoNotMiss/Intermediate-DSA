{
 "cells": [
  {
   "cell_type": "markdown",
   "id": "581f3e34",
   "metadata": {},
   "source": [
    "# Generate n natural numbers"
   ]
  },
  {
   "cell_type": "code",
   "execution_count": 9,
   "id": "1990020d",
   "metadata": {},
   "outputs": [],
   "source": [
    "def rec_one_max(n,max_num):\n",
    "    print(n)\n",
    "    n = n+1\n",
    "    if n==max_num:\n",
    "        print(n)\n",
    "        return\n",
    "    rec_one_max(n,max_num)"
   ]
  },
  {
   "cell_type": "code",
   "execution_count": 10,
   "id": "7fe26929",
   "metadata": {},
   "outputs": [
    {
     "name": "stdout",
     "output_type": "stream",
     "text": [
      "2\n",
      "3\n",
      "4\n",
      "5\n",
      "6\n",
      "7\n",
      "8\n"
     ]
    }
   ],
   "source": [
    "rec_one_max(2,8)"
   ]
  },
  {
   "cell_type": "markdown",
   "id": "a9644fe9",
   "metadata": {},
   "source": [
    "# Define print_even"
   ]
  },
  {
   "cell_type": "code",
   "execution_count": 13,
   "id": "87d3eee6",
   "metadata": {},
   "outputs": [],
   "source": [
    "def print_even(max_num,n=2):\n",
    "    print(n)\n",
    "    n= n+2\n",
    "    if n <= max_num:\n",
    "        print_even(max_num,n)"
   ]
  },
  {
   "cell_type": "code",
   "execution_count": 14,
   "id": "11a8306b",
   "metadata": {},
   "outputs": [
    {
     "name": "stdout",
     "output_type": "stream",
     "text": [
      "2\n",
      "4\n",
      "6\n",
      "8\n"
     ]
    }
   ],
   "source": [
    "print_even(9)"
   ]
  },
  {
   "cell_type": "code",
   "execution_count": 20,
   "id": "05db1ed7",
   "metadata": {},
   "outputs": [
    {
     "name": "stdout",
     "output_type": "stream",
     "text": [
      "Exec "
     ]
    }
   ],
   "source": [
    "n=8\n",
    "while n>=0:\n",
    "    n -= 2\n",
    "    if n%2==0:\n",
    "        continue\n",
    "    print(n, end=\" \")\n",
    "else:\n",
    "    print(\"Exec\", end=\" \")\n",
    "    "
   ]
  },
  {
   "cell_type": "code",
   "execution_count": null,
   "id": "910f7234",
   "metadata": {},
   "outputs": [],
   "source": [
    "c = 0\n",
    "while c<=10:\n",
    "    print(c)\n",
    "    if c%2:\n",
    "        c-=1\n",
    "    else:\n",
    "        c+=1\n",
    "        \n",
    "# Infinite Loop Do not run"
   ]
  },
  {
   "cell_type": "code",
   "execution_count": 69,
   "id": "4167bf08",
   "metadata": {},
   "outputs": [
    {
     "name": "stdout",
     "output_type": "stream",
     "text": [
      "3\n"
     ]
    }
   ],
   "source": [
    "num=8\n",
    "base=2\n",
    "cnt=0\n",
    "while(num>1):\n",
    "    num = num/base\n",
    "    cnt+=1\n",
    "print(cnt)"
   ]
  },
  {
   "cell_type": "code",
   "execution_count": 4,
   "id": "f4034ca8",
   "metadata": {},
   "outputs": [],
   "source": [
    "def rec_one_max(n,max_num):\n",
    "    print(n)\n",
    "    n = n+1\n",
    "    if n == max_num:\n",
    "        print(n)\n",
    "        return\n",
    "    rec_one_max(n,max_num)"
   ]
  },
  {
   "cell_type": "code",
   "execution_count": 5,
   "id": "82816ce2",
   "metadata": {},
   "outputs": [
    {
     "name": "stdout",
     "output_type": "stream",
     "text": [
      "1\n",
      "2\n",
      "3\n",
      "4\n",
      "5\n"
     ]
    }
   ],
   "source": [
    "rec_one_max(1,5)"
   ]
  },
  {
   "cell_type": "code",
   "execution_count": 17,
   "id": "04bd9663",
   "metadata": {},
   "outputs": [],
   "source": [
    "def print_even(max_n,n=2):\n",
    "    print(n)\n",
    "    n = n+2\n",
    "    if n <= max_n:\n",
    "        print_even(max_n,n) \n",
    "    \n",
    "    "
   ]
  },
  {
   "cell_type": "code",
   "execution_count": 18,
   "id": "1c31e675",
   "metadata": {},
   "outputs": [
    {
     "name": "stdout",
     "output_type": "stream",
     "text": [
      "2\n",
      "4\n",
      "6\n",
      "8\n",
      "10\n"
     ]
    }
   ],
   "source": [
    "print_even(11)\n",
    "           "
   ]
  },
  {
   "cell_type": "code",
   "execution_count": 19,
   "id": "b3871074",
   "metadata": {},
   "outputs": [],
   "source": [
    "def print_remainder(a,b):\n",
    "    if a < b:\n",
    "        print(a)\n",
    "    else:\n",
    "        a = a-b\n",
    "        print_remainder(a,b)"
   ]
  },
  {
   "cell_type": "code",
   "execution_count": 20,
   "id": "5133182b",
   "metadata": {},
   "outputs": [
    {
     "name": "stdout",
     "output_type": "stream",
     "text": [
      "1\n"
     ]
    }
   ],
   "source": [
    "print_remainder(5,2)"
   ]
  },
  {
   "cell_type": "code",
   "execution_count": 29,
   "id": "ae476a38",
   "metadata": {},
   "outputs": [
    {
     "name": "stdout",
     "output_type": "stream",
     "text": [
      "10\n"
     ]
    }
   ],
   "source": [
    "bin_str = '1010'\n",
    "val = 0\n",
    "pow = 0\n",
    "while len(bin_str)>0:\n",
    "    digit = int(bin_str[-1])\n",
    "    val += digit * 2**pow\n",
    "    pow += 1\n",
    "    bin_str = bin_str[:-1]\n",
    "print(val)\n",
    "    "
   ]
  },
  {
   "cell_type": "code",
   "execution_count": 30,
   "id": "f85ab6b0",
   "metadata": {},
   "outputs": [],
   "source": [
    "def bin_to_dec(bin_str,val=0,pow=0):\n",
    "    if len(bin_str)==0:\n",
    "        print(val)\n",
    "    else:\n",
    "        digit = int(bin_str[-1])\n",
    "        val += digit * 2**pow\n",
    "        pow += 1\n",
    "        bin_str = bin_str[:-1]\n",
    "        \n",
    "        bin_to_dec(bin_str,val,pow)\n",
    "    \n",
    "    "
   ]
  },
  {
   "cell_type": "code",
   "execution_count": 33,
   "id": "44d9ff39",
   "metadata": {},
   "outputs": [
    {
     "name": "stdout",
     "output_type": "stream",
     "text": [
      "15\n"
     ]
    }
   ],
   "source": [
    "bin_to_dec('1111')"
   ]
  },
  {
   "cell_type": "code",
   "execution_count": 39,
   "id": "ccbd9d4a",
   "metadata": {},
   "outputs": [
    {
     "name": "stdout",
     "output_type": "stream",
     "text": [
      "111\n"
     ]
    }
   ],
   "source": [
    "num = 7\n",
    "bin_str = ''\n",
    "while num > 0:\n",
    "    last_digit = num % 2\n",
    "    num = num // 2\n",
    "    bin_str = str(last_digit) + bin_str\n",
    "print(bin_str)\n",
    "    "
   ]
  },
  {
   "cell_type": "code",
   "execution_count": 42,
   "id": "c54a0399",
   "metadata": {},
   "outputs": [],
   "source": [
    "def dec_to_bin(num,bin_str=''):\n",
    "    if num==0:\n",
    "        print(bin_str)\n",
    "    else:\n",
    "        last_digit = num % 2\n",
    "        num = num // 2\n",
    "        bin_str = str(last_digit) + bin_str\n",
    "        dec_to_bin(num,bin_str)"
   ]
  },
  {
   "cell_type": "code",
   "execution_count": 43,
   "id": "357c3e4a",
   "metadata": {},
   "outputs": [
    {
     "name": "stdout",
     "output_type": "stream",
     "text": [
      "111\n"
     ]
    }
   ],
   "source": [
    "dec_to_bin(7)"
   ]
  },
  {
   "cell_type": "code",
   "execution_count": 61,
   "id": "30a2ff1e",
   "metadata": {},
   "outputs": [],
   "source": [
    "def palindrome(num,bin_str=''):\n",
    "    while num > 0:\n",
    "        last_digit = num % 2\n",
    "        num = num // 2\n",
    "        bin_str = str(last_digit)+ bin_str\n",
    "    print(bin_str)\n",
    "    print(bin_str[::-1])\n",
    "        \n",
    "    if bin_str == bin_str[::-1]:\n",
    "        print('yes it is palindrome')\n",
    "    else:\n",
    "        print('not palindrome')\n",
    "        \n",
    "        "
   ]
  },
  {
   "cell_type": "code",
   "execution_count": 64,
   "id": "33e9fdca",
   "metadata": {},
   "outputs": [
    {
     "name": "stdout",
     "output_type": "stream",
     "text": [
      "1001\n",
      "1001\n",
      "yes it is palindrome\n"
     ]
    }
   ],
   "source": [
    "palindrome(9)"
   ]
  },
  {
   "cell_type": "code",
   "execution_count": 86,
   "id": "814a3905",
   "metadata": {},
   "outputs": [],
   "source": [
    "def isPowerOfTwo(x:int):\n",
    "    if(x == 0):\n",
    "        return False\n",
    "    else:\n",
    "        while(x & 1 == 0):\n",
    "            x >>= 1\n",
    "    return x == 1"
   ]
  },
  {
   "cell_type": "code",
   "execution_count": 90,
   "id": "95735293",
   "metadata": {},
   "outputs": [
    {
     "data": {
      "text/plain": [
       "True"
      ]
     },
     "execution_count": 90,
     "metadata": {},
     "output_type": "execute_result"
    }
   ],
   "source": [
    "isPowerOfTwo(8)"
   ]
  },
  {
   "cell_type": "code",
   "execution_count": 78,
   "id": "4a588694",
   "metadata": {},
   "outputs": [
    {
     "data": {
      "text/plain": [
       "0"
      ]
     },
     "execution_count": 78,
     "metadata": {},
     "output_type": "execute_result"
    }
   ],
   "source": [
    "8 & 1"
   ]
  },
  {
   "cell_type": "code",
   "execution_count": 92,
   "id": "25fe669b",
   "metadata": {},
   "outputs": [
    {
     "data": {
      "text/plain": [
       "4"
      ]
     },
     "execution_count": 92,
     "metadata": {},
     "output_type": "execute_result"
    }
   ],
   "source": [
    "8 >> 1"
   ]
  },
  {
   "cell_type": "code",
   "execution_count": 98,
   "id": "a51732b3",
   "metadata": {},
   "outputs": [
    {
     "name": "stdout",
     "output_type": "stream",
     "text": [
      "13 0b1101 6 0b110 3 0b11 1 0b1 "
     ]
    }
   ],
   "source": [
    "i=13\n",
    "for j in range(0,4):\n",
    "    k=i>>j\n",
    "    print(k,bin(k), end=\" \")\n"
   ]
  },
  {
   "cell_type": "code",
   "execution_count": 99,
   "id": "43cd38de",
   "metadata": {},
   "outputs": [
    {
     "name": "stdout",
     "output_type": "stream",
     "text": [
      "Mohan 25 "
     ]
    }
   ],
   "source": [
    "\n",
    "def display_person(*demos):\n",
    "    for i in demos:\n",
    "        print(i, end= \" \")\n",
    "\n",
    "display_person(\"Mohan\", \"25\")"
   ]
  },
  {
   "cell_type": "code",
   "execution_count": 101,
   "id": "7c400cce",
   "metadata": {},
   "outputs": [
    {
     "name": "stdout",
     "output_type": "stream",
     "text": [
      "(8, 7)\n"
     ]
    }
   ],
   "source": [
    "def add(a, b):\n",
    "     return a+5, b+5\n",
    "\n",
    "result = add(3, 2)\n",
    "print(result)"
   ]
  },
  {
   "cell_type": "code",
   "execution_count": 104,
   "id": "a97834d5",
   "metadata": {},
   "outputs": [],
   "source": [
    "def get_reverse(lst):\n",
    "    \n",
    "    new_lst = lst[::-1]\n",
    "    return new_lst"
   ]
  },
  {
   "cell_type": "code",
   "execution_count": 105,
   "id": "0976314d",
   "metadata": {},
   "outputs": [
    {
     "data": {
      "text/plain": [
       "[5, 4, 3, 2, 1]"
      ]
     },
     "execution_count": 105,
     "metadata": {},
     "output_type": "execute_result"
    }
   ],
   "source": [
    "get_reverse([1,2,3,4,5])"
   ]
  },
  {
   "cell_type": "code",
   "execution_count": 106,
   "id": "52c38424",
   "metadata": {},
   "outputs": [
    {
     "name": "stdout",
     "output_type": "stream",
     "text": [
      "Machine Learning\n"
     ]
    }
   ],
   "source": [
    "if False:                                       #1\n",
    "    print(\"Artificial Intelligence\")\n",
    "elif True:                                      #2\n",
    "    print(\"Machine Learning\")\n",
    "elif True:                                      #3\n",
    "    print(\"Data Science\")\n",
    "else:                                           #4\n",
    "    print(\"Deep Learning\")  "
   ]
  },
  {
   "cell_type": "code",
   "execution_count": null,
   "id": "37437dd8",
   "metadata": {},
   "outputs": [],
   "source": []
  }
 ],
 "metadata": {
  "kernelspec": {
   "display_name": "Python 3 (ipykernel)",
   "language": "python",
   "name": "python3"
  },
  "language_info": {
   "codemirror_mode": {
    "name": "ipython",
    "version": 3
   },
   "file_extension": ".py",
   "mimetype": "text/x-python",
   "name": "python",
   "nbconvert_exporter": "python",
   "pygments_lexer": "ipython3",
   "version": "3.11.2"
  }
 },
 "nbformat": 4,
 "nbformat_minor": 5
}
