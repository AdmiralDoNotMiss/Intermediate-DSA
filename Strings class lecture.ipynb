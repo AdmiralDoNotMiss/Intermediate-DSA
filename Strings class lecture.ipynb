{
 "cells": [
  {
   "cell_type": "code",
   "execution_count": 1,
   "id": "8a555786",
   "metadata": {},
   "outputs": [
    {
     "name": "stdout",
     "output_type": "stream",
     "text": [
      "I\n",
      "N\n",
      "D\n",
      "I\n",
      "A\n"
     ]
    }
   ],
   "source": [
    "my_country = 'INDIA'\n",
    "for char in my_country:\n",
    "    print(char)"
   ]
  },
  {
   "cell_type": "code",
   "execution_count": 2,
   "id": "fa83db80",
   "metadata": {},
   "outputs": [
    {
     "name": "stdout",
     "output_type": "stream",
     "text": [
      "I\n",
      "A\n"
     ]
    }
   ],
   "source": [
    "my_country= 'INDIA'\n",
    "print(my_country[0])\n",
    "print(my_country[-1])"
   ]
  },
  {
   "cell_type": "code",
   "execution_count": 3,
   "id": "44e4fd92",
   "metadata": {},
   "outputs": [
    {
     "name": "stdout",
     "output_type": "stream",
     "text": [
      "INDIA\n",
      "73\n",
      "78\n",
      "68\n",
      "73\n",
      "65\n"
     ]
    }
   ],
   "source": [
    "my_country = input()\n",
    "for char in my_country:\n",
    "    print(ord(char))"
   ]
  },
  {
   "cell_type": "code",
   "execution_count": 4,
   "id": "23fee83f",
   "metadata": {},
   "outputs": [
    {
     "name": "stdout",
     "output_type": "stream",
     "text": [
      "INDIAINDIAINDIA\n"
     ]
    }
   ],
   "source": [
    "my_country = 'INDIA'\n",
    "print(my_country*3)"
   ]
  },
  {
   "cell_type": "code",
   "execution_count": 6,
   "id": "3a0c4c4d",
   "metadata": {},
   "outputs": [
    {
     "name": "stdout",
     "output_type": "stream",
     "text": [
      "PhoenixPhoenixPhoenix\n",
      "21\n"
     ]
    }
   ],
   "source": [
    "city = 'Phoenix'\n",
    "print(city*3)\n",
    "print(len(city)*3)"
   ]
  },
  {
   "cell_type": "code",
   "execution_count": 7,
   "id": "76da3c41",
   "metadata": {},
   "outputs": [
    {
     "name": "stdout",
     "output_type": "stream",
     "text": [
      "INdiA\n",
      "3\n"
     ]
    }
   ],
   "source": [
    "my_country = input()\n",
    "count_upper = 0\n",
    "for c in my_country:\n",
    "    if ord(c)>=65 and ord(c) <=90:\n",
    "        count_upper+=1\n",
    "print(count_upper)\n",
    "        "
   ]
  },
  {
   "cell_type": "code",
   "execution_count": 13,
   "id": "1a6dd376",
   "metadata": {},
   "outputs": [
    {
     "name": "stdout",
     "output_type": "stream",
     "text": [
      "Radha\n",
      "1\n",
      "2\n",
      "3\n",
      "4\n",
      "5\n"
     ]
    }
   ],
   "source": [
    "my_country = input()\n",
    "count_upper=0\n",
    "for char in my_country:\n",
    "    if c.isupper():\n",
    "        count_upper+=1\n",
    "    .print(count_upper)"
   ]
  },
  {
   "cell_type": "markdown",
   "id": "d1a75c18",
   "metadata": {},
   "source": [
    "# Convert lower case to upper case"
   ]
  },
  {
   "cell_type": "code",
   "execution_count": 19,
   "id": "af451982",
   "metadata": {},
   "outputs": [
    {
     "name": "stdout",
     "output_type": "stream",
     "text": [
      "RADHA\n",
      "R\n",
      "r\n",
      "res is:  r\n",
      "---------\n",
      "A\n",
      "a\n",
      "res is:  ra\n",
      "---------\n",
      "D\n",
      "d\n",
      "res is:  rad\n",
      "---------\n",
      "H\n",
      "h\n",
      "res is:  radh\n",
      "---------\n",
      "A\n",
      "a\n",
      "res is:  radha\n",
      "---------\n",
      "final result is:  radha\n"
     ]
    }
   ],
   "source": [
    "my_name = input()\n",
    "res = ' '\n",
    "for c in my_name:\n",
    "    print(c)\n",
    "    cnew=ord(c)+32\n",
    "    print(chr(cnew))\n",
    "    res+=chr(cnew)\n",
    "    print('res is:',res)\n",
    "    print('---------')\n",
    "print('final result is:',res)"
   ]
  },
  {
   "cell_type": "markdown",
   "id": "b2f43b65",
   "metadata": {},
   "source": [
    "# FINAL CODE"
   ]
  },
  {
   "cell_type": "code",
   "execution_count": 17,
   "id": "6eb5dcf7",
   "metadata": {},
   "outputs": [
    {
     "name": "stdout",
     "output_type": "stream",
     "text": [
      "RadhaKRISHNA\n",
      "final result is:  radhakrishna\n"
     ]
    }
   ],
   "source": [
    "my_name = input()\n",
    "res = ' '\n",
    "for c in my_name:\n",
    "    if c.isupper():\n",
    "        cnew = ord(c)+32\n",
    "        res+=chr(cnew)\n",
    "    else:\n",
    "        res+=c\n",
    "print('final result is:',res)"
   ]
  },
  {
   "cell_type": "code",
   "execution_count": 23,
   "id": "544450ff",
   "metadata": {},
   "outputs": [],
   "source": [
    "def spongebob(str):\n",
    "    new_str = ' '\n",
    "    for ind,char in enumerate(str):\n",
    "        if ind%2==1:\n",
    "            new_str+=char.lower()\n",
    "        else:\n",
    "            new_str+=char.upper()\n",
    "    return new_str\n",
    "    "
   ]
  },
  {
   "cell_type": "code",
   "execution_count": 24,
   "id": "0dae9781",
   "metadata": {},
   "outputs": [
    {
     "data": {
      "text/plain": [
       "' InDiA'"
      ]
     },
     "execution_count": 24,
     "metadata": {},
     "output_type": "execute_result"
    }
   ],
   "source": [
    "spongebob('India')"
   ]
  },
  {
   "cell_type": "code",
   "execution_count": 25,
   "id": "09546868",
   "metadata": {},
   "outputs": [
    {
     "name": "stdout",
     "output_type": "stream",
     "text": [
      "True\n"
     ]
    }
   ],
   "source": [
    "s = '123456'\n",
    "print('6'in s)"
   ]
  },
  {
   "cell_type": "code",
   "execution_count": 26,
   "id": "f7497894",
   "metadata": {},
   "outputs": [],
   "source": [
    "def unique(str):\n",
    "    letters=[]\n",
    "    for char in str:\n",
    "        if char not in letters:\n",
    "            letters.append(char)\n",
    "    return letters"
   ]
  },
  {
   "cell_type": "code",
   "execution_count": 29,
   "id": "90532114",
   "metadata": {},
   "outputs": [
    {
     "data": {
      "text/plain": [
       "['1', '2', '3', '4', '5']"
      ]
     },
     "execution_count": 29,
     "metadata": {},
     "output_type": "execute_result"
    }
   ],
   "source": [
    "unique('122334455')"
   ]
  },
  {
   "cell_type": "code",
   "execution_count": null,
   "id": "18be1913",
   "metadata": {},
   "outputs": [],
   "source": []
  }
 ],
 "metadata": {
  "kernelspec": {
   "display_name": "Python 3 (ipykernel)",
   "language": "python",
   "name": "python3"
  },
  "language_info": {
   "codemirror_mode": {
    "name": "ipython",
    "version": 3
   },
   "file_extension": ".py",
   "mimetype": "text/x-python",
   "name": "python",
   "nbconvert_exporter": "python",
   "pygments_lexer": "ipython3",
   "version": "3.11.2"
  }
 },
 "nbformat": 4,
 "nbformat_minor": 5
}
