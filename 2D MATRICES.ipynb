{
 "cells": [
  {
   "cell_type": "markdown",
   "id": "4a716c6d",
   "metadata": {},
   "source": [
    "# List Slicing\n"
   ]
  },
  {
   "cell_type": "code",
   "execution_count": 1,
   "id": "8ac238db",
   "metadata": {},
   "outputs": [],
   "source": [
    "a = [1,9,2,8,4,5,6,7]"
   ]
  },
  {
   "cell_type": "code",
   "execution_count": 2,
   "id": "6fb30ee9",
   "metadata": {},
   "outputs": [
    {
     "data": {
      "text/plain": [
       "[1, 9, 2, 8]"
      ]
     },
     "execution_count": 2,
     "metadata": {},
     "output_type": "execute_result"
    }
   ],
   "source": [
    "a[0:4:1]"
   ]
  },
  {
   "cell_type": "code",
   "execution_count": 3,
   "id": "444d4c27",
   "metadata": {},
   "outputs": [
    {
     "data": {
      "text/plain": [
       "[1, 9, 2, 8]"
      ]
     },
     "execution_count": 3,
     "metadata": {},
     "output_type": "execute_result"
    }
   ],
   "source": [
    "a[0:4]"
   ]
  },
  {
   "cell_type": "code",
   "execution_count": 4,
   "id": "7e0c1074",
   "metadata": {},
   "outputs": [],
   "source": [
    "d = a[:4]"
   ]
  },
  {
   "cell_type": "code",
   "execution_count": 5,
   "id": "e31c9720",
   "metadata": {},
   "outputs": [
    {
     "name": "stdout",
     "output_type": "stream",
     "text": [
      "[1, 9, 2, 8]\n"
     ]
    }
   ],
   "source": [
    "print(d)"
   ]
  },
  {
   "cell_type": "code",
   "execution_count": 6,
   "id": "6a35d6bf",
   "metadata": {},
   "outputs": [
    {
     "name": "stdout",
     "output_type": "stream",
     "text": [
      "[1, 9, 2, 8, 4, 5, 6, 7]\n"
     ]
    }
   ],
   "source": [
    "e = a[:]\n",
    "print(e)"
   ]
  },
  {
   "cell_type": "code",
   "execution_count": 7,
   "id": "7cbe4a64",
   "metadata": {},
   "outputs": [],
   "source": [
    "f = a[:(len(a)-1)]"
   ]
  },
  {
   "cell_type": "code",
   "execution_count": 8,
   "id": "44b97a4a",
   "metadata": {},
   "outputs": [
    {
     "name": "stdout",
     "output_type": "stream",
     "text": [
      "[1, 9, 2, 8, 4, 5, 6]\n"
     ]
    }
   ],
   "source": [
    "print(f)"
   ]
  },
  {
   "cell_type": "code",
   "execution_count": 9,
   "id": "afddde19",
   "metadata": {},
   "outputs": [],
   "source": [
    "g = a[:len(a)]"
   ]
  },
  {
   "cell_type": "code",
   "execution_count": 10,
   "id": "91996ca5",
   "metadata": {},
   "outputs": [
    {
     "name": "stdout",
     "output_type": "stream",
     "text": [
      "[1, 9, 2, 8, 4, 5, 6, 7]\n"
     ]
    }
   ],
   "source": [
    "print(g)"
   ]
  },
  {
   "cell_type": "code",
   "execution_count": 13,
   "id": "1db48034",
   "metadata": {},
   "outputs": [],
   "source": [
    "a = [4,2,3,5,6]\n",
    "b =a"
   ]
  },
  {
   "cell_type": "code",
   "execution_count": 14,
   "id": "56bf8045",
   "metadata": {},
   "outputs": [
    {
     "name": "stdout",
     "output_type": "stream",
     "text": [
      "[4, 2, 3, 5, 6]\n"
     ]
    }
   ],
   "source": [
    "print(b)"
   ]
  },
  {
   "cell_type": "code",
   "execution_count": 15,
   "id": "aec6ea8b",
   "metadata": {},
   "outputs": [],
   "source": [
    "a = [5,4,5,6,4]\n",
    "b = a[:]\n",
    "a[0]=3"
   ]
  },
  {
   "cell_type": "code",
   "execution_count": 16,
   "id": "6996e2d2",
   "metadata": {},
   "outputs": [
    {
     "name": "stdout",
     "output_type": "stream",
     "text": [
      "[3, 4, 5, 6, 4]\n"
     ]
    }
   ],
   "source": [
    "print(a)"
   ]
  },
  {
   "cell_type": "code",
   "execution_count": 17,
   "id": "bd7776a0",
   "metadata": {},
   "outputs": [
    {
     "name": "stdout",
     "output_type": "stream",
     "text": [
      "[5, 4, 5, 6, 4]\n"
     ]
    }
   ],
   "source": [
    "print(b)"
   ]
  },
  {
   "cell_type": "markdown",
   "id": "86925ad5",
   "metadata": {},
   "source": [
    "# Tuples"
   ]
  },
  {
   "cell_type": "code",
   "execution_count": 19,
   "id": "3d0b8d6a",
   "metadata": {},
   "outputs": [
    {
     "name": "stdout",
     "output_type": "stream",
     "text": [
      "<class 'tuple'>\n"
     ]
    }
   ],
   "source": [
    "a = tuple()\n",
    "print(type(a))"
   ]
  },
  {
   "cell_type": "code",
   "execution_count": 20,
   "id": "dce79039",
   "metadata": {},
   "outputs": [
    {
     "name": "stdout",
     "output_type": "stream",
     "text": [
      "<class 'list'>\n"
     ]
    }
   ],
   "source": [
    "a = list()\n",
    "print(type(a))"
   ]
  },
  {
   "cell_type": "code",
   "execution_count": 22,
   "id": "00b344b3",
   "metadata": {},
   "outputs": [
    {
     "name": "stdout",
     "output_type": "stream",
     "text": [
      "<class 'int'>\n"
     ]
    }
   ],
   "source": [
    "e = (9)\n",
    "print(type(e))"
   ]
  },
  {
   "cell_type": "code",
   "execution_count": 23,
   "id": "c32ab9f6",
   "metadata": {},
   "outputs": [
    {
     "name": "stdout",
     "output_type": "stream",
     "text": [
      "<class 'tuple'>\n"
     ]
    }
   ],
   "source": [
    "d = ()\n",
    "print(type(d))"
   ]
  },
  {
   "cell_type": "code",
   "execution_count": 24,
   "id": "ff933d26",
   "metadata": {},
   "outputs": [
    {
     "name": "stdout",
     "output_type": "stream",
     "text": [
      "<class 'str'>\n"
     ]
    }
   ],
   "source": [
    "b = ('Radha')\n",
    "print(type(b))"
   ]
  },
  {
   "cell_type": "code",
   "execution_count": 25,
   "id": "97fde8da",
   "metadata": {},
   "outputs": [
    {
     "name": "stdout",
     "output_type": "stream",
     "text": [
      "<class 'tuple'>\n"
     ]
    }
   ],
   "source": [
    "f = (1,)\n",
    "print(type(f))"
   ]
  },
  {
   "cell_type": "markdown",
   "id": "8d69ce5f",
   "metadata": {},
   "source": [
    "# List and tuple conversion"
   ]
  },
  {
   "cell_type": "code",
   "execution_count": 32,
   "id": "cc8b876b",
   "metadata": {},
   "outputs": [
    {
     "name": "stdout",
     "output_type": "stream",
     "text": [
      "<class 'int'>\n"
     ]
    }
   ],
   "source": [
    "x = int(x)\n",
    "print(type(x))\n"
   ]
  },
  {
   "cell_type": "markdown",
   "id": "48b59a45",
   "metadata": {},
   "source": [
    "# MAP FUNCTION"
   ]
  },
  {
   "cell_type": "code",
   "execution_count": 33,
   "id": "1f8e5b59",
   "metadata": {},
   "outputs": [
    {
     "name": "stdout",
     "output_type": "stream",
     "text": [
      "[16, 25, 36, 16, 64, 64, 64]\n"
     ]
    }
   ],
   "source": []
  },
  {
   "cell_type": "code",
   "execution_count": 37,
   "id": "09bd173a",
   "metadata": {},
   "outputs": [],
   "source": [
    "l = [1,2,3,4,5,6]\n",
    "def square(x):\n",
    "    return (x*x)\n",
    "l3 = list(map(square,l))"
   ]
  },
  {
   "cell_type": "code",
   "execution_count": 38,
   "id": "7268c8bf",
   "metadata": {},
   "outputs": [
    {
     "name": "stdout",
     "output_type": "stream",
     "text": [
      "[1, 4, 9, 16, 25, 36]\n"
     ]
    }
   ],
   "source": [
    "print(l3)"
   ]
  },
  {
   "cell_type": "markdown",
   "id": "a707bbbf",
   "metadata": {},
   "source": []
  },
  {
   "cell_type": "code",
   "execution_count": 39,
   "id": "54ad0f1c",
   "metadata": {},
   "outputs": [
    {
     "name": "stdout",
     "output_type": "stream",
     "text": [
      "1 2 3 4 5 6\n",
      "['1', '2', '3', '4', '5', '6']\n",
      "[1, 2, 3, 4, 5, 6]\n"
     ]
    }
   ],
   "source": [
    "x = input().split()\n",
    "print(x)\n",
    "int_coordinates = list(map(int,x))\n",
    "print(int_coordinates)"
   ]
  },
  {
   "cell_type": "markdown",
   "id": "5e3bdc27",
   "metadata": {},
   "source": [
    "# Single line brahmastra code"
   ]
  },
  {
   "cell_type": "code",
   "execution_count": 41,
   "id": "0e4ab836",
   "metadata": {},
   "outputs": [
    {
     "name": "stdout",
     "output_type": "stream",
     "text": [
      "1 2 3 4 5 6 7\n"
     ]
    }
   ],
   "source": [
    "input_list = list(map(int,input().split()))"
   ]
  },
  {
   "cell_type": "code",
   "execution_count": 42,
   "id": "7905d5f4",
   "metadata": {},
   "outputs": [
    {
     "name": "stdout",
     "output_type": "stream",
     "text": [
      "[1, 2, 3, 4, 5, 6, 7]\n"
     ]
    }
   ],
   "source": [
    "print(input_list)"
   ]
  },
  {
   "cell_type": "code",
   "execution_count": 43,
   "id": "b26a4b43",
   "metadata": {},
   "outputs": [],
   "source": [
    "input_tuple = tuple(input_list)"
   ]
  },
  {
   "cell_type": "code",
   "execution_count": 44,
   "id": "a43c7527",
   "metadata": {},
   "outputs": [
    {
     "name": "stdout",
     "output_type": "stream",
     "text": [
      "(1, 2, 3, 4, 5, 6, 7)\n"
     ]
    }
   ],
   "source": [
    "print(input_tuple)"
   ]
  },
  {
   "cell_type": "markdown",
   "id": "0ba5165b",
   "metadata": {},
   "source": [
    "# 2D list as input from user"
   ]
  },
  {
   "cell_type": "code",
   "execution_count": 49,
   "id": "797063ca",
   "metadata": {},
   "outputs": [
    {
     "name": "stdout",
     "output_type": "stream",
     "text": [
      "Give  no. of rows: 2\n",
      "1 2 3 4 5\n",
      "[1, 2, 3, 4, 5]\n",
      " 1 4 5 2 36 5\n",
      "[1, 4, 5, 2, 36, 5]\n"
     ]
    }
   ],
   "source": [
    "r = int(input('Give  no. of rows: '))\n",
    "for i in range(r):\n",
    "    current_row = list(map(int,input().split()))\n",
    "    print(current_row)"
   ]
  },
  {
   "cell_type": "code",
   "execution_count": 51,
   "id": "db71f3be",
   "metadata": {},
   "outputs": [
    {
     "name": "stdout",
     "output_type": "stream",
     "text": [
      "4\n"
     ]
    }
   ],
   "source": [
    "r = int(input())"
   ]
  },
  {
   "cell_type": "markdown",
   "id": "b15ce1c3",
   "metadata": {},
   "source": [
    "# How to take rows & column as input from user"
   ]
  },
  {
   "cell_type": "code",
   "execution_count": 1,
   "id": "8a76c33b",
   "metadata": {},
   "outputs": [
    {
     "name": "stdout",
     "output_type": "stream",
     "text": [
      "2 3\n",
      "No. of rows: 2\n",
      "No. of cols: 3\n",
      "1 2 3\n",
      "4 5 6\n",
      "[[1, 2, 3], [4, 5, 6]]\n"
     ]
    }
   ],
   "source": [
    "r,c = tuple(map(int,input().split()))\n",
    "print('No. of rows:',r)\n",
    "print('No. of cols:',c)\n",
    "final_list = []\n",
    "for i in range(r):\n",
    "    current_row = list(map(int,input().split()))\n",
    "    final_list.append(current_row)\n",
    "print(final_list)"
   ]
  },
  {
   "cell_type": "markdown",
   "id": "d234b420",
   "metadata": {},
   "source": [
    "# Sum of Matrix"
   ]
  },
  {
   "cell_type": "raw",
   "id": "478f8226",
   "metadata": {},
   "source": []
  },
  {
   "cell_type": "code",
   "execution_count": 6,
   "id": "63343251",
   "metadata": {},
   "outputs": [
    {
     "name": "stdout",
     "output_type": "stream",
     "text": [
      "2 3\n",
      "no. of rows: 2\n",
      "no. of cols: 3\n",
      "1 2 3 \n",
      " 4 5 6\n",
      "[[1, 2, 3], [4, 5, 6]]\n"
     ]
    }
   ],
   "source": [
    "r,c = tuple(map(int,input().split()))\n",
    "print('no. of rows:',2)\n",
    "print('no. of cols:',3)\n",
    "sum_list=[]\n",
    "for i in range(r):\n",
    "    current_row = list(map(int,input().split()))\n",
    "    sum_list.append(current_row)\n",
    "print(sum_list)\n",
    "\n",
    "                    "
   ]
  },
  {
   "cell_type": "code",
   "execution_count": 9,
   "id": "993b2ea2",
   "metadata": {},
   "outputs": [],
   "source": [
    "sum = 0\n",
    "for i in  range(r):\n",
    "    for j in range(c):\n",
    "        sum+=sum_list[i][j]"
   ]
  },
  {
   "cell_type": "code",
   "execution_count": 11,
   "id": "b61e9241",
   "metadata": {},
   "outputs": [
    {
     "name": "stdout",
     "output_type": "stream",
     "text": [
      "21\n"
     ]
    }
   ],
   "source": [
    "print(sum)"
   ]
  },
  {
   "cell_type": "code",
   "execution_count": 12,
   "id": "6927a5b0",
   "metadata": {},
   "outputs": [],
   "source": [
    "T = [\n",
    "    ['X','0','X'],\n",
    "    [' ','X',' '],\n",
    "    ['0','0','X']\n",
    "]\n"
   ]
  },
  {
   "cell_type": "code",
   "execution_count": 13,
   "id": "77e1ebe3",
   "metadata": {},
   "outputs": [
    {
     "name": "stdout",
     "output_type": "stream",
     "text": [
      "X 0 X\n",
      "  X  \n",
      "0 0 X\n"
     ]
    }
   ],
   "source": [
    "print(T[0][0],T[0][1],T[0][2])\n",
    "print(T[1][0],T[1][1],T[1][2])\n",
    "print(T[2][0],T[2][1],T[2][2])"
   ]
  },
  {
   "cell_type": "code",
   "execution_count": 16,
   "id": "400b0264",
   "metadata": {},
   "outputs": [
    {
     "name": "stdout",
     "output_type": "stream",
     "text": [
      "X 0 X \n",
      "  X   \n",
      "0 0 X \n"
     ]
    }
   ],
   "source": [
    "r = len(T)\n",
    "c = len(T[0])\n",
    "for i in range(r):\n",
    "    for j in range(c):\n",
    "        print(T[i][j],end=' ')\n",
    "    print()    "
   ]
  },
  {
   "cell_type": "markdown",
   "id": "a3f79197",
   "metadata": {},
   "source": [
    "# Sum of Two Matrices"
   ]
  },
  {
   "cell_type": "code",
   "execution_count": 19,
   "id": "6922550e",
   "metadata": {},
   "outputs": [
    {
     "name": "stdout",
     "output_type": "stream",
     "text": [
      "7\n",
      "9\n",
      "11\n",
      "[7, 9, 11]\n",
      "12\n",
      "14\n",
      "16\n",
      "[12, 14, 16]\n",
      "[[7, 9, 11], [12, 14, 16]]\n"
     ]
    }
   ],
   "source": [
    "a = [[1,2,3],[3,4,5]]\n",
    "b = [[6,7,8],[9,10,11]]\n",
    "res=[]\n",
    "r = len(a)\n",
    "c = len(a[0])\n",
    "for i in range(r):\n",
    "    row = []\n",
    "    for j in range(c):\n",
    "        sum = a[i][j]+b[i][j]\n",
    "        row.append(sum)\n",
    "        print(sum)\n",
    "    print(row)\n",
    "    res.append(row)\n",
    "print(res)\n"
   ]
  },
  {
   "cell_type": "code",
   "execution_count": null,
   "id": "8b53e448",
   "metadata": {},
   "outputs": [],
   "source": []
  }
 ],
 "metadata": {
  "kernelspec": {
   "display_name": "Python 3 (ipykernel)",
   "language": "python",
   "name": "python3"
  },
  "language_info": {
   "codemirror_mode": {
    "name": "ipython",
    "version": 3
   },
   "file_extension": ".py",
   "mimetype": "text/x-python",
   "name": "python",
   "nbconvert_exporter": "python",
   "pygments_lexer": "ipython3",
   "version": "3.11.2"
  }
 },
 "nbformat": 4,
 "nbformat_minor": 5
}
