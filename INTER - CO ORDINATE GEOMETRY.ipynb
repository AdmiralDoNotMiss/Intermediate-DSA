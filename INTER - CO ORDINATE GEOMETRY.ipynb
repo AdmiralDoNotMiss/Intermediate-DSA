{
 "cells": [
  {
   "cell_type": "markdown",
   "id": "d30bfd4b",
   "metadata": {},
   "source": [
    "# POINT CLASS"
   ]
  },
  {
   "cell_type": "code",
   "execution_count": 1,
   "id": "865c84f7",
   "metadata": {},
   "outputs": [],
   "source": [
    "import math\n",
    "class point:\n",
    "    def __init__(self,x,y):\n",
    "        self.x = x\n",
    "        self.y = y\n",
    "    def dist_ori(self):\n",
    "        return math.sqrt(self.x**2 + self.y**2)\n",
    "    def man_dist_ori(self):\n",
    "        return abs(self.x) + abs(self.y)\n",
    "    def __add__(self,p):\n",
    "        return point(self.x + p.x,self.y + p.y)\n",
    "    def __sub__(self,p):\n",
    "        return point(self.x - p.x, self.y - p.y)\n",
    "    def __str__(self):\n",
    "        return str((self.x,self.y))\n",
    "    def __mul__(self,p):\n",
    "        return (self.x * p.x, self.y * p.y)\n",
    "    def quadrant(self):\n",
    "        if self.x > 0 and self.y > 0:\n",
    "            print('quad 1')\n",
    "        elif self.x < 0 and self.y > 0:\n",
    "            print('quad 2')\n",
    "        elif self.x < 0 and self.y < 0:\n",
    "            print('quad 3')\n",
    "        elif self.x > 0 and self.y < 0:\n",
    "            print('quad 4')\n",
    "        elif self.x == 0:\n",
    "            print('y-axis')\n",
    "        elif self.y == 0:\n",
    "            print('x-axis')\n",
    "        elif self.x == 0 and self. y == 0:\n",
    "            print('origin')"
   ]
  },
  {
   "cell_type": "code",
   "execution_count": 2,
   "id": "6c33d922",
   "metadata": {},
   "outputs": [],
   "source": [
    "class line:\n",
    "    def __init__(self,p1,p2):\n",
    "        self.m = (p2.y - p1.y)/(p2.x - p1.x)\n",
    "        self.c = (p1.y) - self.m * (p1.x)\n",
    "        self.__p1 = p1\n",
    "        self.__p2 = p2\n",
    "    def parallel(self,c2):\n",
    "        l = line(self.__p1,self.__p2)\n",
    "        l.c = c2\n",
    "        return l\n",
    "    def check_point_on_line(self,p1):\n",
    "        v = self.m * p1.x - p1.y + self.c\n",
    "        if v == 0:\n",
    "            return True\n",
    "        else:\n",
    "            return False\n",
    "    def dist(self,p):\n",
    "        return (self.m * p.x) - (p.y + self.c) / (math.sqrt(self.m**2 + 1))\n",
    "    "
   ]
  },
  {
   "cell_type": "code",
   "execution_count": null,
   "id": "a280da9d",
   "metadata": {},
   "outputs": [],
   "source": []
  }
 ],
 "metadata": {
  "kernelspec": {
   "display_name": "Python 3 (ipykernel)",
   "language": "python",
   "name": "python3"
  },
  "language_info": {
   "codemirror_mode": {
    "name": "ipython",
    "version": 3
   },
   "file_extension": ".py",
   "mimetype": "text/x-python",
   "name": "python",
   "nbconvert_exporter": "python",
   "pygments_lexer": "ipython3",
   "version": "3.11.2"
  }
 },
 "nbformat": 4,
 "nbformat_minor": 5
}
