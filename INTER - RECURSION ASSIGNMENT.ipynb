{
 "cells": [
  {
   "cell_type": "code",
   "execution_count": 1,
   "id": "87b9847f",
   "metadata": {},
   "outputs": [
    {
     "name": "stdout",
     "output_type": "stream",
     "text": [
      "110"
     ]
    }
   ],
   "source": [
    "l = [ ]\n",
    "def convert(b):\n",
    "    if(b==0):\n",
    "        return l\n",
    "    digit=b%2\n",
    "    l.append(digit)\n",
    "    convert(b//2)\n",
    "\n",
    "convert(6)\n",
    "l.reverse()\n",
    "for i in l:\n",
    "    print(i,end=\"\")"
   ]
  },
  {
   "cell_type": "code",
   "execution_count": 2,
   "id": "b87244a5",
   "metadata": {},
   "outputs": [],
   "source": [
    "def fact(num):\n",
    "    if num == 0: \n",
    "        return 1\n",
    "    else:\n",
    "        return fact(num-1)*num"
   ]
  },
  {
   "cell_type": "code",
   "execution_count": 3,
   "id": "3918272d",
   "metadata": {},
   "outputs": [
    {
     "data": {
      "text/plain": [
       "120"
      ]
     },
     "execution_count": 3,
     "metadata": {},
     "output_type": "execute_result"
    }
   ],
   "source": [
    "fact(5)"
   ]
  },
  {
   "cell_type": "code",
   "execution_count": 4,
   "id": "2c043efe",
   "metadata": {},
   "outputs": [
    {
     "name": "stdout",
     "output_type": "stream",
     "text": [
      "NEWS\n",
      "SWEN\n"
     ]
    }
   ],
   "source": [
    "def bp(string, n):\n",
    "    if n>0:\n",
    "        print(string[n], end='')\n",
    "        bp(string, n-1)\n",
    "    elif n==0:\n",
    "        print(string[0])\n",
    "\n",
    "s = input()\n",
    "bp(s, len(s)-1)"
   ]
  },
  {
   "cell_type": "code",
   "execution_count": 15,
   "id": "4bad070f",
   "metadata": {},
   "outputs": [],
   "source": [
    "def count_s(s):\n",
    "    count = 0\n",
    "    if s[0]=='h' and s[1]=='i':\n",
    "        count+=1\n",
    "    return count"
   ]
  },
  {
   "cell_type": "code",
   "execution_count": 16,
   "id": "dbfa4b75",
   "metadata": {},
   "outputs": [
    {
     "data": {
      "text/plain": [
       "1"
      ]
     },
     "execution_count": 16,
     "metadata": {},
     "output_type": "execute_result"
    }
   ],
   "source": [
    "count_s('hishisha')"
   ]
  },
  {
   "cell_type": "code",
   "execution_count": 2,
   "id": "a354ce07",
   "metadata": {},
   "outputs": [],
   "source": [
    "def count_freq(x, y):\n",
    "    if(y!=1):\n",
    "        if(x!=1):\n",
    "            print(\"*\")\n",
    "            count_freq(x/2,y)\n",
    "        else:\n",
    "            print(\"#\")\n",
    "            y=y-1\n",
    "            count_freq(x,y)"
   ]
  },
  {
   "cell_type": "code",
   "execution_count": 5,
   "id": "6442716f",
   "metadata": {},
   "outputs": [
    {
     "name": "stdout",
     "output_type": "stream",
     "text": [
      "*\n",
      "*\n",
      "*\n",
      "*\n",
      "*\n",
      "*\n",
      "*\n",
      "*\n",
      "#\n",
      "#\n",
      "#\n"
     ]
    }
   ],
   "source": [
    "count_freq(256,4)"
   ]
  },
  {
   "cell_type": "code",
   "execution_count": null,
   "id": "2018e605",
   "metadata": {},
   "outputs": [],
   "source": []
  },
  {
   "cell_type": "code",
   "execution_count": 6,
   "id": "a2759131",
   "metadata": {},
   "outputs": [
    {
     "name": "stdout",
     "output_type": "stream",
     "text": [
      "-7\n"
     ]
    }
   ],
   "source": [
    "def fun(i,j):\n",
    "    if(i==0):\n",
    "        return j\n",
    "    else:\n",
    "        return fun(j,i-5)\n",
    "\n",
    "print(fun(15,8))"
   ]
  },
  {
   "cell_type": "code",
   "execution_count": 29,
   "id": "1286dae7",
   "metadata": {},
   "outputs": [],
   "source": [
    "def fun(i,j):\n",
    "    if(i==0):\n",
    "        return j\n",
    "    else:\n",
    "        return fun(i-1,j+1)"
   ]
  },
  {
   "cell_type": "code",
   "execution_count": 30,
   "id": "26fe69e4",
   "metadata": {},
   "outputs": [
    {
     "data": {
      "text/plain": [
       "12"
      ]
     },
     "execution_count": 30,
     "metadata": {},
     "output_type": "execute_result"
    }
   ],
   "source": [
    "fun(4,8)"
   ]
  },
  {
   "cell_type": "code",
   "execution_count": 41,
   "id": "7086f60b",
   "metadata": {},
   "outputs": [],
   "source": [
    "def reverseNum(num):\n",
    "    reverseN=0\n",
    "    while num>0:\n",
    "        rem = num %10\n",
    "        reverseN = (reverseN*10)+rem\n",
    "        num = num//10\n",
    "    print(reverseN)"
   ]
  },
  {
   "cell_type": "code",
   "execution_count": 42,
   "id": "c39551d3",
   "metadata": {},
   "outputs": [
    {
     "name": "stdout",
     "output_type": "stream",
     "text": [
      "321\n"
     ]
    }
   ],
   "source": [
    "reverseNum(123)"
   ]
  },
  {
   "cell_type": "code",
   "execution_count": null,
   "id": "85572531",
   "metadata": {},
   "outputs": [],
   "source": []
  },
  {
   "cell_type": "code",
   "execution_count": null,
   "id": "14a15d5e",
   "metadata": {},
   "outputs": [],
   "source": [
    "\n"
   ]
  }
 ],
 "metadata": {
  "kernelspec": {
   "display_name": "Python 3 (ipykernel)",
   "language": "python",
   "name": "python3"
  },
  "language_info": {
   "codemirror_mode": {
    "name": "ipython",
    "version": 3
   },
   "file_extension": ".py",
   "mimetype": "text/x-python",
   "name": "python",
   "nbconvert_exporter": "python",
   "pygments_lexer": "ipython3",
   "version": "3.11.2"
  }
 },
 "nbformat": 4,
 "nbformat_minor": 5
}
