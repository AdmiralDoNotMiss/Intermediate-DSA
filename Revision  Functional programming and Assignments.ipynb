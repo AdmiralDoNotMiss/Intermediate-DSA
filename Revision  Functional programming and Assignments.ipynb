{
 "cells": [
  {
   "cell_type": "markdown",
   "id": "2b9d8b41",
   "metadata": {},
   "source": [
    "# Functions argument unpacking"
   ]
  },
  {
   "cell_type": "code",
   "execution_count": 10,
   "id": "b847143d",
   "metadata": {},
   "outputs": [],
   "source": [
    "def f(x):\n",
    "    return x**2\n"
   ]
  },
  {
   "cell_type": "code",
   "execution_count": 12,
   "id": "e4270144",
   "metadata": {},
   "outputs": [
    {
     "data": {
      "text/plain": [
       "16"
      ]
     },
     "execution_count": 12,
     "metadata": {},
     "output_type": "execute_result"
    }
   ],
   "source": [
    "f(4)\n"
   ]
  },
  {
   "cell_type": "code",
   "execution_count": 13,
   "id": "bfe35755",
   "metadata": {},
   "outputs": [],
   "source": [
    "def g(x=2):\n",
    "    return x**2"
   ]
  },
  {
   "cell_type": "code",
   "execution_count": 14,
   "id": "f50ae1a0",
   "metadata": {},
   "outputs": [
    {
     "data": {
      "text/plain": [
       "4"
      ]
     },
     "execution_count": 14,
     "metadata": {},
     "output_type": "execute_result"
    }
   ],
   "source": [
    "g()"
   ]
  },
  {
   "cell_type": "code",
   "execution_count": 15,
   "id": "cc2fecf5",
   "metadata": {},
   "outputs": [],
   "source": [
    "def f(x,y=3):\n",
    "    return x+y"
   ]
  },
  {
   "cell_type": "code",
   "execution_count": 16,
   "id": "90c7998a",
   "metadata": {},
   "outputs": [
    {
     "data": {
      "text/plain": [
       "9"
      ]
     },
     "execution_count": 16,
     "metadata": {},
     "output_type": "execute_result"
    }
   ],
   "source": [
    "f(4,5)"
   ]
  },
  {
   "cell_type": "code",
   "execution_count": 20,
   "id": "e30e0635",
   "metadata": {},
   "outputs": [],
   "source": [
    "def g(x,y):\n",
    "    return x+y"
   ]
  },
  {
   "cell_type": "code",
   "execution_count": 21,
   "id": "a8720d7a",
   "metadata": {},
   "outputs": [
    {
     "data": {
      "text/plain": [
       "10"
      ]
     },
     "execution_count": 21,
     "metadata": {},
     "output_type": "execute_result"
    }
   ],
   "source": [
    "g(4,6)"
   ]
  },
  {
   "cell_type": "code",
   "execution_count": 22,
   "id": "93b8695b",
   "metadata": {},
   "outputs": [],
   "source": [
    "def f(x,y):\n",
    "    return x*y\n"
   ]
  },
  {
   "cell_type": "code",
   "execution_count": 23,
   "id": "932f8a12",
   "metadata": {},
   "outputs": [
    {
     "data": {
      "text/plain": [
       "6"
      ]
     },
     "execution_count": 23,
     "metadata": {},
     "output_type": "execute_result"
    }
   ],
   "source": [
    "f(y=3,x=2)"
   ]
  },
  {
   "cell_type": "code",
   "execution_count": 31,
   "id": "487b711b",
   "metadata": {},
   "outputs": [],
   "source": [
    "def f(*args,**kwargs):\n",
    "    print('args= ',args)\n",
    "    print('kwargs= ',kwargs)\n",
    "    "
   ]
  },
  {
   "cell_type": "code",
   "execution_count": 32,
   "id": "6900c3d6",
   "metadata": {},
   "outputs": [
    {
     "name": "stdout",
     "output_type": "stream",
     "text": [
      "args=  (2, 3)\n",
      "kwargs=  {}\n"
     ]
    }
   ],
   "source": [
    "f(2,3)"
   ]
  },
  {
   "cell_type": "code",
   "execution_count": 33,
   "id": "880617d9",
   "metadata": {},
   "outputs": [
    {
     "name": "stdout",
     "output_type": "stream",
     "text": [
      "args=  (2, 3)\n",
      "kwargs=  {'my_first_arg': 45}\n"
     ]
    }
   ],
   "source": [
    "f(2,3,my_first_arg=45)"
   ]
  },
  {
   "cell_type": "code",
   "execution_count": 34,
   "id": "625649eb",
   "metadata": {},
   "outputs": [],
   "source": [
    "def f(x,*args,**kwargs):\n",
    "    print(x)\n",
    "    print('args= ',args)\n",
    "    print('kwargs= ',kwargs)\n"
   ]
  },
  {
   "cell_type": "code",
   "execution_count": 36,
   "id": "3d97a69e",
   "metadata": {},
   "outputs": [
    {
     "name": "stdout",
     "output_type": "stream",
     "text": [
      "2\n",
      "args=  ()\n",
      "kwargs=  {'my_first_kwarg': 6}\n"
     ]
    }
   ],
   "source": [
    "f(2,my_first_kwarg=6)"
   ]
  },
  {
   "cell_type": "markdown",
   "id": "d5722eff",
   "metadata": {},
   "source": [
    "# Variable scope"
   ]
  },
  {
   "cell_type": "code",
   "execution_count": 39,
   "id": "97e20a87",
   "metadata": {},
   "outputs": [],
   "source": [
    "a = 10\n",
    "def multiply(*args,**kwargs):\n",
    "    print(a)\n",
    "    product=1\n",
    "    for val in args:\n",
    "        product*=args\n",
    "    for key in kwargs.key():\n",
    "        product*=kwargs\n",
    "    return product"
   ]
  },
  {
   "cell_type": "code",
   "execution_count": 41,
   "id": "25672192",
   "metadata": {},
   "outputs": [
    {
     "name": "stdout",
     "output_type": "stream",
     "text": [
      "10\n"
     ]
    },
    {
     "ename": "TypeError",
     "evalue": "can't multiply sequence by non-int of type 'tuple'",
     "output_type": "error",
     "traceback": [
      "\u001b[1;31m---------------------------------------------------------------------------\u001b[0m",
      "\u001b[1;31mTypeError\u001b[0m                                 Traceback (most recent call last)",
      "Cell \u001b[1;32mIn[41], line 1\u001b[0m\n\u001b[1;32m----> 1\u001b[0m \u001b[43mmultiply\u001b[49m\u001b[43m(\u001b[49m\u001b[38;5;241;43m4\u001b[39;49m\u001b[43m,\u001b[49m\u001b[38;5;241;43m3\u001b[39;49m\u001b[43m)\u001b[49m\n",
      "Cell \u001b[1;32mIn[39], line 6\u001b[0m, in \u001b[0;36mmultiply\u001b[1;34m(*args, **kwargs)\u001b[0m\n\u001b[0;32m      4\u001b[0m product\u001b[38;5;241m=\u001b[39m\u001b[38;5;241m1\u001b[39m\n\u001b[0;32m      5\u001b[0m \u001b[38;5;28;01mfor\u001b[39;00m val \u001b[38;5;129;01min\u001b[39;00m args:\n\u001b[1;32m----> 6\u001b[0m     \u001b[43mproduct\u001b[49m\u001b[38;5;241;43m*\u001b[39;49m\u001b[38;5;241;43m=\u001b[39;49m\u001b[43margs\u001b[49m\n\u001b[0;32m      7\u001b[0m \u001b[38;5;28;01mfor\u001b[39;00m key \u001b[38;5;129;01min\u001b[39;00m kwargs\u001b[38;5;241m.\u001b[39mkey():\n\u001b[0;32m      8\u001b[0m     product\u001b[38;5;241m*\u001b[39m\u001b[38;5;241m=\u001b[39mkwargs\n",
      "\u001b[1;31mTypeError\u001b[0m: can't multiply sequence by non-int of type 'tuple'"
     ]
    }
   ],
   "source": [
    "multiply(4,3)"
   ]
  },
  {
   "cell_type": "code",
   "execution_count": 42,
   "id": "a01e87b0",
   "metadata": {},
   "outputs": [],
   "source": [
    "def inner(c,d):\n",
    "    return c+d\n",
    "def outer(a):\n",
    "    def inner(b,c):\n",
    "        a=45\n",
    "        return (b*c)\n",
    "    return (a+inner(4,5))\n"
   ]
  },
  {
   "cell_type": "code",
   "execution_count": 43,
   "id": "b5f05209",
   "metadata": {},
   "outputs": [
    {
     "data": {
      "text/plain": [
       "21"
      ]
     },
     "execution_count": 43,
     "metadata": {},
     "output_type": "execute_result"
    }
   ],
   "source": [
    "outer(1)"
   ]
  },
  {
   "cell_type": "markdown",
   "id": "169b257c",
   "metadata": {},
   "source": [
    "# Filter"
   ]
  },
  {
   "cell_type": "code",
   "execution_count": 44,
   "id": "9624c4e4",
   "metadata": {},
   "outputs": [],
   "source": [
    "def is_even(x):\n",
    "    return x%2==0\n",
    "a = list(range(10))"
   ]
  },
  {
   "cell_type": "code",
   "execution_count": 45,
   "id": "29979d04",
   "metadata": {},
   "outputs": [
    {
     "data": {
      "text/plain": [
       "[0, 2, 4, 6, 8]"
      ]
     },
     "execution_count": 45,
     "metadata": {},
     "output_type": "execute_result"
    }
   ],
   "source": [
    "list(filter(is_even,a))"
   ]
  },
  {
   "cell_type": "code",
   "execution_count": 47,
   "id": "b53b681e",
   "metadata": {},
   "outputs": [
    {
     "data": {
      "text/plain": [
       "[1, 2, 3]"
      ]
     },
     "execution_count": 47,
     "metadata": {},
     "output_type": "execute_result"
    }
   ],
   "source": [
    "a = [1,-2,3]\n",
    "make_positive = lambda x: abs(x)\n",
    "list(map(make_positive,a))"
   ]
  },
  {
   "cell_type": "markdown",
   "id": "27e09194",
   "metadata": {},
   "source": [
    "# Reduce"
   ]
  },
  {
   "cell_type": "code",
   "execution_count": 49,
   "id": "5cf4f921",
   "metadata": {},
   "outputs": [
    {
     "data": {
      "text/plain": [
       "10"
      ]
     },
     "execution_count": 49,
     "metadata": {},
     "output_type": "execute_result"
    }
   ],
   "source": [
    "from functools import reduce\n",
    "add = lambda x,y: x+y\n",
    "list=[1,2,3,4]\n",
    "reduce(add,list)"
   ]
  },
  {
   "cell_type": "code",
   "execution_count": 50,
   "id": "99a9e849",
   "metadata": {},
   "outputs": [
    {
     "data": {
      "text/plain": [
       "30"
      ]
     },
     "execution_count": 50,
     "metadata": {},
     "output_type": "execute_result"
    }
   ],
   "source": [
    "def sum_of_squares(l):\n",
    "    new_l = [0]+l\n",
    "    val = reduce(lambda x,y: x+y**2,new_l)\n",
    "    return val\n",
    "sum_of_squares([1,2,3,4])"
   ]
  },
  {
   "cell_type": "code",
   "execution_count": 51,
   "id": "45f59fa3",
   "metadata": {},
   "outputs": [
    {
     "data": {
      "text/plain": [
       "2.25"
      ]
     },
     "execution_count": 51,
     "metadata": {},
     "output_type": "execute_result"
    }
   ],
   "source": [
    "l = [1,2,3]\n",
    "reduce(lambda a,b: (a+b)/2,l)\n"
   ]
  },
  {
   "cell_type": "markdown",
   "id": "0a07574d",
   "metadata": {},
   "source": [
    "# Practice Assignments"
   ]
  },
  {
   "cell_type": "code",
   "execution_count": 52,
   "id": "e34998f4",
   "metadata": {},
   "outputs": [
    {
     "name": "stdout",
     "output_type": "stream",
     "text": [
      "48\n"
     ]
    }
   ],
   "source": [
    "y = 8 \n",
    "z = lambda x : x * y \n",
    "print (z(6))"
   ]
  },
  {
   "cell_type": "code",
   "execution_count": 54,
   "id": "818d89ff",
   "metadata": {},
   "outputs": [
    {
     "name": "stdout",
     "output_type": "stream",
     "text": [
      "0 "
     ]
    },
    {
     "ename": "KeyboardInterrupt",
     "evalue": "",
     "output_type": "error",
     "traceback": [
      "\u001b[1;31m---------------------------------------------------------------------------\u001b[0m",
      "\u001b[1;31mKeyboardInterrupt\u001b[0m                         Traceback (most recent call last)",
      "Cell \u001b[1;32mIn[54], line 2\u001b[0m\n\u001b[0;32m      1\u001b[0m i\u001b[38;5;241m=\u001b[39m\u001b[38;5;241m0\u001b[39m\n\u001b[1;32m----> 2\u001b[0m \u001b[38;5;28;01mwhile\u001b[39;00m i\u001b[38;5;241m<\u001b[39m\u001b[38;5;241m=\u001b[39m\u001b[38;5;241m5\u001b[39m:\n\u001b[0;32m      3\u001b[0m      \u001b[38;5;28;01mif\u001b[39;00m i\u001b[38;5;241m%\u001b[39m\u001b[38;5;241m2\u001b[39m:\n\u001b[0;32m      4\u001b[0m         \u001b[38;5;28;01mpass\u001b[39;00m\n",
      "\u001b[1;31mKeyboardInterrupt\u001b[0m: "
     ]
    }
   ],
   "source": []
  },
  {
   "cell_type": "code",
   "execution_count": 55,
   "id": "199c6b51",
   "metadata": {},
   "outputs": [
    {
     "name": "stdout",
     "output_type": "stream",
     "text": [
      "65\n"
     ]
    }
   ],
   "source": [
    "x = 55\n",
    "def hi():\n",
    "    return x\n",
    "x +=10\n",
    "print(hi())"
   ]
  },
  {
   "cell_type": "code",
   "execution_count": 56,
   "id": "c06ad5b7",
   "metadata": {},
   "outputs": [],
   "source": [
    "a = 4\n",
    "b = -5\n",
    "if a > 0:\n",
    "    if b < 0:\n",
    "        a = a - 2 \n",
    "    elif a > 5:\n",
    "        a = a - 4\n",
    "    else:\n",
    "        a = a + 3\n",
    "else:\n",
    "    b = b + 2"
   ]
  },
  {
   "cell_type": "code",
   "execution_count": 57,
   "id": "b2042316",
   "metadata": {},
   "outputs": [
    {
     "name": "stdout",
     "output_type": "stream",
     "text": [
      "2\n"
     ]
    }
   ],
   "source": [
    "print(a)"
   ]
  },
  {
   "cell_type": "code",
   "execution_count": 58,
   "id": "86883a6b",
   "metadata": {},
   "outputs": [
    {
     "name": "stdout",
     "output_type": "stream",
     "text": [
      "ML is fun\n",
      "I love DS\n"
     ]
    }
   ],
   "source": [
    "a = 1\n",
    "b = 0\n",
    "c = 1\n",
    "if (a and b):\n",
    "    print(\"Scaler is awesome\")\n",
    "elif (a and c):\n",
    "    print(\"ML is fun\")\n",
    "if (a and b and c):\n",
    "    print(\"Python is amazing\")\n",
    "if (a or b or c):\n",
    "    print(\"I love DS\")\n"
   ]
  },
  {
   "cell_type": "code",
   "execution_count": 61,
   "id": "8d520cb5",
   "metadata": {},
   "outputs": [],
   "source": [
    "def find_target(arr,b):\n",
    "    n = len(arr)\n",
    "    for i in range(n):\n",
    "        if arr[i]==b:\n",
    "            print('found the element at index:',i)\n",
    "        "
   ]
  },
  {
   "cell_type": "code",
   "execution_count": 62,
   "id": "5bba9677",
   "metadata": {},
   "outputs": [
    {
     "name": "stdout",
     "output_type": "stream",
     "text": [
      "found the element at index: 2\n"
     ]
    }
   ],
   "source": [
    "find_target([1,3,5,6],5)"
   ]
  },
  {
   "cell_type": "code",
   "execution_count": 63,
   "id": "c3ea2ddd",
   "metadata": {},
   "outputs": [
    {
     "name": "stdout",
     "output_type": "stream",
     "text": [
      "0 3 6 9 "
     ]
    }
   ],
   "source": [
    "for a in range(10):\n",
    "    if a % 3==0:\n",
    "        print(a,end=' ')"
   ]
  },
  {
   "cell_type": "code",
   "execution_count": 66,
   "id": "827c1f0f",
   "metadata": {},
   "outputs": [],
   "source": [
    "def fun(i,j):\n",
    "      if(i==0):\n",
    "        return j\n",
    "      else:\n",
    "        return fun(i-1,j+1)"
   ]
  },
  {
   "cell_type": "code",
   "execution_count": 67,
   "id": "b2cd674f",
   "metadata": {},
   "outputs": [
    {
     "data": {
      "text/plain": [
       "12"
      ]
     },
     "execution_count": 67,
     "metadata": {},
     "output_type": "execute_result"
    }
   ],
   "source": [
    "fun(4,8)"
   ]
  },
  {
   "cell_type": "code",
   "execution_count": null,
   "id": "ed837468",
   "metadata": {},
   "outputs": [],
   "source": []
  }
 ],
 "metadata": {
  "kernelspec": {
   "display_name": "Python 3 (ipykernel)",
   "language": "python",
   "name": "python3"
  },
  "language_info": {
   "codemirror_mode": {
    "name": "ipython",
    "version": 3
   },
   "file_extension": ".py",
   "mimetype": "text/x-python",
   "name": "python",
   "nbconvert_exporter": "python",
   "pygments_lexer": "ipython3",
   "version": "3.11.2"
  }
 },
 "nbformat": 4,
 "nbformat_minor": 5
}
