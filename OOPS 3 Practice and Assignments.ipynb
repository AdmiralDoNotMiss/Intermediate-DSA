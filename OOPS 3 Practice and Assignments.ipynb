{
 "cells": [
  {
   "cell_type": "code",
   "execution_count": 1,
   "id": "e6f90f0b",
   "metadata": {},
   "outputs": [],
   "source": [
    "class foo:\n",
    "    def bar(self):\n",
    "        print('something')\n",
    "        \n",
    "class foochild(foo):\n",
    "    def bar(self):\n",
    "        print('something else')\n",
    "    \n",
    "    def show(self):\n",
    "        super().bar()\n",
    "        self.bar()"
   ]
  },
  {
   "cell_type": "code",
   "execution_count": null,
   "id": "a99d8da1",
   "metadata": {},
   "outputs": [],
   "source": []
  },
  {
   "cell_type": "code",
   "execution_count": 2,
   "id": "82085a51",
   "metadata": {},
   "outputs": [
    {
     "name": "stdout",
     "output_type": "stream",
     "text": [
      "something\n",
      "something else\n"
     ]
    }
   ],
   "source": [
    "s = foochild()\n",
    "s.show()"
   ]
  },
  {
   "cell_type": "code",
   "execution_count": 3,
   "id": "487e45c6",
   "metadata": {},
   "outputs": [],
   "source": [
    "class foo:\n",
    "    def __init__(self):\n",
    "        print('init in foo')\n",
    "        \n",
    "class bar(foo):\n",
    "    pass"
   ]
  },
  {
   "cell_type": "code",
   "execution_count": 4,
   "id": "b7bf8a26",
   "metadata": {},
   "outputs": [
    {
     "name": "stdout",
     "output_type": "stream",
     "text": [
      "init in foo\n"
     ]
    }
   ],
   "source": [
    "obj = bar()"
   ]
  },
  {
   "cell_type": "code",
   "execution_count": 5,
   "id": "3a0ccc05",
   "metadata": {},
   "outputs": [],
   "source": [
    "class foo:\n",
    "    def __init__(self):\n",
    "        print('init in foo')\n",
    "        \n",
    "class bar(foo):\n",
    "    def __init__(self):\n",
    "        super().__init__()\n",
    "        print(super())\n",
    "        print('init in bar')\n",
    "        "
   ]
  },
  {
   "cell_type": "code",
   "execution_count": 6,
   "id": "811ab384",
   "metadata": {},
   "outputs": [
    {
     "name": "stdout",
     "output_type": "stream",
     "text": [
      "init in foo\n",
      "<super: <class 'bar'>, <bar object>>\n",
      "init in bar\n"
     ]
    }
   ],
   "source": [
    "\n",
    "obj = bar()"
   ]
  },
  {
   "cell_type": "code",
   "execution_count": 1,
   "id": "357227cb",
   "metadata": {},
   "outputs": [],
   "source": [
    "#Public attribute methods\n",
    "class foo:\n",
    "    def show(self):\n",
    "        print('this is a public show')\n",
    "        "
   ]
  },
  {
   "cell_type": "code",
   "execution_count": 3,
   "id": "a37fde78",
   "metadata": {},
   "outputs": [
    {
     "name": "stdout",
     "output_type": "stream",
     "text": [
      "this is a public show\n"
     ]
    }
   ],
   "source": [
    "s = foo()\n",
    "s.show()"
   ]
  },
  {
   "cell_type": "code",
   "execution_count": 4,
   "id": "53ee06f1",
   "metadata": {},
   "outputs": [],
   "source": [
    "#Private attribute methods\n",
    "class foo:\n",
    "    def __show(self):\n",
    "        print('This is a private show')\n",
    "        "
   ]
  },
  {
   "cell_type": "code",
   "execution_count": 8,
   "id": "4b8c03f7",
   "metadata": {},
   "outputs": [
    {
     "ename": "AttributeError",
     "evalue": "'foo' object has no attribute '__show'",
     "output_type": "error",
     "traceback": [
      "\u001b[1;31m---------------------------------------------------------------------------\u001b[0m",
      "\u001b[1;31mAttributeError\u001b[0m                            Traceback (most recent call last)",
      "Cell \u001b[1;32mIn[8], line 2\u001b[0m\n\u001b[0;32m      1\u001b[0m c \u001b[38;5;241m=\u001b[39m foo()\n\u001b[1;32m----> 2\u001b[0m \u001b[43mc\u001b[49m\u001b[38;5;241;43m.\u001b[39;49m\u001b[43m__show\u001b[49m()\n\u001b[0;32m      3\u001b[0m \u001b[38;5;66;03m# See it is private\u001b[39;00m\n\u001b[0;32m      4\u001b[0m \u001b[38;5;66;03m# Although with a settlement we can access it with this c._foo__show()\u001b[39;00m\n",
      "\u001b[1;31mAttributeError\u001b[0m: 'foo' object has no attribute '__show'"
     ]
    }
   ],
   "source": [
    "c = foo()\n",
    "c.__show()\n",
    "# See it is private\n",
    "# Although with a settlement we can access it with this c._foo__show()"
   ]
  },
  {
   "cell_type": "markdown",
   "id": "9cfb22c3",
   "metadata": {},
   "source": [
    "# A REAL WORLD BANKING PROBLEM"
   ]
  },
  {
   "cell_type": "code",
   "execution_count": 7,
   "id": "8c514fe8",
   "metadata": {},
   "outputs": [],
   "source": [
    "# LET'S CREATE A BANKING SYSTEM\n",
    "wallet_amount = 0\n",
    "\n",
    "def deposit(amount):\n",
    "    return wallet_amount + amount\n",
    "\n",
    "def withdraw(amount):\n",
    "    return wallet_amount - amount"
   ]
  },
  {
   "cell_type": "code",
   "execution_count": 8,
   "id": "00dcecf4",
   "metadata": {},
   "outputs": [
    {
     "name": "stdout",
     "output_type": "stream",
     "text": [
      "1000\n"
     ]
    }
   ],
   "source": [
    "wallet_amount = deposit(1000)\n",
    "print(wallet_amount)"
   ]
  },
  {
   "cell_type": "code",
   "execution_count": 9,
   "id": "49efd78f",
   "metadata": {},
   "outputs": [
    {
     "name": "stdout",
     "output_type": "stream",
     "text": [
      "500\n"
     ]
    }
   ],
   "source": [
    "wallet_amount = withdraw(500)\n",
    "print(wallet_amount)\n",
    "\n",
    "# This is a very basic banking related problem\n",
    "# It has a fault, a big problem. That It can not create more than 1 wallets. This is handling only 1 wallet for 1 user.\n",
    "# Solution for this is encapsulation(combine together so many user_wallets)\n",
    "# To use encapsulation we need OOPS\n",
    "# Let's do this"
   ]
  },
  {
   "cell_type": "markdown",
   "id": "6f76cd0e",
   "metadata": {},
   "source": [
    "# Encapsulation:\n"
   ]
  },
  {
   "cell_type": "code",
   "execution_count": 11,
   "id": "33ec11bd",
   "metadata": {},
   "outputs": [],
   "source": [
    "class BankAccount:\n",
    "    balance = 0\n",
    "    \n",
    "    def deposit(self,amount):\n",
    "        self.balance += amount\n",
    "        \n",
    "    def withdraw(self,amount):\n",
    "        self.balance -= amount\n",
    "        \n",
    "    def statement(self):\n",
    "        print('your balance is', self.balance)\n",
    "    \n"
   ]
  },
  {
   "cell_type": "code",
   "execution_count": 12,
   "id": "0d3ae87a",
   "metadata": {},
   "outputs": [
    {
     "name": "stdout",
     "output_type": "stream",
     "text": [
      "your balance is 800\n",
      "your balance is 50000\n"
     ]
    }
   ],
   "source": [
    "ba1 = BankAccount()\n",
    "ba1.deposit(1000)\n",
    "ba1.withdraw(200)\n",
    "ba1.statement()\n",
    "\n",
    "# This is called Encapsulation, We can create as many bank accounts (As an object)\n",
    "# But there is a problem.\n",
    "\n",
    "ba1.balance = 50000\n",
    "ba1.statement()\n",
    "\n",
    "# This is the problem, we are updating the balance without using deposit and withdraw function. Which is incorrect\n",
    "# To fix this, we need Abstraction"
   ]
  },
  {
   "cell_type": "markdown",
   "id": "1ab6a6a3",
   "metadata": {},
   "source": [
    "# Abstraction:"
   ]
  },
  {
   "cell_type": "code",
   "execution_count": 13,
   "id": "6fdcb468",
   "metadata": {},
   "outputs": [],
   "source": [
    "class BankAccount:\n",
    "    __balance = 0\n",
    "    \n",
    "    def deposit(self,amount):\n",
    "        self.__balance += amount\n",
    "    \n",
    "    def withdraw(self,amount):\n",
    "        self.__balance -= amount\n",
    "        \n",
    "    def statement(self):\n",
    "        print('your balance is', self.__balance)"
   ]
  },
  {
   "cell_type": "code",
   "execution_count": 14,
   "id": "cee932d4",
   "metadata": {},
   "outputs": [
    {
     "name": "stdout",
     "output_type": "stream",
     "text": [
      "your balance is 3000\n",
      "your balance is 3000\n",
      "your balance is -97000\n"
     ]
    }
   ],
   "source": [
    "ba1 = BankAccount()\n",
    "ba1.deposit(5000)\n",
    "ba1.withdraw(2000)\n",
    "ba1.statement()\n",
    "\n",
    "# Now if we write ba1.balance = 80000, it will not do anything. Because we abstract it \n",
    "\n",
    "ba1.__balance = 50000\n",
    "ba1.statement()\n",
    "\n",
    "# Now if we want to create, two type of accounts? 1.saving account and 2.Current account\n",
    "# For this we need Inheritance and Polymorphism(Run time polymorphism)\n",
    "# Before moving to that, let's add some logics in the code, to check the withdraws. why?\n",
    "\n",
    "ba1.withdraw(100000)\n",
    "ba1.statement()\n",
    "\n",
    "# Showing negative balance, to fix this let's write some logics"
   ]
  },
  {
   "cell_type": "code",
   "execution_count": 17,
   "id": "f693a5ac",
   "metadata": {},
   "outputs": [],
   "source": [
    "class BankAccount:\n",
    "    __balance = 0\n",
    "    \n",
    "    def can_withdraw(self,amount):\n",
    "        return self.__balance > amount\n",
    "    \n",
    "    def deposit(self,amount):\n",
    "        self.__balance += amount\n",
    "        \n",
    "    def withdraw(self,amount):\n",
    "        if self.can_withdraw(amount):\n",
    "            self.__balance -= amount\n",
    "            \n",
    "    def statement(self):\n",
    "        print('your balance is', self.__balance)"
   ]
  },
  {
   "cell_type": "code",
   "execution_count": 18,
   "id": "a6e02dc3",
   "metadata": {},
   "outputs": [
    {
     "name": "stdout",
     "output_type": "stream",
     "text": [
      "your balance is 4000\n",
      "your balance is 4000\n"
     ]
    }
   ],
   "source": [
    "ba1 = BankAccount()\n",
    "ba1.deposit(5000)\n",
    "ba1.withdraw(1000)\n",
    "ba1.statement()\n",
    "\n",
    "# Now check the previous problem\n",
    "\n",
    "ba1.withdraw(10000)\n",
    "ba1.statement()"
   ]
  },
  {
   "cell_type": "markdown",
   "id": "c9054093",
   "metadata": {},
   "source": [
    "# Inheritance and Polymorphism"
   ]
  },
  {
   "cell_type": "code",
   "execution_count": 38,
   "id": "020a8444",
   "metadata": {},
   "outputs": [],
   "source": [
    "class BankAccount:\n",
    "    __balance = 0\n",
    "    # Getter function\n",
    "    def _get_balance(self):\n",
    "        return self.__balance\n",
    "    \n",
    "    def can_withdraw(self,amount):\n",
    "        return self.__balance > amount\n",
    "    \n",
    "    def deposit(self,amount):\n",
    "        self.__balance += amount\n",
    "        \n",
    "    def withdraw(self,amount):\n",
    "        if self.can_withdraw(amount):\n",
    "            self.__balance -= amount\n",
    "            \n",
    "    def statement(self):\n",
    "        print('your balance is', self.__balance)\n",
    "        \n",
    "# Inheritance \n",
    "\n",
    "class CurrentAccount(BankAccount):\n",
    "    def statement(self):\n",
    "        super().statement()\n",
    "        print('here is an offfer for you')\n",
    "\n",
    "# Overriding (Statement) with extending it.\n",
    "\n",
    "class SavingsAccount(BankAccount):\n",
    "    __minimum_balance = 500\n",
    "    \n",
    "    def can_withdraw(self,amount):\n",
    "        return self._get_balance() - self.__minimum_balance >= amount\n",
    "\n",
    "        \n",
    "# The 4 pillars of OOPS \n",
    "# ABSTRACTION\n",
    "# ENCAPSULATON\n",
    "# INHERITANCE\n",
    "# RUN TIME POLYMORPHISM\n",
    "        \n"
   ]
  },
  {
   "cell_type": "code",
   "execution_count": 39,
   "id": "8aae8381",
   "metadata": {},
   "outputs": [
    {
     "name": "stdout",
     "output_type": "stream",
     "text": [
      "your balance is 1500\n",
      "here is an offfer for you\n"
     ]
    }
   ],
   "source": [
    "# Current Account\n",
    "ca = CurrentAccount()\n",
    "ca.deposit(2000)\n",
    "ca.withdraw(500)\n",
    "ca.statement()"
   ]
  },
  {
   "cell_type": "code",
   "execution_count": 40,
   "id": "7e16e731",
   "metadata": {},
   "outputs": [
    {
     "name": "stdout",
     "output_type": "stream",
     "text": [
      "your balance is 200\n"
     ]
    }
   ],
   "source": [
    "#Savings Account\n",
    "sa = SavingsAccount()\n",
    "sa.deposit(200)\n",
    "sa.withdraw(100)\n",
    "sa.statement()"
   ]
  },
  {
   "cell_type": "markdown",
   "id": "6ac69123",
   "metadata": {},
   "source": [
    "# Assignments for OOPS-3"
   ]
  },
  {
   "cell_type": "code",
   "execution_count": 1,
   "id": "d8d7f30a",
   "metadata": {},
   "outputs": [],
   "source": [
    "class smaller:\n",
    "    def __init__(self,a):\n",
    "        self.a = a\n",
    "        \n",
    "    def display(self):\n",
    "        if len(self.a)<6:\n",
    "            print('smaller')\n",
    "    \n",
    "    def evaluate(self):\n",
    "        vowels= 0 \n",
    "        for letters in self.a:\n",
    "            if letters in 'aeiouAEIOU':\n",
    "                vowels+=1\n",
    "        print(vowels)\n",
    "        \n",
    "class larger:\n",
    "    def __init__(self,a):\n",
    "        self.a = a\n",
    "        \n",
    "    def display(self):\n",
    "        if len(a.self)>6:\n",
    "            print('Larger')\n",
    "            \n",
    "    def evaluate(self):\n",
    "        consonants = 0\n",
    "        for letters in self.a:\n",
    "            if letters not in 'aeiouAEIOU':\n",
    "                consonants+=1\n",
    "        print(consonants)"
   ]
  },
  {
   "cell_type": "code",
   "execution_count": 4,
   "id": "f4f27b0a",
   "metadata": {},
   "outputs": [
    {
     "name": "stdout",
     "output_type": "stream",
     "text": [
      "2\n"
     ]
    }
   ],
   "source": [
    "a = smaller('Aman')\n",
    "a.evaluate()"
   ]
  },
  {
   "cell_type": "code",
   "execution_count": 5,
   "id": "2bd480b2",
   "metadata": {},
   "outputs": [
    {
     "name": "stdout",
     "output_type": "stream",
     "text": [
      "4\n"
     ]
    }
   ],
   "source": [
    "a = larger('scaler')\n",
    "a.evaluate()"
   ]
  },
  {
   "cell_type": "code",
   "execution_count": 8,
   "id": "3ffbbb7b",
   "metadata": {},
   "outputs": [
    {
     "name": "stdout",
     "output_type": "stream",
     "text": [
      "True\n"
     ]
    }
   ],
   "source": [
    "class A:\n",
    "\n",
    "    def __init__(self, x, y):\n",
    "\n",
    "        self.x = x\n",
    "        self.y = y\n",
    "\n",
    "    def __str__(self):\n",
    "\n",
    "        return 1\n",
    "    def __eq__(self, other):\n",
    "\n",
    "        return self.x * self.y == other.x * other.y\n",
    "\n",
    "obj1 = A(9, 8)\n",
    "obj2 = A(8, 9)\n",
    "print(obj1 == obj2)"
   ]
  },
  {
   "cell_type": "code",
   "execution_count": null,
   "id": "7aed4188",
   "metadata": {},
   "outputs": [],
   "source": []
  }
 ],
 "metadata": {
  "kernelspec": {
   "display_name": "Python 3 (ipykernel)",
   "language": "python",
   "name": "python3"
  },
  "language_info": {
   "codemirror_mode": {
    "name": "ipython",
    "version": 3
   },
   "file_extension": ".py",
   "mimetype": "text/x-python",
   "name": "python",
   "nbconvert_exporter": "python",
   "pygments_lexer": "ipython3",
   "version": "3.11.2"
  }
 },
 "nbformat": 4,
 "nbformat_minor": 5
}
