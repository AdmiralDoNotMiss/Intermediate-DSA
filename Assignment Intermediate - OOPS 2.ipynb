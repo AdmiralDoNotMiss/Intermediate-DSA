{
 "cells": [
  {
   "cell_type": "markdown",
   "id": "3075e453",
   "metadata": {},
   "source": [
    "# OOPS 2"
   ]
  },
  {
   "cell_type": "code",
   "execution_count": 5,
   "id": "7fb46bd7",
   "metadata": {},
   "outputs": [],
   "source": [
    "class student:\n",
    "    name = 'Radha'\n",
    "    def hello(self):\n",
    "        print(f'my name is {self.name}')\n",
    "        "
   ]
  },
  {
   "cell_type": "code",
   "execution_count": 6,
   "id": "5e4394a4",
   "metadata": {},
   "outputs": [
    {
     "name": "stdout",
     "output_type": "stream",
     "text": [
      "my name is krsna\n"
     ]
    }
   ],
   "source": [
    "student.hello(s1)"
   ]
  },
  {
   "cell_type": "code",
   "execution_count": 7,
   "id": "7107a014",
   "metadata": {},
   "outputs": [
    {
     "name": "stdout",
     "output_type": "stream",
     "text": [
      "krsna\n"
     ]
    },
    {
     "data": {
      "text/plain": [
       "<bound method student.hello of <__main__.student object at 0x0000024D3C2A57D0>>"
      ]
     },
     "execution_count": 7,
     "metadata": {},
     "output_type": "execute_result"
    }
   ],
   "source": [
    "s1 = student()\n",
    "s1.name = 'krsna'\n",
    "print(s1.name)\n",
    "s1.hello"
   ]
  },
  {
   "cell_type": "code",
   "execution_count": 8,
   "id": "6387ef07",
   "metadata": {},
   "outputs": [
    {
     "name": "stdout",
     "output_type": "stream",
     "text": [
      "Radha\n"
     ]
    }
   ],
   "source": [
    "s2 = student()\n",
    "print(s2.name)"
   ]
  },
  {
   "cell_type": "code",
   "execution_count": 9,
   "id": "3782d24c",
   "metadata": {},
   "outputs": [],
   "source": [
    "class student:\n",
    "    name = 'Radha'\n",
    "    hello = lambda self: print(f'my name is {self.name}')"
   ]
  },
  {
   "cell_type": "code",
   "execution_count": 19,
   "id": "3c749435",
   "metadata": {},
   "outputs": [
    {
     "name": "stdout",
     "output_type": "stream",
     "text": [
      "my name is krsna\n"
     ]
    }
   ],
   "source": [
    "student.hello(s1) # Here we are calling a f(n) on a class, this is called abstract class in c++"
   ]
  },
  {
   "cell_type": "code",
   "execution_count": 21,
   "id": "9b24334c",
   "metadata": {},
   "outputs": [
    {
     "name": "stdout",
     "output_type": "stream",
     "text": [
      "my name is Radha\n"
     ]
    }
   ],
   "source": [
    "s1 = student()\n",
    "s1.hello()"
   ]
  },
  {
   "cell_type": "code",
   "execution_count": 22,
   "id": "7024edfc",
   "metadata": {},
   "outputs": [
    {
     "name": "stdout",
     "output_type": "stream",
     "text": [
      "my name is Madhav\n"
     ]
    }
   ],
   "source": [
    "s3 = student()\n",
    "s3.name='Madhav'\n",
    "s3.hello()"
   ]
  },
  {
   "cell_type": "code",
   "execution_count": 27,
   "id": "a835a8bd",
   "metadata": {},
   "outputs": [],
   "source": [
    "class student:\n",
    "    def __init__(self,name,language):\n",
    "        self.name = name\n",
    "        self.language = language\n",
    "    \n",
    "    def say_hello(self):\n",
    "        print(f'my name is {self.name}')\n",
    "        "
   ]
  },
  {
   "cell_type": "code",
   "execution_count": 29,
   "id": "514d697e",
   "metadata": {},
   "outputs": [
    {
     "name": "stdout",
     "output_type": "stream",
     "text": [
      "Radha\n",
      "Braj\n"
     ]
    }
   ],
   "source": [
    "s1 = student('Radha','Braj')\n",
    "print(s1.name)\n",
    "print(s1.language)\n"
   ]
  },
  {
   "cell_type": "code",
   "execution_count": 30,
   "id": "a2f57d13",
   "metadata": {},
   "outputs": [],
   "source": [
    "class student:\n",
    "    name = 'Radha'\n",
    "    def hello(self):\n",
    "        print(f'hello my name is{self.name}')\n",
    "    def school():\n",
    "        return 'MAMS'"
   ]
  },
  {
   "cell_type": "code",
   "execution_count": 31,
   "id": "36f51d73",
   "metadata": {},
   "outputs": [
    {
     "data": {
      "text/plain": [
       "'MAMS'"
      ]
     },
     "execution_count": 31,
     "metadata": {},
     "output_type": "execute_result"
    }
   ],
   "source": [
    "student.school()"
   ]
  },
  {
   "cell_type": "code",
   "execution_count": 11,
   "id": "cb8f2ed9",
   "metadata": {},
   "outputs": [],
   "source": [
    "class math:\n",
    "    def add(a,b):\n",
    "        return a+b\n",
    "    def diff(a,b):\n",
    "        return a-b\n",
    "    "
   ]
  },
  {
   "cell_type": "code",
   "execution_count": 13,
   "id": "48a45bbd",
   "metadata": {},
   "outputs": [
    {
     "data": {
      "text/plain": [
       "2"
      ]
     },
     "execution_count": 13,
     "metadata": {},
     "output_type": "execute_result"
    }
   ],
   "source": [
    "m1 = math()\n",
    "math.diff(5,3)"
   ]
  },
  {
   "cell_type": "code",
   "execution_count": 70,
   "id": "b7199164",
   "metadata": {},
   "outputs": [],
   "source": [
    "class student:\n",
    "    name = 'Radha'\n",
    "    "
   ]
  },
  {
   "cell_type": "code",
   "execution_count": 71,
   "id": "606a89f5",
   "metadata": {},
   "outputs": [
    {
     "data": {
      "text/plain": [
       "'Radha'"
      ]
     },
     "execution_count": 71,
     "metadata": {},
     "output_type": "execute_result"
    }
   ],
   "source": [
    "s1 = student()\n",
    "s1.name"
   ]
  },
  {
   "cell_type": "code",
   "execution_count": 80,
   "id": "d62f3c35",
   "metadata": {},
   "outputs": [],
   "source": [
    "class student:\n",
    "    def __init__(self,name,language):\n",
    "        self.name = name\n",
    "        self.language = language"
   ]
  },
  {
   "cell_type": "code",
   "execution_count": 82,
   "id": "037ddefa",
   "metadata": {},
   "outputs": [],
   "source": [
    "s1 = student('Radha','Brij')"
   ]
  },
  {
   "cell_type": "code",
   "execution_count": 84,
   "id": "1fe9e83b",
   "metadata": {},
   "outputs": [
    {
     "name": "stdout",
     "output_type": "stream",
     "text": [
      "Radha\n"
     ]
    }
   ],
   "source": [
    "print(s1.name)"
   ]
  },
  {
   "cell_type": "code",
   "execution_count": 15,
   "id": "7d9ac684",
   "metadata": {},
   "outputs": [],
   "source": [
    "class schoolmember:\n",
    "    def __init__(self,name):\n",
    "        self.name = name\n",
    "    def say_hello(self):\n",
    "        print(f'Hello my name is {self.name}')"
   ]
  },
  {
   "cell_type": "code",
   "execution_count": 16,
   "id": "8b6bf60f",
   "metadata": {},
   "outputs": [],
   "source": [
    "class student(schoolmember):\n",
    "    def __init__(self,name,marks):\n",
    "        super().__init__(name)\n",
    "        self.marks = marks"
   ]
  },
  {
   "cell_type": "code",
   "execution_count": 17,
   "id": "7b82a3ac",
   "metadata": {},
   "outputs": [
    {
     "name": "stdout",
     "output_type": "stream",
     "text": [
      "Radha\n",
      "100\n"
     ]
    }
   ],
   "source": [
    "s1 = student('Radha',100)\n",
    "print(s1.name)\n",
    "print(s1.marks)"
   ]
  },
  {
   "cell_type": "code",
   "execution_count": 18,
   "id": "aa52db13",
   "metadata": {},
   "outputs": [],
   "source": [
    "class a:\n",
    "    pass\n",
    "class b(a):\n",
    "    x = 12\n",
    "class c(b):\n",
    "    pass\n",
    "class d(a):\n",
    "    x = 5\n",
    "    \n",
    "class e(c,d):\n",
    "    pass"
   ]
  },
  {
   "cell_type": "code",
   "execution_count": 19,
   "id": "afe24339",
   "metadata": {},
   "outputs": [
    {
     "data": {
      "text/plain": [
       "12"
      ]
     },
     "execution_count": 19,
     "metadata": {},
     "output_type": "execute_result"
    }
   ],
   "source": [
    "e.x"
   ]
  },
  {
   "cell_type": "code",
   "execution_count": 20,
   "id": "e1dcfc62",
   "metadata": {},
   "outputs": [
    {
     "data": {
      "text/plain": [
       "[__main__.e, __main__.c, __main__.b, __main__.d, __main__.a, object]"
      ]
     },
     "execution_count": 20,
     "metadata": {},
     "output_type": "execute_result"
    }
   ],
   "source": [
    "e.mro()"
   ]
  },
  {
   "cell_type": "code",
   "execution_count": null,
   "id": "f19ef870",
   "metadata": {},
   "outputs": [],
   "source": [
    "\n"
   ]
  },
  {
   "cell_type": "code",
   "execution_count": 21,
   "id": "3fa12d27",
   "metadata": {},
   "outputs": [
    {
     "name": "stdout",
     "output_type": "stream",
     "text": [
      "Radha\n"
     ]
    }
   ],
   "source": [
    "s1 = student('Radha',100)\n",
    "print(s1.name)"
   ]
  },
  {
   "cell_type": "code",
   "execution_count": 22,
   "id": "99ada48f",
   "metadata": {},
   "outputs": [
    {
     "name": "stdout",
     "output_type": "stream",
     "text": [
      "<bound method schoolmember.say_hello of <__main__.student object at 0x0000024D3C2A58D0>>\n"
     ]
    }
   ],
   "source": [
    "s2 = student('Radha',100)\n",
    "s2.say_hello\n",
    "print(s2.say_hello)"
   ]
  },
  {
   "cell_type": "markdown",
   "id": "9a29be48",
   "metadata": {},
   "source": [
    "# Assignments for OOPS2"
   ]
  },
  {
   "cell_type": "code",
   "execution_count": 23,
   "id": "27ccee6a",
   "metadata": {},
   "outputs": [
    {
     "name": "stdout",
     "output_type": "stream",
     "text": [
      "AI's check ML's check "
     ]
    }
   ],
   "source": [
    "class AI:\n",
    "    def check(self):\n",
    "        return \"AI's check\"\n",
    "    def display(self):\n",
    "        print(self.check(),end=\" \")\n",
    "\n",
    "class ML(AI):\n",
    "    def check(self):\n",
    "        return \"ML's check\"\n",
    "\n",
    "AI().display()\n",
    "ML().display()"
   ]
  },
  {
   "cell_type": "code",
   "execution_count": 24,
   "id": "44263e98",
   "metadata": {},
   "outputs": [
    {
     "name": "stdout",
     "output_type": "stream",
     "text": [
      "B\n"
     ]
    }
   ],
   "source": [
    "class A:\n",
    "    def one(self):\n",
    "        return self.two()\n",
    "    def two(self):\n",
    "        return 'A'\n",
    "class B(A):\n",
    "    def two(self):\n",
    "        return 'B'\n",
    "obj= B()\n",
    "print(obj.one())"
   ]
  },
  {
   "cell_type": "code",
   "execution_count": 25,
   "id": "0eafd2cf",
   "metadata": {},
   "outputs": [
    {
     "name": "stdout",
     "output_type": "stream",
     "text": [
      "Rachel\n",
      "Rachel says, Grrrr!\n"
     ]
    }
   ],
   "source": [
    "class A:\n",
    "    def __init__(self, name, sound=\"Grrrr\"):\n",
    "        self.name = name\n",
    "        self.sound = sound\n",
    "\n",
    "    def make_noise(self):\n",
    "        print(\"{} says, {}\".format(self.name,self.sound))\n",
    "\n",
    "class B(A):\n",
    "    def __init__(self, name=\"Rachel\"):\n",
    "        super().__init__(name, \"Meow!\")\n",
    "\n",
    "    def make_noise(self,sound=\"Grrrr!\"):\n",
    "        print(\"{} says, {}\".format(self.name, sound))\n",
    "\n",
    "pet_cat = B()\n",
    "print(pet_cat.name)\n",
    "pet_cat.make_noise()"
   ]
  },
  {
   "cell_type": "code",
   "execution_count": 26,
   "id": "cc6e844a",
   "metadata": {},
   "outputs": [],
   "source": [
    "class foo:\n",
    "    def __init__(self):\n",
    "        print('init in foo')\n",
    "        \n",
    "class Bar(foo):\n",
    "    def __init__(self):\n",
    "        super().__init__()\n",
    "        print('init in bar')\n",
    "        "
   ]
  },
  {
   "cell_type": "code",
   "execution_count": 29,
   "id": "f61d5a71",
   "metadata": {},
   "outputs": [
    {
     "name": "stdout",
     "output_type": "stream",
     "text": [
      "init in foo\n",
      "init in bar\n"
     ]
    }
   ],
   "source": [
    "obj = Bar()"
   ]
  },
  {
   "cell_type": "code",
   "execution_count": 30,
   "id": "3d9d5a53",
   "metadata": {},
   "outputs": [
    {
     "name": "stdout",
     "output_type": "stream",
     "text": [
      "200\n"
     ]
    }
   ],
   "source": [
    "class Employee:\n",
    "\n",
    "    def __init__(self, name, val):\n",
    "\n",
    "        self._name=name\n",
    "\n",
    "        self._salary=val\n",
    "\n",
    "e1=Employee(\"Rahul\",200)\n",
    "\n",
    "print(e1._salary)"
   ]
  },
  {
   "cell_type": "code",
   "execution_count": 5,
   "id": "dc450bf1",
   "metadata": {},
   "outputs": [],
   "source": [
    "class Parent:\n",
    "    def __init__(self):\n",
    "        pass\n",
    "    def print(self):\n",
    "        print(\"60\")\n",
    "\n",
    "class Child(Parent):\n",
    "    def __init__(self):\n",
    "        super().__init__()\n",
    "    def type(self):\n",
    "        super().print()"
   ]
  },
  {
   "cell_type": "code",
   "execution_count": 6,
   "id": "5360bc88",
   "metadata": {},
   "outputs": [
    {
     "name": "stdout",
     "output_type": "stream",
     "text": [
      "60\n"
     ]
    }
   ],
   "source": [
    "C=Child()\n",
    "C.type()"
   ]
  },
  {
   "cell_type": "code",
   "execution_count": 7,
   "id": "2287bf6f",
   "metadata": {},
   "outputs": [],
   "source": [
    "class Parent:\n",
    "    def __init__(self):\n",
    "        pass\n",
    "    def print(self):\n",
    "        print(\"60\")\n",
    "\n",
    "class Child(Parent):\n",
    "    def __init__(self):\n",
    "        super().__init__()\n",
    "    def type(self):\n",
    "        self.print()"
   ]
  },
  {
   "cell_type": "code",
   "execution_count": 8,
   "id": "180ad288",
   "metadata": {},
   "outputs": [
    {
     "name": "stdout",
     "output_type": "stream",
     "text": [
      "60\n"
     ]
    }
   ],
   "source": [
    "C=Child()\n",
    "C.type()"
   ]
  },
  {
   "cell_type": "code",
   "execution_count": 9,
   "id": "66ffc92c",
   "metadata": {},
   "outputs": [],
   "source": [
    "class Props:\n",
    "    def __init__(self, x, y):\n",
    "        self.x = x\n",
    "        self.y = y\n",
    "\n",
    "        \n",
    "class Ball(Props):\n",
    "    def __init__(self, x, y):\n",
    "        super().__init__(x, y)\n",
    "        self.shape = \"o\"\n",
    "        self.number = 1\n",
    "        self.vely = 0\n",
    "        self.velx = 0\n",
    "\n",
    "    def get_x(self):\n",
    "        return self.x\n",
    " \n",
    "    def get_y(self):\n",
    "        return self.y\n",
    "\n",
    "    def get_velx(self):\n",
    "        return self.velx\n",
    " \n",
    "    def get_vely(self):\n",
    "        return self.vely\n",
    "    \n",
    "    def inc_velx(self):\n",
    "        self.velx = self.velx+2\n",
    "    \n",
    "    def inc_vely(self):\n",
    "        self.vely = self.vely+1"
   ]
  },
  {
   "cell_type": "code",
   "execution_count": 10,
   "id": "7329fb43",
   "metadata": {},
   "outputs": [
    {
     "name": "stdout",
     "output_type": "stream",
     "text": [
      "27 3 0 0\n"
     ]
    }
   ],
   "source": [
    "obj_ball = Ball(27,3)\n",
    "\n",
    "bx = obj_ball.get_x()\n",
    "by = obj_ball.get_y()\n",
    "b_velx = obj_ball.get_velx()\n",
    "b_vely = obj_ball.get_vely()\n",
    "\n",
    "print(bx, by, b_velx, b_vely)"
   ]
  },
  {
   "cell_type": "code",
   "execution_count": 11,
   "id": "243bf98d",
   "metadata": {},
   "outputs": [],
   "source": [
    "class A:\n",
    "    def __init__(self):\n",
    "        self.multiply(15)\n",
    "        print(self.i)\n",
    "\n",
    "    def multiply(self, i):\n",
    "        self.i = 4 * i\n",
    "\n",
    "class B(A):\n",
    "    def __init__(self):\n",
    "        super().__init__()\n",
    "\n",
    "    def multiply(self, i):\n",
    "        self.i = 2 * i;"
   ]
  },
  {
   "cell_type": "code",
   "execution_count": 12,
   "id": "59568219",
   "metadata": {},
   "outputs": [
    {
     "name": "stdout",
     "output_type": "stream",
     "text": [
      "30\n"
     ]
    }
   ],
   "source": [
    "obj = B()"
   ]
  },
  {
   "cell_type": "code",
   "execution_count": null,
   "id": "dc2fc71d",
   "metadata": {},
   "outputs": [],
   "source": []
  }
 ],
 "metadata": {
  "kernelspec": {
   "display_name": "Python 3 (ipykernel)",
   "language": "python",
   "name": "python3"
  },
  "language_info": {
   "codemirror_mode": {
    "name": "ipython",
    "version": 3
   },
   "file_extension": ".py",
   "mimetype": "text/x-python",
   "name": "python",
   "nbconvert_exporter": "python",
   "pygments_lexer": "ipython3",
   "version": "3.11.2"
  }
 },
 "nbformat": 4,
 "nbformat_minor": 5
}
