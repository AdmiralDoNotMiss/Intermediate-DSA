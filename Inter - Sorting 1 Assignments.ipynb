{
 "cells": [
  {
   "cell_type": "code",
   "execution_count": 7,
   "id": "664053f9",
   "metadata": {},
   "outputs": [],
   "source": [
    "def accuracy_calculator(actual_labels,predicted_labels):\n",
    "    count = 0\n",
    "    for x in actual_labels:\n",
    "        pass\n",
    "    for y in predicted_labels:\n",
    "        if x == y:\n",
    "            count+=1\n",
    "    return count/len(actual_labels)*100"
   ]
  },
  {
   "cell_type": "code",
   "execution_count": 9,
   "id": "3b391f63",
   "metadata": {},
   "outputs": [
    {
     "data": {
      "text/plain": [
       "60.0"
      ]
     },
     "execution_count": 9,
     "metadata": {},
     "output_type": "execute_result"
    }
   ],
   "source": [
    "accuracy_calculator(['Dog','Dog','Cat','Cat','Cat'], ['Cat','Dog','Cat','Dog','Cat'])"
   ]
  },
  {
   "cell_type": "code",
   "execution_count": 10,
   "id": "73bba401",
   "metadata": {},
   "outputs": [
    {
     "data": {
      "text/plain": [
       "10"
      ]
     },
     "execution_count": 10,
     "metadata": {},
     "output_type": "execute_result"
    }
   ],
   "source": [
    "a ='10/07/2012'\n",
    "len(a)"
   ]
  },
  {
   "cell_type": "code",
   "execution_count": 15,
   "id": "c4e36534",
   "metadata": {},
   "outputs": [],
   "source": [
    "s = ['10/07/2012', '11/12/1995', '08/17/2000', '09/04/2004', '02/29/2001', '23/10/1998', '03/11/1996', '01/01/2016']"
   ]
  },
  {
   "cell_type": "code",
   "execution_count": 34,
   "id": "7c7a2f5a",
   "metadata": {},
   "outputs": [],
   "source": [
    "def age_computation(s):\n",
    "    current_age = []\n",
    "    current_year = 2022\n",
    "    for x in s:\n",
    "        computing = current_year - int(x[6:])\n",
    "        current_age.append(computing)\n",
    "    return current_age"
   ]
  },
  {
   "cell_type": "code",
   "execution_count": 35,
   "id": "ba2ff1d8",
   "metadata": {},
   "outputs": [
    {
     "data": {
      "text/plain": [
       "[10, 27, 22, 18, 21, 24, 26, 6]"
      ]
     },
     "execution_count": 35,
     "metadata": {},
     "output_type": "execute_result"
    }
   ],
   "source": [
    "age_computation(['10/07/2012', '11/12/1995', '08/17/2000', '09/04/2004', '02/29/2001', '23/10/1998', '03/11/1996', '01/01/2016'])"
   ]
  },
  {
   "cell_type": "code",
   "execution_count": 5,
   "id": "7c160240",
   "metadata": {},
   "outputs": [],
   "source": [
    "def insertionSort(arr):\n",
    "    value=0\n",
    "    for i in range(1,len(arr)+1):\n",
    "        value=arr[i-1]\n",
    "        j=i-1\n",
    "        while j >=0 and arr[j]> value: #Fill the blank\n",
    "            arr[j]=arr[j-1]\n",
    "            j=j-1\n",
    "        arr[j]=value\n",
    "    return arr "
   ]
  },
  {
   "cell_type": "code",
   "execution_count": 6,
   "id": "92d6fd8e",
   "metadata": {},
   "outputs": [
    {
     "data": {
      "text/plain": [
       "[7, 8, 9, 4, 5, 6]"
      ]
     },
     "execution_count": 6,
     "metadata": {},
     "output_type": "execute_result"
    }
   ],
   "source": [
    "insertionSort([7,8,9,4,5,6])"
   ]
  },
  {
   "cell_type": "code",
   "execution_count": 13,
   "id": "7a33f6c4",
   "metadata": {},
   "outputs": [],
   "source": [
    "def firstLastSum(array,k):\n",
    "    n = len(array)\n",
    "    for i in range(k):\n",
    "        for j in range(n-i-k):\n",
    "            if array[j]> array[j+1]:\n",
    "                array[j],array[j+1]=array[j+1],array[j]\n",
    "    print(array)\n",
    "    return array[0]+array[-1]"
   ]
  },
  {
   "cell_type": "code",
   "execution_count": 14,
   "id": "e99ae9c7",
   "metadata": {},
   "outputs": [
    {
     "name": "stdout",
     "output_type": "stream",
     "text": [
      "[12, 25, 34, 64, 22, 11, 90]\n"
     ]
    },
    {
     "data": {
      "text/plain": [
       "102"
      ]
     },
     "execution_count": 14,
     "metadata": {},
     "output_type": "execute_result"
    }
   ],
   "source": [
    "firstLastSum([64,34,25,12,22,11,90],4)"
   ]
  },
  {
   "cell_type": "code",
   "execution_count": 19,
   "id": "dd6b5191",
   "metadata": {},
   "outputs": [],
   "source": [
    "def middleValInsertionSort(array,k):\n",
    "    n = len(array)\n",
    "    for i in range(1,k):\n",
    "        j = i\n",
    "        while j > 0 and array[j] < array[j-1]:\n",
    "            swap(j,j-1,array)\n",
    "            \n",
    "    return array[(len(array)//2)]\n",
    "\n",
    "def swap(i,j,array):\n",
    "    array[i],array[j]=array[j],array[i]"
   ]
  },
  {
   "cell_type": "code",
   "execution_count": 20,
   "id": "4c5e27c1",
   "metadata": {},
   "outputs": [
    {
     "data": {
      "text/plain": [
       "13"
      ]
     },
     "execution_count": 20,
     "metadata": {},
     "output_type": "execute_result"
    }
   ],
   "source": [
    "middleValInsertionSort([12,11,13,5,6],2)"
   ]
  },
  {
   "cell_type": "code",
   "execution_count": 22,
   "id": "b7dd6f77",
   "metadata": {},
   "outputs": [],
   "source": [
    "def check_equal(a,b):\n",
    "    freqA = {}\n",
    "    for char in a:\n",
    "        if char in freqA:\n",
    "            freqA[char]+=1\n",
    "        else:\n",
    "            freqA = 1\n",
    "            \n",
    "    for charB in b:\n",
    "        if charB in freq:\n",
    "            freq[char]-=1\n",
    "        else:\n",
    "            return False\n",
    "    if freqA[char]==0:\n",
    "        return True\n",
    "        "
   ]
  },
  {
   "cell_type": "code",
   "execution_count": 23,
   "id": "c5c67824",
   "metadata": {},
   "outputs": [
    {
     "ename": "TypeError",
     "evalue": "argument of type 'int' is not iterable",
     "output_type": "error",
     "traceback": [
      "\u001b[1;31m---------------------------------------------------------------------------\u001b[0m",
      "\u001b[1;31mTypeError\u001b[0m                                 Traceback (most recent call last)",
      "Cell \u001b[1;32mIn[23], line 1\u001b[0m\n\u001b[1;32m----> 1\u001b[0m \u001b[43mcheck_equal\u001b[49m\u001b[43m(\u001b[49m\u001b[38;5;124;43m'\u001b[39;49m\u001b[38;5;124;43mabcd\u001b[39;49m\u001b[38;5;124;43m'\u001b[39;49m\u001b[43m,\u001b[49m\u001b[38;5;124;43m'\u001b[39;49m\u001b[38;5;124;43mabcd\u001b[39;49m\u001b[38;5;124;43m'\u001b[39;49m\u001b[43m)\u001b[49m\n",
      "Cell \u001b[1;32mIn[22], line 4\u001b[0m, in \u001b[0;36mcheck_equal\u001b[1;34m(a, b)\u001b[0m\n\u001b[0;32m      2\u001b[0m freqA \u001b[38;5;241m=\u001b[39m {}\n\u001b[0;32m      3\u001b[0m \u001b[38;5;28;01mfor\u001b[39;00m char \u001b[38;5;129;01min\u001b[39;00m a:\n\u001b[1;32m----> 4\u001b[0m     \u001b[38;5;28;01mif\u001b[39;00m \u001b[43mchar\u001b[49m\u001b[43m \u001b[49m\u001b[38;5;129;43;01min\u001b[39;49;00m\u001b[43m \u001b[49m\u001b[43mfreqA\u001b[49m:\n\u001b[0;32m      5\u001b[0m         freqA[char]\u001b[38;5;241m+\u001b[39m\u001b[38;5;241m=\u001b[39m\u001b[38;5;241m1\u001b[39m\n\u001b[0;32m      6\u001b[0m     \u001b[38;5;28;01melse\u001b[39;00m:\n",
      "\u001b[1;31mTypeError\u001b[0m: argument of type 'int' is not iterable"
     ]
    }
   ],
   "source": [
    "check_equal('abcd','abcd')"
   ]
  },
  {
   "cell_type": "code",
   "execution_count": 1,
   "id": "9a6a5e46",
   "metadata": {},
   "outputs": [],
   "source": [
    "def equalOrSmaller(array,target):\n",
    "    left = 0\n",
    "    right = len(array)-1\n",
    "    while left <= right:\n",
    "        middle = (left+right)//2\n",
    "        potentialMatch = array[middle]\n",
    "        if target < potentialMatch:\n",
    "            right = middle - 1\n",
    "        else:\n",
    "            ans = middle\n",
    "            left = middle + 1\n",
    "    return ans+1"
   ]
  },
  {
   "cell_type": "code",
   "execution_count": 3,
   "id": "92adffe0",
   "metadata": {},
   "outputs": [
    {
     "data": {
      "text/plain": [
       "2"
      ]
     },
     "execution_count": 3,
     "metadata": {},
     "output_type": "execute_result"
    }
   ],
   "source": [
    "equalOrSmaller([1, 2, 5, 5],3)"
   ]
  },
  {
   "cell_type": "code",
   "execution_count": 4,
   "id": "e3aa62af",
   "metadata": {},
   "outputs": [],
   "source": [
    "def insertAtRightPlace(array,target):\n",
    "    left = 0\n",
    "    right = len(array)-1\n",
    "    while left <= right:\n",
    "        middle = left + (right-left)//2\n",
    "        potentialMatch = array[middle]\n",
    "        if target == potentialMatch:\n",
    "            return middle\n",
    "        elif target < potentialMatch:\n",
    "            right = middle -1\n",
    "        else:\n",
    "            left = middle + 1\n",
    "    return left"
   ]
  },
  {
   "cell_type": "code",
   "execution_count": 7,
   "id": "befe60c6",
   "metadata": {},
   "outputs": [
    {
     "data": {
      "text/plain": [
       "1"
      ]
     },
     "execution_count": 7,
     "metadata": {},
     "output_type": "execute_result"
    }
   ],
   "source": [
    "insertAtRightPlace([1],2)"
   ]
  },
  {
   "cell_type": "code",
   "execution_count": null,
   "id": "c9ab8ba1",
   "metadata": {},
   "outputs": [],
   "source": []
  }
 ],
 "metadata": {
  "kernelspec": {
   "display_name": "Python 3 (ipykernel)",
   "language": "python",
   "name": "python3"
  },
  "language_info": {
   "codemirror_mode": {
    "name": "ipython",
    "version": 3
   },
   "file_extension": ".py",
   "mimetype": "text/x-python",
   "name": "python",
   "nbconvert_exporter": "python",
   "pygments_lexer": "ipython3",
   "version": "3.11.2"
  }
 },
 "nbformat": 4,
 "nbformat_minor": 5
}
