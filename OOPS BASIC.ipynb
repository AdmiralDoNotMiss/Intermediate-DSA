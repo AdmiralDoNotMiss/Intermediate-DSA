{
 "cells": [
  {
   "cell_type": "markdown",
   "id": "1cc5b2c6",
   "metadata": {},
   "source": [
    "# OOPS BASIC\n"
   ]
  },
  {
   "cell_type": "code",
   "execution_count": 13,
   "id": "eaaac65f",
   "metadata": {},
   "outputs": [],
   "source": [
    "class student:\n",
    "    name = 'Radha'\n",
    "    age = 22\n",
    "    email = 'kamalsharmasoniks@gmail.com'\n",
    "    phone = 8168017430\n",
    "    \n",
    "        "
   ]
  },
  {
   "cell_type": "code",
   "execution_count": 14,
   "id": "18885008",
   "metadata": {},
   "outputs": [
    {
     "name": "stdout",
     "output_type": "stream",
     "text": [
      "Radha\n",
      "22\n",
      "kamalsharmasoniks@gmail.com\n",
      "8168017430\n"
     ]
    }
   ],
   "source": [
    "s = student()\n",
    "print(s.name)\n",
    "print(s.age)\n",
    "print(s.email)\n",
    "print(s.phone)"
   ]
  },
  {
   "cell_type": "code",
   "execution_count": 15,
   "id": "7f8fdd7d",
   "metadata": {},
   "outputs": [
    {
     "name": "stdout",
     "output_type": "stream",
     "text": [
      "<__main__.student object at 0x000001FBB41E9E50>\n"
     ]
    }
   ],
   "source": [
    "print(s)"
   ]
  },
  {
   "cell_type": "markdown",
   "id": "a8700427",
   "metadata": {},
   "source": [
    "# 2nd class"
   ]
  },
  {
   "cell_type": "code",
   "execution_count": 20,
   "id": "6c15d2a4",
   "metadata": {},
   "outputs": [
    {
     "name": "stdout",
     "output_type": "stream",
     "text": [
      "<class '__main__.student'>\n"
     ]
    }
   ],
   "source": [
    "class student:\n",
    "    name = 'Radha'\n",
    "    age = 'Ananta'\n",
    "    print(student)\n",
    "    "
   ]
  },
  {
   "cell_type": "code",
   "execution_count": 21,
   "id": "d5573b91",
   "metadata": {},
   "outputs": [],
   "source": [
    "# Creating object"
   ]
  },
  {
   "cell_type": "code",
   "execution_count": 22,
   "id": "f56725cd",
   "metadata": {},
   "outputs": [
    {
     "name": "stdout",
     "output_type": "stream",
     "text": [
      "<__main__.student object at 0x000001FBB41F0B50>\n"
     ]
    }
   ],
   "source": [
    "s = student()\n",
    "print(s)"
   ]
  },
  {
   "cell_type": "code",
   "execution_count": 23,
   "id": "c4b2fcd0",
   "metadata": {},
   "outputs": [
    {
     "name": "stdout",
     "output_type": "stream",
     "text": [
      "Radha\n",
      "Ananta\n"
     ]
    }
   ],
   "source": [
    "# Access DATA\n",
    "print(s.name)\n",
    "print(s.age)"
   ]
  },
  {
   "cell_type": "markdown",
   "id": "2865724a",
   "metadata": {},
   "source": [
    "# Self Keyword"
   ]
  },
  {
   "cell_type": "code",
   "execution_count": 29,
   "id": "8e990804",
   "metadata": {},
   "outputs": [],
   "source": [
    "class student:\n",
    "    name = 'Radha'\n",
    "    age = 24\n",
    "    \n",
    "    def join_class(self):\n",
    "        print('The student has joined the class')"
   ]
  },
  {
   "cell_type": "code",
   "execution_count": 30,
   "id": "41b5eac2",
   "metadata": {},
   "outputs": [
    {
     "name": "stdout",
     "output_type": "stream",
     "text": [
      "The student has joined the class\n"
     ]
    }
   ],
   "source": [
    "# Access Function\n",
    "s = student()\n",
    "s.join_class()"
   ]
  },
  {
   "cell_type": "code",
   "execution_count": 26,
   "id": "a57d44da",
   "metadata": {},
   "outputs": [],
   "source": [
    "class student:\n",
    "    name = 'Radha'\n",
    "    age = 22\n",
    "    \n",
    "    def join_class(self,T):\n",
    "        print(f'The student {self.name} has joined the class after{T} seconds')"
   ]
  },
  {
   "cell_type": "code",
   "execution_count": 27,
   "id": "4d3f3b27",
   "metadata": {},
   "outputs": [
    {
     "name": "stdout",
     "output_type": "stream",
     "text": [
      "The studentKrishna has joined the class after10 seconds\n"
     ]
    }
   ],
   "source": [
    "s2 = student()\n",
    "s2.name='Krishna'\n",
    "s2.age = '24'\n",
    "s2.join_class(10)"
   ]
  },
  {
   "cell_type": "code",
   "execution_count": null,
   "id": "77f59e37",
   "metadata": {},
   "outputs": [],
   "source": []
  },
  {
   "cell_type": "code",
   "execution_count": null,
   "id": "990ff4aa",
   "metadata": {},
   "outputs": [],
   "source": []
  },
  {
   "cell_type": "code",
   "execution_count": null,
   "id": "dd05280d",
   "metadata": {},
   "outputs": [],
   "source": []
  }
 ],
 "metadata": {
  "kernelspec": {
   "display_name": "Python 3 (ipykernel)",
   "language": "python",
   "name": "python3"
  },
  "language_info": {
   "codemirror_mode": {
    "name": "ipython",
    "version": 3
   },
   "file_extension": ".py",
   "mimetype": "text/x-python",
   "name": "python",
   "nbconvert_exporter": "python",
   "pygments_lexer": "ipython3",
   "version": "3.11.2"
  }
 },
 "nbformat": 4,
 "nbformat_minor": 5
}
