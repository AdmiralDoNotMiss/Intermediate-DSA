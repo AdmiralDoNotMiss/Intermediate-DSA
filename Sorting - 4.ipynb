{
 "cells": [
  {
   "cell_type": "code",
   "execution_count": 9,
   "id": "a105025c",
   "metadata": {},
   "outputs": [],
   "source": [
    "def selection_sort(array):\n",
    "    for i in range(0,len(array)-1):\n",
    "        min = i\n",
    "        for j in range(i+1,len(array)):\n",
    "            if array[j] < array[min]:\n",
    "                min = j\n",
    "            temp = array[min]\n",
    "            array[min]=array[i]\n",
    "            array[i]=temp\n",
    "    return array"
   ]
  },
  {
   "cell_type": "code",
   "execution_count": 10,
   "id": "ccc9ffd8",
   "metadata": {},
   "outputs": [
    {
     "data": {
      "text/plain": [
       "[1, 2, 3, 4, 5]"
      ]
     },
     "execution_count": 10,
     "metadata": {},
     "output_type": "execute_result"
    }
   ],
   "source": [
    "selection_sort([5,4,3,2,1])"
   ]
  },
  {
   "cell_type": "code",
   "execution_count": 11,
   "id": "88aeabc7",
   "metadata": {},
   "outputs": [
    {
     "name": "stdout",
     "output_type": "stream",
     "text": [
      "['alpha', 'beta', 'delta', 'gamma']\n"
     ]
    }
   ],
   "source": [
    "def selectionSort(strs): \n",
    "    for i in range(len(strs)): \n",
    "        smallest = i \n",
    "        for j in range(i + 1, len(strs)): \n",
    "            if strs[j] < strs[smallest]: \n",
    "                smallest = j \n",
    "        strs[smallest], strs[i] = strs[i], strs[smallest] \n",
    "    return strs \n",
    "  \n",
    "# Driver code \n",
    "strs = ['alpha', 'gamma', 'beta', 'delta'] \n",
    "print(selectionSort(strs))"
   ]
  },
  {
   "cell_type": "code",
   "execution_count": null,
   "id": "0bee28b7",
   "metadata": {},
   "outputs": [],
   "source": []
  }
 ],
 "metadata": {
  "kernelspec": {
   "display_name": "Python 3 (ipykernel)",
   "language": "python",
   "name": "python3"
  },
  "language_info": {
   "codemirror_mode": {
    "name": "ipython",
    "version": 3
   },
   "file_extension": ".py",
   "mimetype": "text/x-python",
   "name": "python",
   "nbconvert_exporter": "python",
   "pygments_lexer": "ipython3",
   "version": "3.11.2"
  }
 },
 "nbformat": 4,
 "nbformat_minor": 5
}
