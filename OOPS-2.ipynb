{
 "cells": [
  {
   "cell_type": "markdown",
   "id": "3075e453",
   "metadata": {},
   "source": [
    "# OOPS 2"
   ]
  },
  {
   "cell_type": "code",
   "execution_count": 38,
   "id": "7fb46bd7",
   "metadata": {},
   "outputs": [],
   "source": [
    "class student:\n",
    "    name = 'Radha'\n",
    "    def hello(self):\n",
    "        print(f'my name is {self.name}')\n",
    "        "
   ]
  },
  {
   "cell_type": "code",
   "execution_count": 41,
   "id": "5e4394a4",
   "metadata": {},
   "outputs": [
    {
     "data": {
      "text/plain": [
       "'Radha'"
      ]
     },
     "execution_count": 41,
     "metadata": {},
     "output_type": "execute_result"
    }
   ],
   "source": [
    "student.hello(s1)"
   ]
  },
  {
   "cell_type": "code",
   "execution_count": 9,
   "id": "7107a014",
   "metadata": {},
   "outputs": [
    {
     "name": "stdout",
     "output_type": "stream",
     "text": [
      "krsna\n"
     ]
    },
    {
     "data": {
      "text/plain": [
       "<bound method student.hello of <__main__.student object at 0x000001D252195AD0>>"
      ]
     },
     "execution_count": 9,
     "metadata": {},
     "output_type": "execute_result"
    }
   ],
   "source": [
    "s1 = student()\n",
    "s1.name = 'krsna'\n",
    "print(s1.name)\n",
    "s1.hello"
   ]
  },
  {
   "cell_type": "code",
   "execution_count": 10,
   "id": "6387ef07",
   "metadata": {},
   "outputs": [
    {
     "name": "stdout",
     "output_type": "stream",
     "text": [
      "Radha\n"
     ]
    }
   ],
   "source": [
    "s2 = student()\n",
    "print(s2.name)"
   ]
  },
  {
   "cell_type": "code",
   "execution_count": 17,
   "id": "3782d24c",
   "metadata": {},
   "outputs": [],
   "source": [
    "class student:\n",
    "    name = 'Radha'\n",
    "    hello = lambda self: print(f'my name is {self.name}')"
   ]
  },
  {
   "cell_type": "code",
   "execution_count": 19,
   "id": "3c749435",
   "metadata": {},
   "outputs": [
    {
     "name": "stdout",
     "output_type": "stream",
     "text": [
      "my name is krsna\n"
     ]
    }
   ],
   "source": [
    "student.hello(s1) # Here we are calling a f(n) on a class, this is called abstract class in c++"
   ]
  },
  {
   "cell_type": "code",
   "execution_count": 21,
   "id": "9b24334c",
   "metadata": {},
   "outputs": [
    {
     "name": "stdout",
     "output_type": "stream",
     "text": [
      "my name is Radha\n"
     ]
    }
   ],
   "source": [
    "s1 = student()\n",
    "s1.hello()"
   ]
  },
  {
   "cell_type": "code",
   "execution_count": 22,
   "id": "7024edfc",
   "metadata": {},
   "outputs": [
    {
     "name": "stdout",
     "output_type": "stream",
     "text": [
      "my name is Madhav\n"
     ]
    }
   ],
   "source": [
    "s3 = student()\n",
    "s3.name='Madhav'\n",
    "s3.hello()"
   ]
  },
  {
   "cell_type": "code",
   "execution_count": 27,
   "id": "a835a8bd",
   "metadata": {},
   "outputs": [],
   "source": [
    "class student:\n",
    "    def __init__(self,name,language):\n",
    "        self.name = name\n",
    "        self.language = language\n",
    "    \n",
    "    def say_hello(self):\n",
    "        print(f'my name is {self.name}')\n",
    "        "
   ]
  },
  {
   "cell_type": "code",
   "execution_count": 29,
   "id": "514d697e",
   "metadata": {},
   "outputs": [
    {
     "name": "stdout",
     "output_type": "stream",
     "text": [
      "Radha\n",
      "Braj\n"
     ]
    }
   ],
   "source": [
    "s1 = student('Radha','Braj')\n",
    "print(s1.name)\n",
    "print(s1.language)\n"
   ]
  },
  {
   "cell_type": "code",
   "execution_count": 30,
   "id": "a2f57d13",
   "metadata": {},
   "outputs": [],
   "source": [
    "class student:\n",
    "    name = 'Radha'\n",
    "    def hello(self):\n",
    "        print(f'hello my name is{self.name}')\n",
    "    def school():\n",
    "        return 'MAMS'"
   ]
  },
  {
   "cell_type": "code",
   "execution_count": 31,
   "id": "36f51d73",
   "metadata": {},
   "outputs": [
    {
     "data": {
      "text/plain": [
       "'MAMS'"
      ]
     },
     "execution_count": 31,
     "metadata": {},
     "output_type": "execute_result"
    }
   ],
   "source": [
    "student.school()"
   ]
  },
  {
   "cell_type": "code",
   "execution_count": 51,
   "id": "cb8f2ed9",
   "metadata": {},
   "outputs": [],
   "source": [
    "class math:\n",
    "    def add(a,b):\n",
    "        return a+b\n",
    "    def diff(a,b):\n",
    "        return a-b\n",
    "    "
   ]
  },
  {
   "cell_type": "code",
   "execution_count": 54,
   "id": "48a45bbd",
   "metadata": {},
   "outputs": [
    {
     "data": {
      "text/plain": [
       "2"
      ]
     },
     "execution_count": 54,
     "metadata": {},
     "output_type": "execute_result"
    }
   ],
   "source": [
    "math.diff(5,3)"
   ]
  },
  {
   "cell_type": "code",
   "execution_count": 70,
   "id": "b7199164",
   "metadata": {},
   "outputs": [],
   "source": [
    "class student:\n",
    "    name = 'Radha'\n",
    "    "
   ]
  },
  {
   "cell_type": "code",
   "execution_count": 71,
   "id": "606a89f5",
   "metadata": {},
   "outputs": [
    {
     "data": {
      "text/plain": [
       "'Radha'"
      ]
     },
     "execution_count": 71,
     "metadata": {},
     "output_type": "execute_result"
    }
   ],
   "source": [
    "s1 = student()\n",
    "s1.name"
   ]
  },
  {
   "cell_type": "code",
   "execution_count": 80,
   "id": "d62f3c35",
   "metadata": {},
   "outputs": [],
   "source": [
    "class student:\n",
    "    def __init__(self,name,language):\n",
    "        self.name = name\n",
    "        self.language = language"
   ]
  },
  {
   "cell_type": "code",
   "execution_count": 82,
   "id": "037ddefa",
   "metadata": {},
   "outputs": [],
   "source": [
    "s1 = student('Radha','Brij')"
   ]
  },
  {
   "cell_type": "code",
   "execution_count": 84,
   "id": "1fe9e83b",
   "metadata": {},
   "outputs": [
    {
     "name": "stdout",
     "output_type": "stream",
     "text": [
      "Radha\n"
     ]
    }
   ],
   "source": [
    "print(s1.name)"
   ]
  },
  {
   "cell_type": "code",
   "execution_count": 85,
   "id": "7d9ac684",
   "metadata": {},
   "outputs": [],
   "source": [
    "class schoolmember:\n",
    "    def __init__(self,name):\n",
    "        self.name = name\n",
    "    def say_hello(self):\n",
    "        print(f'Hello my name is {self.name}')"
   ]
  },
  {
   "cell_type": "code",
   "execution_count": 89,
   "id": "8b6bf60f",
   "metadata": {},
   "outputs": [],
   "source": [
    "class student(schoolmember):\n",
    "    def __init__(self,name,marks):\n",
    "        super().__init__(name)\n",
    "        self.marks = marks"
   ]
  },
  {
   "cell_type": "code",
   "execution_count": 90,
   "id": "7b82a3ac",
   "metadata": {},
   "outputs": [
    {
     "name": "stdout",
     "output_type": "stream",
     "text": [
      "Radha\n"
     ]
    }
   ],
   "source": [
    "s1 = student('Radha',100)\n",
    "print(s1.name)\n"
   ]
  },
  {
   "cell_type": "code",
   "execution_count": 93,
   "id": "aa52db13",
   "metadata": {},
   "outputs": [],
   "source": [
    "class a:\n",
    "    pass\n",
    "class b(a):\n",
    "    x = 12\n",
    "class c(b):\n",
    "    pass\n",
    "class d(a):\n",
    "    x = 5\n",
    "    \n",
    "class e(c,d):\n",
    "    pass"
   ]
  },
  {
   "cell_type": "code",
   "execution_count": 94,
   "id": "afe24339",
   "metadata": {},
   "outputs": [
    {
     "data": {
      "text/plain": [
       "12"
      ]
     },
     "execution_count": 94,
     "metadata": {},
     "output_type": "execute_result"
    }
   ],
   "source": [
    "e.x"
   ]
  },
  {
   "cell_type": "code",
   "execution_count": 95,
   "id": "e1dcfc62",
   "metadata": {},
   "outputs": [
    {
     "data": {
      "text/plain": [
       "[__main__.e, __main__.c, __main__.b, __main__.d, __main__.a, object]"
      ]
     },
     "execution_count": 95,
     "metadata": {},
     "output_type": "execute_result"
    }
   ],
   "source": [
    "e.mro()"
   ]
  },
  {
   "cell_type": "code",
   "execution_count": 96,
   "id": "f19ef870",
   "metadata": {},
   "outputs": [],
   "source": [
    "\n"
   ]
  },
  {
   "cell_type": "code",
   "execution_count": 99,
   "id": "3fa12d27",
   "metadata": {},
   "outputs": [
    {
     "name": "stdout",
     "output_type": "stream",
     "text": [
      "Radha\n"
     ]
    }
   ],
   "source": [
    "s1 = student('Radha',100)\n",
    "print(s1.name)"
   ]
  },
  {
   "cell_type": "code",
   "execution_count": 103,
   "id": "99ada48f",
   "metadata": {},
   "outputs": [
    {
     "name": "stdout",
     "output_type": "stream",
     "text": [
      "<bound method student.say_hello of <__main__.student object at 0x000001D252854B50>>\n"
     ]
    }
   ],
   "source": [
    "s2 = student('Radha',100)\n",
    "s2.say_hello\n",
    "print(s2.say_hello)"
   ]
  },
  {
   "cell_type": "markdown",
   "id": "9a29be48",
   "metadata": {},
   "source": [
    "# Assignments for OOPS2"
   ]
  },
  {
   "cell_type": "code",
   "execution_count": 104,
   "id": "27ccee6a",
   "metadata": {},
   "outputs": [
    {
     "name": "stdout",
     "output_type": "stream",
     "text": [
      "AI's check ML's check "
     ]
    }
   ],
   "source": [
    "class AI:\n",
    "    def check(self):\n",
    "        return \"AI's check\"\n",
    "    def display(self):\n",
    "        print(self.check(),end=\" \")\n",
    "\n",
    "class ML(AI):\n",
    "    def check(self):\n",
    "        return \"ML's check\"\n",
    "\n",
    "AI().display()\n",
    "ML().display()"
   ]
  },
  {
   "cell_type": "code",
   "execution_count": 105,
   "id": "44263e98",
   "metadata": {},
   "outputs": [
    {
     "name": "stdout",
     "output_type": "stream",
     "text": [
      "B\n"
     ]
    }
   ],
   "source": [
    "class A:\n",
    "    def one(self):\n",
    "        return self.two()\n",
    "    def two(self):\n",
    "        return 'A'\n",
    "class B(A):\n",
    "    def two(self):\n",
    "        return 'B'\n",
    "obj= B()\n",
    "print(obj.one())"
   ]
  },
  {
   "cell_type": "code",
   "execution_count": 111,
   "id": "0eafd2cf",
   "metadata": {},
   "outputs": [
    {
     "name": "stdout",
     "output_type": "stream",
     "text": [
      "Rachel\n",
      "Rachel says, Grrrr!\n"
     ]
    }
   ],
   "source": [
    "class A:\n",
    "    def __init__(self, name, sound=\"Grrrr\"):\n",
    "        self.name = name\n",
    "        self.sound = sound\n",
    "\n",
    "    def make_noise(self):\n",
    "        print(\"{} says, {}\".format(self.name,self.sound))\n",
    "\n",
    "class B(A):\n",
    "    def __init__(self, name=\"Rachel\"):\n",
    "        super().__init__(name, \"Meow!\")\n",
    "\n",
    "    def make_noise(self,sound=\"Grrrr!\"):\n",
    "        print(\"{} says, {}\".format(self.name, sound))\n",
    "\n",
    "pet_cat = B()\n",
    "print(pet_cat.name)\n",
    "pet_cat.make_noise()"
   ]
  },
  {
   "cell_type": "code",
   "execution_count": null,
   "id": "cc6e844a",
   "metadata": {},
   "outputs": [],
   "source": []
  },
  {
   "cell_type": "code",
   "execution_count": null,
   "id": "f61d5a71",
   "metadata": {},
   "outputs": [],
   "source": []
  }
 ],
 "metadata": {
  "kernelspec": {
   "display_name": "Python 3 (ipykernel)",
   "language": "python",
   "name": "python3"
  },
  "language_info": {
   "codemirror_mode": {
    "name": "ipython",
    "version": 3
   },
   "file_extension": ".py",
   "mimetype": "text/x-python",
   "name": "python",
   "nbconvert_exporter": "python",
   "pygments_lexer": "ipython3",
   "version": "3.11.2"
  }
 },
 "nbformat": 4,
 "nbformat_minor": 5
}
