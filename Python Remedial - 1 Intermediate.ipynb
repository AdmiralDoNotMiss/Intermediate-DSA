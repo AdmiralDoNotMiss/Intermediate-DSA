{
 "cells": [
  {
   "cell_type": "code",
   "execution_count": 6,
   "id": "2312af2b",
   "metadata": {},
   "outputs": [],
   "source": [
    "def s2(x):\n",
    "    e = 2.718281\n",
    "    return_value = 1/(1+e**(-x))\n",
    "    return return_value"
   ]
  },
  {
   "cell_type": "code",
   "execution_count": 7,
   "id": "f965ee8b",
   "metadata": {},
   "outputs": [],
   "source": [
    "x = [(i/10) for i in range(-100,100)]"
   ]
  },
  {
   "cell_type": "code",
   "execution_count": 8,
   "id": "a07f1cc3",
   "metadata": {},
   "outputs": [],
   "source": [
    "s_x = [s2(i) for i in x]"
   ]
  },
  {
   "cell_type": "code",
   "execution_count": 1,
   "id": "c12a484b",
   "metadata": {},
   "outputs": [
    {
     "ename": "ModuleNotFoundError",
     "evalue": "No module named 'matplotlib'",
     "output_type": "error",
     "traceback": [
      "\u001b[1;31m---------------------------------------------------------------------------\u001b[0m",
      "\u001b[1;31mModuleNotFoundError\u001b[0m                       Traceback (most recent call last)",
      "Cell \u001b[1;32mIn[1], line 1\u001b[0m\n\u001b[1;32m----> 1\u001b[0m \u001b[38;5;28;01mfrom\u001b[39;00m \u001b[38;5;21;01mmatplotlib\u001b[39;00m \u001b[38;5;28;01mimport\u001b[39;00m pyplot \u001b[38;5;28;01mas\u001b[39;00m plt\n",
      "\u001b[1;31mModuleNotFoundError\u001b[0m: No module named 'matplotlib'"
     ]
    }
   ],
   "source": [
    "from matplotlib import pyplot as plt\n"
   ]
  },
  {
   "cell_type": "markdown",
   "id": "89981cce",
   "metadata": {},
   "source": [
    "# Lambda"
   ]
  },
  {
   "cell_type": "code",
   "execution_count": 2,
   "id": "fcafdf1c",
   "metadata": {},
   "outputs": [],
   "source": [
    "def f(x,y):\n",
    "    return x**2+y**2"
   ]
  },
  {
   "cell_type": "code",
   "execution_count": 3,
   "id": "e6504689",
   "metadata": {},
   "outputs": [],
   "source": [
    "f = lambda x,y: x**2+y**2"
   ]
  },
  {
   "cell_type": "code",
   "execution_count": 7,
   "id": "9a4725f4",
   "metadata": {},
   "outputs": [
    {
     "name": "stdout",
     "output_type": "stream",
     "text": [
      "9825631\n",
      "None\n",
      "Radha\n",
      "None\n",
      "krsna\n",
      "None\n"
     ]
    }
   ],
   "source": [
    "# use cases for lambda:\n",
    "# 1. for math expressions:\n",
    "square = lambda x: x**2\n",
    "\n",
    "# 2 for conditional expressions:\n",
    "is_odd = lambda x: x%2!=0\n",
    "\n",
    "#3 Access certain elements inside a complex data structure.\n",
    "data_base = [{'name':'A','pswd':'9825631'},{'name':'B','pswd':'Radha'},{'name':'C','pswd':'krsna'}]\n",
    "print_pswd = lambda x: print(x['pswd'])\n",
    "for x in data_base:\n",
    "    print(print_pswd(x))"
   ]
  },
  {
   "cell_type": "code",
   "execution_count": 8,
   "id": "6e54e57a",
   "metadata": {},
   "outputs": [],
   "source": [
    "def f(x):\n",
    "    return x**2"
   ]
  },
  {
   "cell_type": "code",
   "execution_count": 9,
   "id": "91979377",
   "metadata": {},
   "outputs": [
    {
     "data": {
      "text/plain": [
       "64"
      ]
     },
     "execution_count": 9,
     "metadata": {},
     "output_type": "execute_result"
    }
   ],
   "source": [
    "a = f\n",
    "a(8)"
   ]
  },
  {
   "cell_type": "code",
   "execution_count": 10,
   "id": "69e7416d",
   "metadata": {},
   "outputs": [],
   "source": [
    "def old_name(x):\n",
    "    return x**3"
   ]
  },
  {
   "cell_type": "code",
   "execution_count": 11,
   "id": "2177bcc3",
   "metadata": {},
   "outputs": [
    {
     "data": {
      "text/plain": [
       "125"
      ]
     },
     "execution_count": 11,
     "metadata": {},
     "output_type": "execute_result"
    }
   ],
   "source": [
    "new_name = old_name\n",
    "new_name(5)"
   ]
  },
  {
   "cell_type": "code",
   "execution_count": 12,
   "id": "e008327d",
   "metadata": {},
   "outputs": [
    {
     "name": "stdout",
     "output_type": "stream",
     "text": [
      "True\n",
      "16\n"
     ]
    }
   ],
   "source": [
    "def do_something(something,arg):\n",
    "    print(something(arg))\n",
    "    \n",
    "do_something(is_odd,3)\n",
    "do_something(square,4)"
   ]
  },
  {
   "cell_type": "code",
   "execution_count": 18,
   "id": "28312c21",
   "metadata": {},
   "outputs": [
    {
     "name": "stdout",
     "output_type": "stream",
     "text": [
      "0\n",
      "2\n",
      "4\n",
      "6\n",
      "8\n"
     ]
    }
   ],
   "source": [
    "def fancy_print(list,condition):\n",
    "    for x in list:\n",
    "        if condition(x):\n",
    "            print(x)\n",
    "is_even = lambda b: b%2==0\n",
    "numbers = list(range(10))\n",
    "fancy_print(numbers,is_even)\n",
    "\n"
   ]
  },
  {
   "cell_type": "code",
   "execution_count": 21,
   "id": "48711a49",
   "metadata": {},
   "outputs": [],
   "source": [
    "def get_exp(a):\n",
    "    def out_func(x):\n",
    "        return a**x\n",
    "    return out_func"
   ]
  },
  {
   "cell_type": "code",
   "execution_count": 23,
   "id": "fb742287",
   "metadata": {},
   "outputs": [
    {
     "name": "stdout",
     "output_type": "stream",
     "text": [
      "9\n",
      "81\n",
      "729\n",
      "6561\n"
     ]
    }
   ],
   "source": [
    "l = [1,2,3,4]\n",
    "a = 9\n",
    "nine_to_the_pow = get_exp(a)\n",
    "for x in l:\n",
    "    print(nine_to_the_pow(x))"
   ]
  },
  {
   "cell_type": "code",
   "execution_count": 24,
   "id": "41724813",
   "metadata": {},
   "outputs": [],
   "source": [
    "def f(x):\n",
    "    aaaa=10\n",
    "    return x+aaaa"
   ]
  },
  {
   "cell_type": "code",
   "execution_count": 25,
   "id": "b1256d86",
   "metadata": {},
   "outputs": [
    {
     "ename": "NameError",
     "evalue": "name 'aaaa' is not defined",
     "output_type": "error",
     "traceback": [
      "\u001b[1;31m---------------------------------------------------------------------------\u001b[0m",
      "\u001b[1;31mNameError\u001b[0m                                 Traceback (most recent call last)",
      "Cell \u001b[1;32mIn[25], line 1\u001b[0m\n\u001b[1;32m----> 1\u001b[0m \u001b[38;5;28mprint\u001b[39m(\u001b[43maaaa\u001b[49m)\n",
      "\u001b[1;31mNameError\u001b[0m: name 'aaaa' is not defined"
     ]
    }
   ],
   "source": [
    "print(aaaa)"
   ]
  },
  {
   "cell_type": "code",
   "execution_count": null,
   "id": "c9fbf51f",
   "metadata": {},
   "outputs": [],
   "source": []
  }
 ],
 "metadata": {
  "kernelspec": {
   "display_name": "Python 3 (ipykernel)",
   "language": "python",
   "name": "python3"
  },
  "language_info": {
   "codemirror_mode": {
    "name": "ipython",
    "version": 3
   },
   "file_extension": ".py",
   "mimetype": "text/x-python",
   "name": "python",
   "nbconvert_exporter": "python",
   "pygments_lexer": "ipython3",
   "version": "3.11.2"
  }
 },
 "nbformat": 4,
 "nbformat_minor": 5
}
