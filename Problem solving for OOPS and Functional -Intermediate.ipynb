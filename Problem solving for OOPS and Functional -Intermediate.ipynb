{
 "cells": [
  {
   "cell_type": "markdown",
   "id": "739bf067",
   "metadata": {},
   "source": [
    "# Zip function\n"
   ]
  },
  {
   "cell_type": "code",
   "execution_count": 6,
   "id": "6cb2c7e2",
   "metadata": {},
   "outputs": [
    {
     "name": "stdout",
     "output_type": "stream",
     "text": [
      "('A', 100)('B', 50)('C', 80)('D', 90)"
     ]
    }
   ],
   "source": [
    "names = ['A','B','C','D']\n",
    "marks= [100,50,80,90]\n",
    "for x in zip(names,marks):\n",
    "    print(x,end='')"
   ]
  },
  {
   "cell_type": "code",
   "execution_count": 7,
   "id": "e5bb3401",
   "metadata": {},
   "outputs": [
    {
     "data": {
      "text/plain": [
       "[('A', 100), ('B', 50), ('C', 80), ('D', 90)]"
      ]
     },
     "execution_count": 7,
     "metadata": {},
     "output_type": "execute_result"
    }
   ],
   "source": [
    "list(zip(names,marks))"
   ]
  },
  {
   "cell_type": "code",
   "execution_count": 10,
   "id": "eaf1041f",
   "metadata": {},
   "outputs": [],
   "source": [
    "names = ['A','B','C','D']\n",
    "marks= [100,50,80,90]\n",
    "sections = ['A','A','B','B']"
   ]
  },
  {
   "cell_type": "code",
   "execution_count": 11,
   "id": "95241581",
   "metadata": {},
   "outputs": [
    {
     "name": "stdout",
     "output_type": "stream",
     "text": [
      "('A', 100, 'A')('B', 50, 'A')('C', 80, 'B')('D', 90, 'B')"
     ]
    }
   ],
   "source": [
    "for x in zip(names,marks,sections):\n",
    "    print(x,end='')"
   ]
  },
  {
   "cell_type": "markdown",
   "id": "3cc4ed3c",
   "metadata": {},
   "source": [
    "# Tuple unpacking"
   ]
  },
  {
   "cell_type": "code",
   "execution_count": 12,
   "id": "091e2d9f",
   "metadata": {},
   "outputs": [
    {
     "name": "stdout",
     "output_type": "stream",
     "text": [
      "A 100 A\n",
      "B 50 A\n",
      "C 80 B\n",
      "D 90 B\n"
     ]
    }
   ],
   "source": [
    "for name,score,section in zip(names,marks,sections):\n",
    "    print(name,score,section)"
   ]
  },
  {
   "cell_type": "markdown",
   "id": "dd49a3d1",
   "metadata": {},
   "source": [
    "# Edge case"
   ]
  },
  {
   "cell_type": "code",
   "execution_count": 13,
   "id": "626959d0",
   "metadata": {},
   "outputs": [],
   "source": [
    "A = ['a','b','c','d','e']\n",
    "B = [100,200,400]"
   ]
  },
  {
   "cell_type": "code",
   "execution_count": 14,
   "id": "5a92c5d3",
   "metadata": {},
   "outputs": [
    {
     "name": "stdout",
     "output_type": "stream",
     "text": [
      "('a', 100)\n",
      "('b', 200)\n",
      "('c', 400)\n"
     ]
    }
   ],
   "source": [
    "for x in zip(A,B):\n",
    "    print(x)"
   ]
  },
  {
   "cell_type": "markdown",
   "id": "ecbd19cc",
   "metadata": {},
   "source": [
    "# zip in dict"
   ]
  },
  {
   "cell_type": "code",
   "execution_count": 19,
   "id": "af7b51c7",
   "metadata": {},
   "outputs": [],
   "source": [
    "d = {'name':'Radha', 'language':'Brij'}\n",
    "l =[1,2]"
   ]
  },
  {
   "cell_type": "code",
   "execution_count": 25,
   "id": "46586795",
   "metadata": {},
   "outputs": [
    {
     "data": {
      "text/plain": [
       "[('name', 1), ('language', 2)]"
      ]
     },
     "execution_count": 25,
     "metadata": {},
     "output_type": "execute_result"
    }
   ],
   "source": [
    "list(zip(d,l))"
   ]
  },
  {
   "cell_type": "markdown",
   "id": "e21346a4",
   "metadata": {},
   "source": [
    "# Decorator"
   ]
  },
  {
   "cell_type": "code",
   "execution_count": 27,
   "id": "2b5bad9a",
   "metadata": {},
   "outputs": [],
   "source": []
  },
  {
   "cell_type": "code",
   "execution_count": 47,
   "id": "681d4971",
   "metadata": {},
   "outputs": [],
   "source": [
    "def sheldon_knock():\n",
    "    print('knock knock knock leonard')\n",
    "    print('knock knock knock leonard')\n",
    "    print('knock knock knock leonard')"
   ]
  },
  {
   "cell_type": "code",
   "execution_count": 48,
   "id": "3de2608d",
   "metadata": {},
   "outputs": [
    {
     "data": {
      "text/plain": [
       "<function __main__.sheldon_knock()>"
      ]
     },
     "execution_count": 48,
     "metadata": {},
     "output_type": "execute_result"
    }
   ],
   "source": [
    "sheldon_knock"
   ]
  },
  {
   "cell_type": "code",
   "execution_count": 63,
   "id": "25d9cff7",
   "metadata": {},
   "outputs": [],
   "source": [
    "def bar(sheldon_knock):\n",
    "    def res():\n",
    "        print('start executing')\n",
    "        sheldon_knock()\n",
    "        print('end executing')\n",
    "    return res"
   ]
  },
  {
   "cell_type": "code",
   "execution_count": 64,
   "id": "f260ca36",
   "metadata": {},
   "outputs": [],
   "source": [
    "@bar\n",
    "def sheldon_knock():\n",
    "    print('knock knock knock leonard')\n",
    "    print('knock knock knock leonard')\n",
    "    print('knock knock knock leonard')"
   ]
  },
  {
   "cell_type": "code",
   "execution_count": 66,
   "id": "11a69fa6",
   "metadata": {},
   "outputs": [
    {
     "name": "stdout",
     "output_type": "stream",
     "text": [
      "start executing\n",
      "knock knock knock leonard\n",
      "knock knock knock leonard\n",
      "knock knock knock leonard\n",
      "end executing\n"
     ]
    }
   ],
   "source": [
    "sheldon_knock()"
   ]
  },
  {
   "cell_type": "code",
   "execution_count": 73,
   "id": "8096c006",
   "metadata": {},
   "outputs": [],
   "source": [
    "def star_dec(f):\n",
    "    def wrapper(*args,**kwargs):\n",
    "        print('*'*10)\n",
    "        ret = f(*args,**kwargs)\n",
    "        print('*'*10)\n",
    "        return ret\n",
    "    return wrapper"
   ]
  },
  {
   "cell_type": "code",
   "execution_count": 74,
   "id": "299b383f",
   "metadata": {},
   "outputs": [],
   "source": [
    "@star_dec\n",
    "def square(x):\n",
    "    return x**2"
   ]
  },
  {
   "cell_type": "code",
   "execution_count": 77,
   "id": "1effd25d",
   "metadata": {},
   "outputs": [
    {
     "name": "stdout",
     "output_type": "stream",
     "text": [
      "**********\n",
      "**********\n",
      "25\n"
     ]
    }
   ],
   "source": [
    "a = square(5)\n",
    "print(a)"
   ]
  },
  {
   "cell_type": "markdown",
   "id": "bc3d30db",
   "metadata": {},
   "source": [
    "# second smallest element"
   ]
  },
  {
   "cell_type": "code",
   "execution_count": 86,
   "id": "89e87902",
   "metadata": {},
   "outputs": [],
   "source": [
    "def second_smallest(arr):\n",
    "    return sorted(set(arr))[1]\n"
   ]
  },
  {
   "cell_type": "code",
   "execution_count": 88,
   "id": "88b49c88",
   "metadata": {},
   "outputs": [
    {
     "data": {
      "text/plain": [
       "2"
      ]
     },
     "execution_count": 88,
     "metadata": {},
     "output_type": "execute_result"
    }
   ],
   "source": [
    "second_smallest([1,1,2,4,5,6])\n",
    "#Not efficient"
   ]
  },
  {
   "cell_type": "code",
   "execution_count": 89,
   "id": "6134f868",
   "metadata": {},
   "outputs": [],
   "source": [
    "def second_smallest(arr):\n",
    "    arr = list(set(arr))\n",
    "    smallest,second_smallest = arr[:2]\n",
    "    \n",
    "    for a in arr[2:]:\n",
    "        if a < smallest:\n",
    "            second_smallest = smallest\n",
    "            smallest = a\n",
    "        elif smallest< a< second_smallest:\n",
    "            second_smallest = a\n",
    "        elif a > second_smallest:\n",
    "            pass\n",
    "    return second_smallest"
   ]
  },
  {
   "cell_type": "code",
   "execution_count": 90,
   "id": "47717520",
   "metadata": {},
   "outputs": [
    {
     "data": {
      "text/plain": [
       "2"
      ]
     },
     "execution_count": 90,
     "metadata": {},
     "output_type": "execute_result"
    }
   ],
   "source": [
    "second_smallest([1,2,3,4,5,6])"
   ]
  },
  {
   "cell_type": "code",
   "execution_count": 101,
   "id": "b94e2533",
   "metadata": {},
   "outputs": [],
   "source": [
    "arr = [1,1,2,2,3,3,4,4]\n",
    "from functools import reduce\n",
    "smallest = reduce(lambda acc,x : acc if acc<x else x ,arr)"
   ]
  },
  {
   "cell_type": "code",
   "execution_count": 102,
   "id": "20787470",
   "metadata": {},
   "outputs": [],
   "source": [
    "arr_without_smallest = filter(lambda x: x!= smallest,arr)\n",
    "second_smallest = reduce(lambda acc,x : acc if acc < x else x, arr_without_smallest)"
   ]
  },
  {
   "cell_type": "code",
   "execution_count": 104,
   "id": "1165d3c7",
   "metadata": {},
   "outputs": [
    {
     "name": "stdout",
     "output_type": "stream",
     "text": [
      "2\n"
     ]
    }
   ],
   "source": [
    "print(second_smallest)"
   ]
  },
  {
   "cell_type": "code",
   "execution_count": 105,
   "id": "024c7b91",
   "metadata": {},
   "outputs": [],
   "source": [
    "list = [(1,1),(2,3),(3,1)]\n",
    "list.sort(key=lambda x : x[1])"
   ]
  },
  {
   "cell_type": "code",
   "execution_count": 106,
   "id": "ac126f7f",
   "metadata": {},
   "outputs": [
    {
     "name": "stdout",
     "output_type": "stream",
     "text": [
      "[(1, 1), (3, 1), (2, 3)]\n"
     ]
    }
   ],
   "source": [
    "print(list)"
   ]
  },
  {
   "cell_type": "code",
   "execution_count": 107,
   "id": "5345ba53",
   "metadata": {},
   "outputs": [],
   "source": [
    "class A:\n",
    "    def __a(self):\n",
    "        print('test')"
   ]
  },
  {
   "cell_type": "code",
   "execution_count": 112,
   "id": "b68249ce",
   "metadata": {},
   "outputs": [
    {
     "name": "stdout",
     "output_type": "stream",
     "text": [
      "test\n"
     ]
    }
   ],
   "source": [
    "aa = A()\n",
    "\n",
    "aa._A__a()"
   ]
  },
  {
   "cell_type": "code",
   "execution_count": 120,
   "id": "b48f5d56",
   "metadata": {},
   "outputs": [],
   "source": [
    "class A:\n",
    "    def __str__(self):\n",
    "        return('string form of a')"
   ]
  },
  {
   "cell_type": "code",
   "execution_count": 121,
   "id": "c207565c",
   "metadata": {},
   "outputs": [
    {
     "data": {
      "text/plain": [
       "'string form of a'"
      ]
     },
     "execution_count": 121,
     "metadata": {},
     "output_type": "execute_result"
    }
   ],
   "source": [
    "a = A()\n",
    "str(a)\n"
   ]
  },
  {
   "cell_type": "code",
   "execution_count": 134,
   "id": "a4fdf08e",
   "metadata": {},
   "outputs": [],
   "source": [
    "class A:\n",
    "    def __init__(self,name):\n",
    "        self.name = name\n",
    "        \n",
    "    @property\n",
    "    def something(self):\n",
    "        print('executing this function')\n",
    "        return self.name"
   ]
  },
  {
   "cell_type": "code",
   "execution_count": 135,
   "id": "d0ceafb6",
   "metadata": {},
   "outputs": [
    {
     "name": "stdout",
     "output_type": "stream",
     "text": [
      "executing this function\n"
     ]
    },
    {
     "data": {
      "text/plain": [
       "'scaler'"
      ]
     },
     "execution_count": 135,
     "metadata": {},
     "output_type": "execute_result"
    }
   ],
   "source": [
    "a = A('scaler')\n",
    "a.something"
   ]
  },
  {
   "cell_type": "code",
   "execution_count": 136,
   "id": "af910ba9",
   "metadata": {},
   "outputs": [],
   "source": [
    "def is_email_valid(email):\n",
    "    if len(email.split('@'))!=2:\n",
    "        return False\n",
    "    user,domain = email.split('@')\n",
    "    \n",
    "    if not domain or not user:\n",
    "        return False\n",
    "    if len(user)>20:\n",
    "        return False\n",
    "    return True"
   ]
  },
  {
   "cell_type": "code",
   "execution_count": null,
   "id": "2321cd71",
   "metadata": {},
   "outputs": [],
   "source": []
  },
  {
   "cell_type": "code",
   "execution_count": null,
   "id": "51d05ee1",
   "metadata": {},
   "outputs": [],
   "source": []
  }
 ],
 "metadata": {
  "kernelspec": {
   "display_name": "Python 3 (ipykernel)",
   "language": "python",
   "name": "python3"
  },
  "language_info": {
   "codemirror_mode": {
    "name": "ipython",
    "version": 3
   },
   "file_extension": ".py",
   "mimetype": "text/x-python",
   "name": "python",
   "nbconvert_exporter": "python",
   "pygments_lexer": "ipython3",
   "version": "3.11.2"
  }
 },
 "nbformat": 4,
 "nbformat_minor": 5
}
