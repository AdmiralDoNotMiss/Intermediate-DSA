{
 "cells": [
  {
   "cell_type": "markdown",
   "id": "9a6c73af",
   "metadata": {},
   "source": [
    "# OOPS BASIC\n"
   ]
  },
  {
   "cell_type": "code",
   "execution_count": 13,
   "id": "78c52cf2",
   "metadata": {},
   "outputs": [],
   "source": [
    "class student:\n",
    "    name = 'Radha'\n",
    "    age = 22\n",
    "    email = 'kamalsharmasoniks@gmail.com'\n",
    "    phone = 8168017430\n",
    "    \n",
    "        "
   ]
  },
  {
   "cell_type": "code",
   "execution_count": 14,
   "id": "9b8d8753",
   "metadata": {},
   "outputs": [
    {
     "name": "stdout",
     "output_type": "stream",
     "text": [
      "Radha\n",
      "22\n",
      "kamalsharmasoniks@gmail.com\n",
      "8168017430\n"
     ]
    }
   ],
   "source": [
    "s = student()\n",
    "print(s.name)\n",
    "print(s.age)\n",
    "print(s.email)\n",
    "print(s.phone)"
   ]
  },
  {
   "cell_type": "code",
   "execution_count": 15,
   "id": "e705aa80",
   "metadata": {},
   "outputs": [
    {
     "name": "stdout",
     "output_type": "stream",
     "text": [
      "<__main__.student object at 0x000001FBB41E9E50>\n"
     ]
    }
   ],
   "source": [
    "print(s)"
   ]
  },
  {
   "cell_type": "markdown",
   "id": "fee61610",
   "metadata": {},
   "source": [
    "# 2nd class"
   ]
  },
  {
   "cell_type": "code",
   "execution_count": 20,
   "id": "6051456e",
   "metadata": {},
   "outputs": [
    {
     "name": "stdout",
     "output_type": "stream",
     "text": [
      "<class '__main__.student'>\n"
     ]
    }
   ],
   "source": [
    "class student:\n",
    "    name = 'Radha'\n",
    "    age = 'Ananta'\n",
    "    print(student)\n",
    "    "
   ]
  },
  {
   "cell_type": "code",
   "execution_count": 21,
   "id": "c21c749d",
   "metadata": {},
   "outputs": [],
   "source": [
    "# Creating object"
   ]
  },
  {
   "cell_type": "code",
   "execution_count": 22,
   "id": "ecf9a1ae",
   "metadata": {},
   "outputs": [
    {
     "name": "stdout",
     "output_type": "stream",
     "text": [
      "<__main__.student object at 0x000001FBB41F0B50>\n"
     ]
    }
   ],
   "source": [
    "s = student()\n",
    "print(s)"
   ]
  },
  {
   "cell_type": "code",
   "execution_count": 23,
   "id": "f09688c1",
   "metadata": {},
   "outputs": [
    {
     "name": "stdout",
     "output_type": "stream",
     "text": [
      "Radha\n",
      "Ananta\n"
     ]
    }
   ],
   "source": [
    "# Access DATA\n",
    "print(s.name)\n",
    "print(s.age)"
   ]
  },
  {
   "cell_type": "markdown",
   "id": "d031c6a9",
   "metadata": {},
   "source": [
    "# Self Keyword"
   ]
  },
  {
   "cell_type": "code",
   "execution_count": 29,
   "id": "4b9036e6",
   "metadata": {},
   "outputs": [],
   "source": [
    "class student:\n",
    "    name = 'Radha'\n",
    "    age = 24\n",
    "    \n",
    "    def join_class(self):\n",
    "        print('The student has joined the class')"
   ]
  },
  {
   "cell_type": "code",
   "execution_count": 30,
   "id": "c9a38c0c",
   "metadata": {},
   "outputs": [
    {
     "name": "stdout",
     "output_type": "stream",
     "text": [
      "The student has joined the class\n"
     ]
    }
   ],
   "source": [
    "# Access Function\n",
    "s = student()\n",
    "s.join_class()"
   ]
  },
  {
   "cell_type": "code",
   "execution_count": 26,
   "id": "8ba3514a",
   "metadata": {},
   "outputs": [],
   "source": [
    "class student:\n",
    "    name = 'Radha'\n",
    "    age = 22\n",
    "    \n",
    "    def join_class(self,T):\n",
    "        print(f'The student {self.name} has joined the class after{T} seconds')"
   ]
  },
  {
   "cell_type": "code",
   "execution_count": 27,
   "id": "7de1d8d5",
   "metadata": {},
   "outputs": [
    {
     "name": "stdout",
     "output_type": "stream",
     "text": [
      "The studentKrishna has joined the class after10 seconds\n"
     ]
    }
   ],
   "source": [
    "s2 = student()\n",
    "s2.name='Krishna'\n",
    "s2.age = '24'\n",
    "s2.join_class(10)"
   ]
  },
  {
   "cell_type": "code",
   "execution_count": null,
   "id": "2e11e55d",
   "metadata": {},
   "outputs": [],
   "source": []
  },
  {
   "cell_type": "code",
   "execution_count": null,
   "id": "62b5e026",
   "metadata": {},
   "outputs": [],
   "source": []
  },
  {
   "cell_type": "code",
   "execution_count": null,
   "id": "58d9a892",
   "metadata": {},
   "outputs": [],
   "source": []
  }
 ],
 "metadata": {
  "kernelspec": {
   "display_name": "Python 3 (ipykernel)",
   "language": "python",
   "name": "python3"
  },
  "language_info": {
   "codemirror_mode": {
    "name": "ipython",
    "version": 3
   },
   "file_extension": ".py",
   "mimetype": "text/x-python",
   "name": "python",
   "nbconvert_exporter": "python",
   "pygments_lexer": "ipython3",
   "version": "3.11.2"
  }
 },
 "nbformat": 4,
 "nbformat_minor": 5
}
