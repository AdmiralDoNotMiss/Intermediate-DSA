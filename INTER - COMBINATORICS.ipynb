{
 "cells": [
  {
   "cell_type": "code",
   "execution_count": 1,
   "id": "8760e63e",
   "metadata": {},
   "outputs": [],
   "source": [
    "def check_freq(array):\n",
    "    \n",
    "    freq = {}\n",
    "    for char in array:\n",
    "        if char in freq:\n",
    "            freq[char]+=1\n",
    "        else:\n",
    "            freq[char]=1\n",
    "    return freq"
   ]
  },
  {
   "cell_type": "code",
   "execution_count": 3,
   "id": "c079b536",
   "metadata": {},
   "outputs": [
    {
     "data": {
      "text/plain": [
       "{1: 4, 2: 1, 3: 1}"
      ]
     },
     "execution_count": 3,
     "metadata": {},
     "output_type": "execute_result"
    }
   ],
   "source": [
    "check_freq([1 ,2 ,3 ,1 ,1 ,1])"
   ]
  },
  {
   "cell_type": "code",
   "execution_count": 4,
   "id": "faf28b1d",
   "metadata": {},
   "outputs": [],
   "source": [
    "dict = {1 : 'apple',2: 'banana', 3: 'orange'}\n",
    "dict[1]= 'strawberry'"
   ]
  },
  {
   "cell_type": "code",
   "execution_count": 5,
   "id": "81af5b78",
   "metadata": {},
   "outputs": [
    {
     "name": "stdout",
     "output_type": "stream",
     "text": [
      "{1: 'strawberry', 2: 'banana', 3: 'orange'}\n"
     ]
    }
   ],
   "source": [
    "print(dict)"
   ]
  },
  {
   "cell_type": "code",
   "execution_count": null,
   "id": "80cd10e8",
   "metadata": {},
   "outputs": [],
   "source": []
  }
 ],
 "metadata": {
  "kernelspec": {
   "display_name": "Python 3 (ipykernel)",
   "language": "python",
   "name": "python3"
  },
  "language_info": {
   "codemirror_mode": {
    "name": "ipython",
    "version": 3
   },
   "file_extension": ".py",
   "mimetype": "text/x-python",
   "name": "python",
   "nbconvert_exporter": "python",
   "pygments_lexer": "ipython3",
   "version": "3.11.2"
  }
 },
 "nbformat": 4,
 "nbformat_minor": 5
}
